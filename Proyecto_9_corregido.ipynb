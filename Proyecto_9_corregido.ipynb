{
 "cells": [
  {
   "cell_type": "markdown",
   "metadata": {},
   "source": [
    "# Analitica de métricas y Recomendaciones de Marketing para al empresa Showz"
   ]
  },
  {
   "cell_type": "markdown",
   "metadata": {},
   "source": [
    "##  Objetivo "
   ]
  },
  {
   "cell_type": "markdown",
   "metadata": {},
   "source": [
    "Optimizar los gastos de Marketing de la empresa Showz encargada de la venta de boletos para eventos"
   ]
  },
  {
   "cell_type": "markdown",
   "metadata": {},
   "source": [
    "Para la resolución y análisis de estos datos es necesario tener en mente las siguientes preguntas que son clave para acercarnos a una conclusión mas acertada. \n",
    "\n",
    "¿Cómo los clientes usan el servicio?\n",
    "¿Cuándo empiezan a comprar?\n",
    "¿Cuánto dinero aporta cada cliente a la compañía?\n",
    "¿Cuándo los ingresos cubren el costo de adquisición de los clientes?"
   ]
  },
  {
   "cell_type": "markdown",
   "metadata": {},
   "source": [
    "## Visualizacion y exploración de datos"
   ]
  },
  {
   "cell_type": "code",
   "execution_count": 84,
   "metadata": {},
   "outputs": [],
   "source": [
    "#Se importan las librerias que se van a utilizar en el desarrollo del análisis\n",
    "\n",
    "import pandas as pd\n",
    "import numpy as np\n",
    "import matplotlib.pyplot as plt\n",
    "import datetime\n",
    "import seaborn as sns\n"
   ]
  },
  {
   "cell_type": "code",
   "execution_count": 85,
   "metadata": {},
   "outputs": [],
   "source": [
    "#Cargue de los DF correspondientes\n",
    "\n",
    "visitas=pd.read_csv('/datasets/visits_log_us.csv') \n",
    "ordenes=pd.read_csv('/datasets/orders_log_us.csv')\n",
    "costos=pd.read_csv('/datasets/costs_us.csv')"
   ]
  },
  {
   "cell_type": "markdown",
   "metadata": {},
   "source": [
    "### Visitas"
   ]
  },
  {
   "cell_type": "code",
   "execution_count": 86,
   "metadata": {},
   "outputs": [
    {
     "name": "stdout",
     "output_type": "stream",
     "text": [
      "<class 'pandas.core.frame.DataFrame'>\n",
      "RangeIndex: 359400 entries, 0 to 359399\n",
      "Data columns (total 5 columns):\n",
      " #   Column     Non-Null Count   Dtype \n",
      "---  ------     --------------   ----- \n",
      " 0   Device     359400 non-null  object\n",
      " 1   End Ts     359400 non-null  object\n",
      " 2   Source Id  359400 non-null  int64 \n",
      " 3   Start Ts   359400 non-null  object\n",
      " 4   Uid        359400 non-null  uint64\n",
      "dtypes: int64(1), object(3), uint64(1)\n",
      "memory usage: 13.7+ MB\n"
     ]
    }
   ],
   "source": [
    "#Visualización del primer DF\n",
    "visitas.info()"
   ]
  },
  {
   "cell_type": "code",
   "execution_count": 87,
   "metadata": {},
   "outputs": [
    {
     "name": "stdout",
     "output_type": "stream",
     "text": [
      "Index(['device', 'end_ts', 'source_id', 'start_ts', 'uid'], dtype='object')\n"
     ]
    }
   ],
   "source": [
    "#Cambio de los nombres de las columnas. Se reemplazan los espacios por escritura sanke case y las mayusculas por minusculas\n",
    "\n",
    "new_columns=[]\n",
    "\n",
    "for column in visitas.columns:\n",
    "    modified_columns=column.lower().replace(\" \",\"_\")\n",
    "    new_columns.append(modified_columns)\n",
    "    \n",
    "visitas.columns=new_columns\n",
    "\n",
    "print(visitas.columns)"
   ]
  },
  {
   "cell_type": "code",
   "execution_count": 88,
   "metadata": {},
   "outputs": [
    {
     "name": "stdout",
     "output_type": "stream",
     "text": [
      "<class 'pandas.core.frame.DataFrame'>\n",
      "RangeIndex: 359400 entries, 0 to 359399\n",
      "Data columns (total 5 columns):\n",
      " #   Column     Non-Null Count   Dtype         \n",
      "---  ------     --------------   -----         \n",
      " 0   device     359400 non-null  object        \n",
      " 1   end_ts     359400 non-null  datetime64[ns]\n",
      " 2   source_id  359400 non-null  int64         \n",
      " 3   start_ts   359400 non-null  datetime64[ns]\n",
      " 4   uid        359400 non-null  uint64        \n",
      "dtypes: datetime64[ns](2), int64(1), object(1), uint64(1)\n",
      "memory usage: 13.7+ MB\n"
     ]
    }
   ],
   "source": [
    "#Se cambia el tipo de dato de las columnas ends_ts y start_ts a tipo datetime\n",
    "\n",
    "visitas['start_ts']=pd.to_datetime(visitas['start_ts'])\n",
    "visitas['end_ts']=pd.to_datetime(visitas['end_ts'])\n",
    "\n",
    "visitas.info()"
   ]
  },
  {
   "cell_type": "code",
   "execution_count": 89,
   "metadata": {},
   "outputs": [
    {
     "data": {
      "text/html": [
       "<div>\n",
       "<style scoped>\n",
       "    .dataframe tbody tr th:only-of-type {\n",
       "        vertical-align: middle;\n",
       "    }\n",
       "\n",
       "    .dataframe tbody tr th {\n",
       "        vertical-align: top;\n",
       "    }\n",
       "\n",
       "    .dataframe thead th {\n",
       "        text-align: right;\n",
       "    }\n",
       "</style>\n",
       "<table border=\"1\" class=\"dataframe\">\n",
       "  <thead>\n",
       "    <tr style=\"text-align: right;\">\n",
       "      <th></th>\n",
       "      <th>device</th>\n",
       "      <th>end_ts</th>\n",
       "      <th>source_id</th>\n",
       "      <th>start_ts</th>\n",
       "      <th>uid</th>\n",
       "    </tr>\n",
       "  </thead>\n",
       "  <tbody>\n",
       "    <tr>\n",
       "      <th>0</th>\n",
       "      <td>touch</td>\n",
       "      <td>2017-12-20 17:38:00</td>\n",
       "      <td>4</td>\n",
       "      <td>2017-12-20 17:20:00</td>\n",
       "      <td>16879256277535980062</td>\n",
       "    </tr>\n",
       "    <tr>\n",
       "      <th>1</th>\n",
       "      <td>desktop</td>\n",
       "      <td>2018-02-19 17:21:00</td>\n",
       "      <td>2</td>\n",
       "      <td>2018-02-19 16:53:00</td>\n",
       "      <td>104060357244891740</td>\n",
       "    </tr>\n",
       "    <tr>\n",
       "      <th>2</th>\n",
       "      <td>touch</td>\n",
       "      <td>2017-07-01 01:54:00</td>\n",
       "      <td>5</td>\n",
       "      <td>2017-07-01 01:54:00</td>\n",
       "      <td>7459035603376831527</td>\n",
       "    </tr>\n",
       "    <tr>\n",
       "      <th>3</th>\n",
       "      <td>desktop</td>\n",
       "      <td>2018-05-20 11:23:00</td>\n",
       "      <td>9</td>\n",
       "      <td>2018-05-20 10:59:00</td>\n",
       "      <td>16174680259334210214</td>\n",
       "    </tr>\n",
       "    <tr>\n",
       "      <th>4</th>\n",
       "      <td>desktop</td>\n",
       "      <td>2017-12-27 14:06:00</td>\n",
       "      <td>3</td>\n",
       "      <td>2017-12-27 14:06:00</td>\n",
       "      <td>9969694820036681168</td>\n",
       "    </tr>\n",
       "    <tr>\n",
       "      <th>5</th>\n",
       "      <td>desktop</td>\n",
       "      <td>2017-09-03 21:36:00</td>\n",
       "      <td>5</td>\n",
       "      <td>2017-09-03 21:35:00</td>\n",
       "      <td>16007536194108375387</td>\n",
       "    </tr>\n",
       "    <tr>\n",
       "      <th>6</th>\n",
       "      <td>desktop</td>\n",
       "      <td>2018-01-30 12:09:00</td>\n",
       "      <td>1</td>\n",
       "      <td>2018-01-30 11:13:00</td>\n",
       "      <td>6661610529277171451</td>\n",
       "    </tr>\n",
       "    <tr>\n",
       "      <th>7</th>\n",
       "      <td>touch</td>\n",
       "      <td>2017-11-05 15:15:00</td>\n",
       "      <td>3</td>\n",
       "      <td>2017-11-05 15:14:00</td>\n",
       "      <td>11423865690854540312</td>\n",
       "    </tr>\n",
       "    <tr>\n",
       "      <th>8</th>\n",
       "      <td>desktop</td>\n",
       "      <td>2017-07-19 10:44:00</td>\n",
       "      <td>3</td>\n",
       "      <td>2017-07-19 10:41:00</td>\n",
       "      <td>2987360259350925644</td>\n",
       "    </tr>\n",
       "    <tr>\n",
       "      <th>9</th>\n",
       "      <td>desktop</td>\n",
       "      <td>2017-11-08 13:43:00</td>\n",
       "      <td>5</td>\n",
       "      <td>2017-11-08 13:42:00</td>\n",
       "      <td>1289240080042562063</td>\n",
       "    </tr>\n",
       "  </tbody>\n",
       "</table>\n",
       "</div>"
      ],
      "text/plain": [
       "    device              end_ts  source_id            start_ts  \\\n",
       "0    touch 2017-12-20 17:38:00          4 2017-12-20 17:20:00   \n",
       "1  desktop 2018-02-19 17:21:00          2 2018-02-19 16:53:00   \n",
       "2    touch 2017-07-01 01:54:00          5 2017-07-01 01:54:00   \n",
       "3  desktop 2018-05-20 11:23:00          9 2018-05-20 10:59:00   \n",
       "4  desktop 2017-12-27 14:06:00          3 2017-12-27 14:06:00   \n",
       "5  desktop 2017-09-03 21:36:00          5 2017-09-03 21:35:00   \n",
       "6  desktop 2018-01-30 12:09:00          1 2018-01-30 11:13:00   \n",
       "7    touch 2017-11-05 15:15:00          3 2017-11-05 15:14:00   \n",
       "8  desktop 2017-07-19 10:44:00          3 2017-07-19 10:41:00   \n",
       "9  desktop 2017-11-08 13:43:00          5 2017-11-08 13:42:00   \n",
       "\n",
       "                    uid  \n",
       "0  16879256277535980062  \n",
       "1    104060357244891740  \n",
       "2   7459035603376831527  \n",
       "3  16174680259334210214  \n",
       "4   9969694820036681168  \n",
       "5  16007536194108375387  \n",
       "6   6661610529277171451  \n",
       "7  11423865690854540312  \n",
       "8   2987360259350925644  \n",
       "9   1289240080042562063  "
      ]
     },
     "execution_count": 89,
     "metadata": {},
     "output_type": "execute_result"
    }
   ],
   "source": [
    "visitas.head(10)"
   ]
  },
  {
   "cell_type": "code",
   "execution_count": 90,
   "metadata": {},
   "outputs": [
    {
     "data": {
      "text/plain": [
       "Timestamp('2018-05-31 23:59:00')"
      ]
     },
     "execution_count": 90,
     "metadata": {},
     "output_type": "execute_result"
    }
   ],
   "source": [
    "#Verificacion de la fecha maxima de registros\n",
    "visitas['start_ts'].max()"
   ]
  },
  {
   "cell_type": "code",
   "execution_count": 91,
   "metadata": {},
   "outputs": [
    {
     "data": {
      "text/plain": [
       "Timestamp('2017-06-01 00:01:00')"
      ]
     },
     "execution_count": 91,
     "metadata": {},
     "output_type": "execute_result"
    }
   ],
   "source": [
    "#Verificacion de la fecha minima de registros\n",
    "visitas['start_ts'].min()"
   ]
  },
  {
   "cell_type": "markdown",
   "metadata": {},
   "source": [
    "### Ordenes "
   ]
  },
  {
   "cell_type": "code",
   "execution_count": 92,
   "metadata": {},
   "outputs": [
    {
     "name": "stdout",
     "output_type": "stream",
     "text": [
      "<class 'pandas.core.frame.DataFrame'>\n",
      "RangeIndex: 50415 entries, 0 to 50414\n",
      "Data columns (total 3 columns):\n",
      " #   Column   Non-Null Count  Dtype  \n",
      "---  ------   --------------  -----  \n",
      " 0   Buy Ts   50415 non-null  object \n",
      " 1   Revenue  50415 non-null  float64\n",
      " 2   Uid      50415 non-null  uint64 \n",
      "dtypes: float64(1), object(1), uint64(1)\n",
      "memory usage: 1.2+ MB\n"
     ]
    }
   ],
   "source": [
    "#Visualización del segundo DF\n",
    "\n",
    "ordenes.info()"
   ]
  },
  {
   "cell_type": "code",
   "execution_count": 93,
   "metadata": {},
   "outputs": [
    {
     "name": "stdout",
     "output_type": "stream",
     "text": [
      "Index(['buy_ts', 'revenue', 'uid'], dtype='object')\n"
     ]
    }
   ],
   "source": [
    "#Cambio de los nombres de las columnas. Se reemplazan los espacios por escritura sanke case y las mayusculas por minusculas\n",
    "\n",
    "new_columns=[]\n",
    "\n",
    "for column in ordenes.columns:\n",
    "    modified_columns=column.lower().replace(\" \",\"_\")\n",
    "    new_columns.append(modified_columns)\n",
    "    \n",
    "ordenes.columns=new_columns\n",
    "\n",
    "print(ordenes.columns)"
   ]
  },
  {
   "cell_type": "code",
   "execution_count": 94,
   "metadata": {},
   "outputs": [
    {
     "name": "stdout",
     "output_type": "stream",
     "text": [
      "<class 'pandas.core.frame.DataFrame'>\n",
      "RangeIndex: 50415 entries, 0 to 50414\n",
      "Data columns (total 3 columns):\n",
      " #   Column   Non-Null Count  Dtype         \n",
      "---  ------   --------------  -----         \n",
      " 0   buy_ts   50415 non-null  datetime64[ns]\n",
      " 1   revenue  50415 non-null  float64       \n",
      " 2   uid      50415 non-null  uint64        \n",
      "dtypes: datetime64[ns](1), float64(1), uint64(1)\n",
      "memory usage: 1.2 MB\n"
     ]
    }
   ],
   "source": [
    "#Se cambia el tipo de dato de la columna buy_ts a tipo datetime\n",
    "\n",
    "ordenes['buy_ts']=pd.to_datetime(ordenes['buy_ts'])\n",
    "\n",
    "ordenes.info()"
   ]
  },
  {
   "cell_type": "code",
   "execution_count": 95,
   "metadata": {},
   "outputs": [
    {
     "data": {
      "text/html": [
       "<div>\n",
       "<style scoped>\n",
       "    .dataframe tbody tr th:only-of-type {\n",
       "        vertical-align: middle;\n",
       "    }\n",
       "\n",
       "    .dataframe tbody tr th {\n",
       "        vertical-align: top;\n",
       "    }\n",
       "\n",
       "    .dataframe thead th {\n",
       "        text-align: right;\n",
       "    }\n",
       "</style>\n",
       "<table border=\"1\" class=\"dataframe\">\n",
       "  <thead>\n",
       "    <tr style=\"text-align: right;\">\n",
       "      <th></th>\n",
       "      <th>buy_ts</th>\n",
       "      <th>revenue</th>\n",
       "      <th>uid</th>\n",
       "    </tr>\n",
       "  </thead>\n",
       "  <tbody>\n",
       "    <tr>\n",
       "      <th>0</th>\n",
       "      <td>2017-06-01 00:10:00</td>\n",
       "      <td>17.00</td>\n",
       "      <td>10329302124590727494</td>\n",
       "    </tr>\n",
       "    <tr>\n",
       "      <th>1</th>\n",
       "      <td>2017-06-01 00:25:00</td>\n",
       "      <td>0.55</td>\n",
       "      <td>11627257723692907447</td>\n",
       "    </tr>\n",
       "    <tr>\n",
       "      <th>2</th>\n",
       "      <td>2017-06-01 00:27:00</td>\n",
       "      <td>0.37</td>\n",
       "      <td>17903680561304213844</td>\n",
       "    </tr>\n",
       "    <tr>\n",
       "      <th>3</th>\n",
       "      <td>2017-06-01 00:29:00</td>\n",
       "      <td>0.55</td>\n",
       "      <td>16109239769442553005</td>\n",
       "    </tr>\n",
       "    <tr>\n",
       "      <th>4</th>\n",
       "      <td>2017-06-01 07:58:00</td>\n",
       "      <td>0.37</td>\n",
       "      <td>14200605875248379450</td>\n",
       "    </tr>\n",
       "    <tr>\n",
       "      <th>5</th>\n",
       "      <td>2017-06-01 08:43:00</td>\n",
       "      <td>0.18</td>\n",
       "      <td>10402394430196413321</td>\n",
       "    </tr>\n",
       "    <tr>\n",
       "      <th>6</th>\n",
       "      <td>2017-06-01 08:54:00</td>\n",
       "      <td>1.83</td>\n",
       "      <td>12464626743129688638</td>\n",
       "    </tr>\n",
       "    <tr>\n",
       "      <th>7</th>\n",
       "      <td>2017-06-01 09:22:00</td>\n",
       "      <td>1.22</td>\n",
       "      <td>3644482766749211722</td>\n",
       "    </tr>\n",
       "    <tr>\n",
       "      <th>8</th>\n",
       "      <td>2017-06-01 09:22:00</td>\n",
       "      <td>3.30</td>\n",
       "      <td>17542070709969841479</td>\n",
       "    </tr>\n",
       "    <tr>\n",
       "      <th>9</th>\n",
       "      <td>2017-06-01 09:23:00</td>\n",
       "      <td>0.37</td>\n",
       "      <td>1074355127080856382</td>\n",
       "    </tr>\n",
       "  </tbody>\n",
       "</table>\n",
       "</div>"
      ],
      "text/plain": [
       "               buy_ts  revenue                   uid\n",
       "0 2017-06-01 00:10:00    17.00  10329302124590727494\n",
       "1 2017-06-01 00:25:00     0.55  11627257723692907447\n",
       "2 2017-06-01 00:27:00     0.37  17903680561304213844\n",
       "3 2017-06-01 00:29:00     0.55  16109239769442553005\n",
       "4 2017-06-01 07:58:00     0.37  14200605875248379450\n",
       "5 2017-06-01 08:43:00     0.18  10402394430196413321\n",
       "6 2017-06-01 08:54:00     1.83  12464626743129688638\n",
       "7 2017-06-01 09:22:00     1.22   3644482766749211722\n",
       "8 2017-06-01 09:22:00     3.30  17542070709969841479\n",
       "9 2017-06-01 09:23:00     0.37   1074355127080856382"
      ]
     },
     "execution_count": 95,
     "metadata": {},
     "output_type": "execute_result"
    }
   ],
   "source": [
    "ordenes.head(10)"
   ]
  },
  {
   "cell_type": "markdown",
   "metadata": {},
   "source": [
    "### Costos"
   ]
  },
  {
   "cell_type": "code",
   "execution_count": 96,
   "metadata": {},
   "outputs": [
    {
     "name": "stdout",
     "output_type": "stream",
     "text": [
      "<class 'pandas.core.frame.DataFrame'>\n",
      "RangeIndex: 2542 entries, 0 to 2541\n",
      "Data columns (total 3 columns):\n",
      " #   Column     Non-Null Count  Dtype  \n",
      "---  ------     --------------  -----  \n",
      " 0   source_id  2542 non-null   int64  \n",
      " 1   dt         2542 non-null   object \n",
      " 2   costs      2542 non-null   float64\n",
      "dtypes: float64(1), int64(1), object(1)\n",
      "memory usage: 59.7+ KB\n"
     ]
    }
   ],
   "source": [
    "#Visualización del tercer DF\n",
    "\n",
    "costos.info()"
   ]
  },
  {
   "cell_type": "code",
   "execution_count": 97,
   "metadata": {},
   "outputs": [
    {
     "name": "stdout",
     "output_type": "stream",
     "text": [
      "<class 'pandas.core.frame.DataFrame'>\n",
      "RangeIndex: 2542 entries, 0 to 2541\n",
      "Data columns (total 3 columns):\n",
      " #   Column     Non-Null Count  Dtype         \n",
      "---  ------     --------------  -----         \n",
      " 0   source_id  2542 non-null   int64         \n",
      " 1   dt         2542 non-null   datetime64[ns]\n",
      " 2   costs      2542 non-null   float64       \n",
      "dtypes: datetime64[ns](1), float64(1), int64(1)\n",
      "memory usage: 59.7 KB\n"
     ]
    }
   ],
   "source": [
    "#Se cambia el tipo de dato de la columna dt a tipo datetime\n",
    "\n",
    "costos['dt']=pd.to_datetime(costos['dt'])\n",
    "\n",
    "costos.info()"
   ]
  },
  {
   "cell_type": "code",
   "execution_count": 98,
   "metadata": {
    "scrolled": true
   },
   "outputs": [
    {
     "data": {
      "text/html": [
       "<div>\n",
       "<style scoped>\n",
       "    .dataframe tbody tr th:only-of-type {\n",
       "        vertical-align: middle;\n",
       "    }\n",
       "\n",
       "    .dataframe tbody tr th {\n",
       "        vertical-align: top;\n",
       "    }\n",
       "\n",
       "    .dataframe thead th {\n",
       "        text-align: right;\n",
       "    }\n",
       "</style>\n",
       "<table border=\"1\" class=\"dataframe\">\n",
       "  <thead>\n",
       "    <tr style=\"text-align: right;\">\n",
       "      <th></th>\n",
       "      <th>source_id</th>\n",
       "      <th>dt</th>\n",
       "      <th>costs</th>\n",
       "    </tr>\n",
       "  </thead>\n",
       "  <tbody>\n",
       "    <tr>\n",
       "      <th>0</th>\n",
       "      <td>1</td>\n",
       "      <td>2017-06-01</td>\n",
       "      <td>75.20</td>\n",
       "    </tr>\n",
       "    <tr>\n",
       "      <th>1</th>\n",
       "      <td>1</td>\n",
       "      <td>2017-06-02</td>\n",
       "      <td>62.25</td>\n",
       "    </tr>\n",
       "    <tr>\n",
       "      <th>2</th>\n",
       "      <td>1</td>\n",
       "      <td>2017-06-03</td>\n",
       "      <td>36.53</td>\n",
       "    </tr>\n",
       "    <tr>\n",
       "      <th>3</th>\n",
       "      <td>1</td>\n",
       "      <td>2017-06-04</td>\n",
       "      <td>55.00</td>\n",
       "    </tr>\n",
       "    <tr>\n",
       "      <th>4</th>\n",
       "      <td>1</td>\n",
       "      <td>2017-06-05</td>\n",
       "      <td>57.08</td>\n",
       "    </tr>\n",
       "    <tr>\n",
       "      <th>5</th>\n",
       "      <td>1</td>\n",
       "      <td>2017-06-06</td>\n",
       "      <td>40.39</td>\n",
       "    </tr>\n",
       "    <tr>\n",
       "      <th>6</th>\n",
       "      <td>1</td>\n",
       "      <td>2017-06-07</td>\n",
       "      <td>40.59</td>\n",
       "    </tr>\n",
       "    <tr>\n",
       "      <th>7</th>\n",
       "      <td>1</td>\n",
       "      <td>2017-06-08</td>\n",
       "      <td>56.63</td>\n",
       "    </tr>\n",
       "    <tr>\n",
       "      <th>8</th>\n",
       "      <td>1</td>\n",
       "      <td>2017-06-09</td>\n",
       "      <td>40.16</td>\n",
       "    </tr>\n",
       "    <tr>\n",
       "      <th>9</th>\n",
       "      <td>1</td>\n",
       "      <td>2017-06-10</td>\n",
       "      <td>43.24</td>\n",
       "    </tr>\n",
       "  </tbody>\n",
       "</table>\n",
       "</div>"
      ],
      "text/plain": [
       "   source_id         dt  costs\n",
       "0          1 2017-06-01  75.20\n",
       "1          1 2017-06-02  62.25\n",
       "2          1 2017-06-03  36.53\n",
       "3          1 2017-06-04  55.00\n",
       "4          1 2017-06-05  57.08\n",
       "5          1 2017-06-06  40.39\n",
       "6          1 2017-06-07  40.59\n",
       "7          1 2017-06-08  56.63\n",
       "8          1 2017-06-09  40.16\n",
       "9          1 2017-06-10  43.24"
      ]
     },
     "execution_count": 98,
     "metadata": {},
     "output_type": "execute_result"
    }
   ],
   "source": [
    "costos.head(10)"
   ]
  },
  {
   "cell_type": "markdown",
   "metadata": {},
   "source": [
    "## Análisis de las metricas"
   ]
  },
  {
   "cell_type": "markdown",
   "metadata": {},
   "source": [
    "Se va a realizar el analisis de los datos por Data Frame, cabe resaltar que Showz es una empresa de venta de entradas de eventos"
   ]
  },
  {
   "cell_type": "markdown",
   "metadata": {},
   "source": [
    "### Visitas"
   ]
  },
  {
   "cell_type": "markdown",
   "metadata": {},
   "source": [
    "Queremos resolver las siguientes preguntas:\n",
    "\n",
    "¿Cuántas personas usan la app cada día, semana y mes?\n",
    "¿Cuántas sesiones hay por día? (Un usuario puede tener más de una sesión).\n",
    "¿Cuál es la duración de cada sesión?\n",
    "¿Con qué frecuencia los usuarios regresan?"
   ]
  },
  {
   "cell_type": "code",
   "execution_count": 99,
   "metadata": {},
   "outputs": [
    {
     "data": {
      "text/html": [
       "<div>\n",
       "<style scoped>\n",
       "    .dataframe tbody tr th:only-of-type {\n",
       "        vertical-align: middle;\n",
       "    }\n",
       "\n",
       "    .dataframe tbody tr th {\n",
       "        vertical-align: top;\n",
       "    }\n",
       "\n",
       "    .dataframe thead th {\n",
       "        text-align: right;\n",
       "    }\n",
       "</style>\n",
       "<table border=\"1\" class=\"dataframe\">\n",
       "  <thead>\n",
       "    <tr style=\"text-align: right;\">\n",
       "      <th></th>\n",
       "      <th>device</th>\n",
       "      <th>end_ts</th>\n",
       "      <th>source_id</th>\n",
       "      <th>start_ts</th>\n",
       "      <th>uid</th>\n",
       "      <th>duracion_min</th>\n",
       "    </tr>\n",
       "  </thead>\n",
       "  <tbody>\n",
       "    <tr>\n",
       "      <th>0</th>\n",
       "      <td>touch</td>\n",
       "      <td>2017-12-20 17:38:00</td>\n",
       "      <td>4</td>\n",
       "      <td>2017-12-20 17:20:00</td>\n",
       "      <td>16879256277535980062</td>\n",
       "      <td>18.000000</td>\n",
       "    </tr>\n",
       "    <tr>\n",
       "      <th>1</th>\n",
       "      <td>desktop</td>\n",
       "      <td>2018-02-19 17:21:00</td>\n",
       "      <td>2</td>\n",
       "      <td>2018-02-19 16:53:00</td>\n",
       "      <td>104060357244891740</td>\n",
       "      <td>28.000000</td>\n",
       "    </tr>\n",
       "    <tr>\n",
       "      <th>2</th>\n",
       "      <td>touch</td>\n",
       "      <td>2017-07-01 01:54:00</td>\n",
       "      <td>5</td>\n",
       "      <td>2017-07-01 01:54:00</td>\n",
       "      <td>7459035603376831527</td>\n",
       "      <td>0.000000</td>\n",
       "    </tr>\n",
       "    <tr>\n",
       "      <th>3</th>\n",
       "      <td>desktop</td>\n",
       "      <td>2018-05-20 11:23:00</td>\n",
       "      <td>9</td>\n",
       "      <td>2018-05-20 10:59:00</td>\n",
       "      <td>16174680259334210214</td>\n",
       "      <td>24.000000</td>\n",
       "    </tr>\n",
       "    <tr>\n",
       "      <th>4</th>\n",
       "      <td>desktop</td>\n",
       "      <td>2017-12-27 14:06:00</td>\n",
       "      <td>3</td>\n",
       "      <td>2017-12-27 14:06:00</td>\n",
       "      <td>9969694820036681168</td>\n",
       "      <td>0.000000</td>\n",
       "    </tr>\n",
       "    <tr>\n",
       "      <th>...</th>\n",
       "      <td>...</td>\n",
       "      <td>...</td>\n",
       "      <td>...</td>\n",
       "      <td>...</td>\n",
       "      <td>...</td>\n",
       "      <td>...</td>\n",
       "    </tr>\n",
       "    <tr>\n",
       "      <th>359395</th>\n",
       "      <td>desktop</td>\n",
       "      <td>2017-07-29 19:07:19</td>\n",
       "      <td>2</td>\n",
       "      <td>2017-07-29 19:07:00</td>\n",
       "      <td>18363291481961487539</td>\n",
       "      <td>0.316667</td>\n",
       "    </tr>\n",
       "    <tr>\n",
       "      <th>359396</th>\n",
       "      <td>touch</td>\n",
       "      <td>2018-01-25 17:38:19</td>\n",
       "      <td>1</td>\n",
       "      <td>2018-01-25 17:38:00</td>\n",
       "      <td>18370831553019119586</td>\n",
       "      <td>0.316667</td>\n",
       "    </tr>\n",
       "    <tr>\n",
       "      <th>359397</th>\n",
       "      <td>desktop</td>\n",
       "      <td>2018-03-03 10:12:19</td>\n",
       "      <td>4</td>\n",
       "      <td>2018-03-03 10:12:00</td>\n",
       "      <td>18387297585500748294</td>\n",
       "      <td>0.316667</td>\n",
       "    </tr>\n",
       "    <tr>\n",
       "      <th>359398</th>\n",
       "      <td>desktop</td>\n",
       "      <td>2017-11-02 10:12:19</td>\n",
       "      <td>5</td>\n",
       "      <td>2017-11-02 10:12:00</td>\n",
       "      <td>18388616944624776485</td>\n",
       "      <td>0.316667</td>\n",
       "    </tr>\n",
       "    <tr>\n",
       "      <th>359399</th>\n",
       "      <td>touch</td>\n",
       "      <td>2017-09-10 13:13:19</td>\n",
       "      <td>2</td>\n",
       "      <td>2017-09-10 13:13:00</td>\n",
       "      <td>18396128934054549559</td>\n",
       "      <td>0.316667</td>\n",
       "    </tr>\n",
       "  </tbody>\n",
       "</table>\n",
       "<p>359400 rows × 6 columns</p>\n",
       "</div>"
      ],
      "text/plain": [
       "         device              end_ts  source_id            start_ts  \\\n",
       "0         touch 2017-12-20 17:38:00          4 2017-12-20 17:20:00   \n",
       "1       desktop 2018-02-19 17:21:00          2 2018-02-19 16:53:00   \n",
       "2         touch 2017-07-01 01:54:00          5 2017-07-01 01:54:00   \n",
       "3       desktop 2018-05-20 11:23:00          9 2018-05-20 10:59:00   \n",
       "4       desktop 2017-12-27 14:06:00          3 2017-12-27 14:06:00   \n",
       "...         ...                 ...        ...                 ...   \n",
       "359395  desktop 2017-07-29 19:07:19          2 2017-07-29 19:07:00   \n",
       "359396    touch 2018-01-25 17:38:19          1 2018-01-25 17:38:00   \n",
       "359397  desktop 2018-03-03 10:12:19          4 2018-03-03 10:12:00   \n",
       "359398  desktop 2017-11-02 10:12:19          5 2017-11-02 10:12:00   \n",
       "359399    touch 2017-09-10 13:13:19          2 2017-09-10 13:13:00   \n",
       "\n",
       "                         uid  duracion_min  \n",
       "0       16879256277535980062     18.000000  \n",
       "1         104060357244891740     28.000000  \n",
       "2        7459035603376831527      0.000000  \n",
       "3       16174680259334210214     24.000000  \n",
       "4        9969694820036681168      0.000000  \n",
       "...                      ...           ...  \n",
       "359395  18363291481961487539      0.316667  \n",
       "359396  18370831553019119586      0.316667  \n",
       "359397  18387297585500748294      0.316667  \n",
       "359398  18388616944624776485      0.316667  \n",
       "359399  18396128934054549559      0.316667  \n",
       "\n",
       "[359400 rows x 6 columns]"
      ]
     },
     "execution_count": 99,
     "metadata": {},
     "output_type": "execute_result"
    }
   ],
   "source": [
    "#Duracion de cada sesion\n",
    "visitas['duracion_min'] = (visitas['end_ts'] - visitas['start_ts']).dt.total_seconds() / 60\n",
    "\n",
    "visitas"
   ]
  },
  {
   "cell_type": "code",
   "execution_count": 100,
   "metadata": {},
   "outputs": [
    {
     "data": {
      "text/html": [
       "<div>\n",
       "<style scoped>\n",
       "    .dataframe tbody tr th:only-of-type {\n",
       "        vertical-align: middle;\n",
       "    }\n",
       "\n",
       "    .dataframe tbody tr th {\n",
       "        vertical-align: top;\n",
       "    }\n",
       "\n",
       "    .dataframe thead th {\n",
       "        text-align: right;\n",
       "    }\n",
       "</style>\n",
       "<table border=\"1\" class=\"dataframe\">\n",
       "  <thead>\n",
       "    <tr style=\"text-align: right;\">\n",
       "      <th></th>\n",
       "      <th>start_ts</th>\n",
       "      <th>uid</th>\n",
       "    </tr>\n",
       "  </thead>\n",
       "  <tbody>\n",
       "    <tr>\n",
       "      <th>0</th>\n",
       "      <td>2017-06-01 00:01:00</td>\n",
       "      <td>1</td>\n",
       "    </tr>\n",
       "    <tr>\n",
       "      <th>1</th>\n",
       "      <td>2017-06-01 00:02:00</td>\n",
       "      <td>2</td>\n",
       "    </tr>\n",
       "    <tr>\n",
       "      <th>2</th>\n",
       "      <td>2017-06-01 00:04:00</td>\n",
       "      <td>1</td>\n",
       "    </tr>\n",
       "    <tr>\n",
       "      <th>3</th>\n",
       "      <td>2017-06-01 00:09:00</td>\n",
       "      <td>1</td>\n",
       "    </tr>\n",
       "    <tr>\n",
       "      <th>4</th>\n",
       "      <td>2017-06-01 00:14:00</td>\n",
       "      <td>3</td>\n",
       "    </tr>\n",
       "    <tr>\n",
       "      <th>...</th>\n",
       "      <td>...</td>\n",
       "      <td>...</td>\n",
       "    </tr>\n",
       "    <tr>\n",
       "      <th>224298</th>\n",
       "      <td>2018-05-31 23:54:00</td>\n",
       "      <td>5</td>\n",
       "    </tr>\n",
       "    <tr>\n",
       "      <th>224299</th>\n",
       "      <td>2018-05-31 23:56:00</td>\n",
       "      <td>1</td>\n",
       "    </tr>\n",
       "    <tr>\n",
       "      <th>224300</th>\n",
       "      <td>2018-05-31 23:57:00</td>\n",
       "      <td>2</td>\n",
       "    </tr>\n",
       "    <tr>\n",
       "      <th>224301</th>\n",
       "      <td>2018-05-31 23:58:00</td>\n",
       "      <td>1</td>\n",
       "    </tr>\n",
       "    <tr>\n",
       "      <th>224302</th>\n",
       "      <td>2018-05-31 23:59:00</td>\n",
       "      <td>5</td>\n",
       "    </tr>\n",
       "  </tbody>\n",
       "</table>\n",
       "<p>224303 rows × 2 columns</p>\n",
       "</div>"
      ],
      "text/plain": [
       "                  start_ts  uid\n",
       "0      2017-06-01 00:01:00    1\n",
       "1      2017-06-01 00:02:00    2\n",
       "2      2017-06-01 00:04:00    1\n",
       "3      2017-06-01 00:09:00    1\n",
       "4      2017-06-01 00:14:00    3\n",
       "...                    ...  ...\n",
       "224298 2018-05-31 23:54:00    5\n",
       "224299 2018-05-31 23:56:00    1\n",
       "224300 2018-05-31 23:57:00    2\n",
       "224301 2018-05-31 23:58:00    1\n",
       "224302 2018-05-31 23:59:00    5\n",
       "\n",
       "[224303 rows x 2 columns]"
      ]
     },
     "execution_count": 100,
     "metadata": {},
     "output_type": "execute_result"
    }
   ],
   "source": [
    "#Usuarios unicos por dia\n",
    "\n",
    "usuarios_diarios=visitas.groupby('start_ts')['uid'].nunique().reset_index()\n",
    "\n",
    "usuarios_diarios"
   ]
  },
  {
   "cell_type": "code",
   "execution_count": 101,
   "metadata": {},
   "outputs": [
    {
     "data": {
      "text/html": [
       "<div>\n",
       "<style scoped>\n",
       "    .dataframe tbody tr th:only-of-type {\n",
       "        vertical-align: middle;\n",
       "    }\n",
       "\n",
       "    .dataframe tbody tr th {\n",
       "        vertical-align: top;\n",
       "    }\n",
       "\n",
       "    .dataframe thead th {\n",
       "        text-align: right;\n",
       "    }\n",
       "</style>\n",
       "<table border=\"1\" class=\"dataframe\">\n",
       "  <thead>\n",
       "    <tr style=\"text-align: right;\">\n",
       "      <th></th>\n",
       "      <th>start_ts</th>\n",
       "      <th>uid</th>\n",
       "    </tr>\n",
       "  </thead>\n",
       "  <tbody>\n",
       "    <tr>\n",
       "      <th>0</th>\n",
       "      <td>2017-06-01 00:01:00</td>\n",
       "      <td>1</td>\n",
       "    </tr>\n",
       "    <tr>\n",
       "      <th>1</th>\n",
       "      <td>2017-06-01 00:02:00</td>\n",
       "      <td>2</td>\n",
       "    </tr>\n",
       "    <tr>\n",
       "      <th>2</th>\n",
       "      <td>2017-06-01 00:04:00</td>\n",
       "      <td>1</td>\n",
       "    </tr>\n",
       "    <tr>\n",
       "      <th>3</th>\n",
       "      <td>2017-06-01 00:09:00</td>\n",
       "      <td>1</td>\n",
       "    </tr>\n",
       "    <tr>\n",
       "      <th>4</th>\n",
       "      <td>2017-06-01 00:14:00</td>\n",
       "      <td>3</td>\n",
       "    </tr>\n",
       "    <tr>\n",
       "      <th>...</th>\n",
       "      <td>...</td>\n",
       "      <td>...</td>\n",
       "    </tr>\n",
       "    <tr>\n",
       "      <th>224298</th>\n",
       "      <td>2018-05-31 23:54:00</td>\n",
       "      <td>5</td>\n",
       "    </tr>\n",
       "    <tr>\n",
       "      <th>224299</th>\n",
       "      <td>2018-05-31 23:56:00</td>\n",
       "      <td>1</td>\n",
       "    </tr>\n",
       "    <tr>\n",
       "      <th>224300</th>\n",
       "      <td>2018-05-31 23:57:00</td>\n",
       "      <td>2</td>\n",
       "    </tr>\n",
       "    <tr>\n",
       "      <th>224301</th>\n",
       "      <td>2018-05-31 23:58:00</td>\n",
       "      <td>1</td>\n",
       "    </tr>\n",
       "    <tr>\n",
       "      <th>224302</th>\n",
       "      <td>2018-05-31 23:59:00</td>\n",
       "      <td>5</td>\n",
       "    </tr>\n",
       "  </tbody>\n",
       "</table>\n",
       "<p>224303 rows × 2 columns</p>\n",
       "</div>"
      ],
      "text/plain": [
       "                  start_ts  uid\n",
       "0      2017-06-01 00:01:00    1\n",
       "1      2017-06-01 00:02:00    2\n",
       "2      2017-06-01 00:04:00    1\n",
       "3      2017-06-01 00:09:00    1\n",
       "4      2017-06-01 00:14:00    3\n",
       "...                    ...  ...\n",
       "224298 2018-05-31 23:54:00    5\n",
       "224299 2018-05-31 23:56:00    1\n",
       "224300 2018-05-31 23:57:00    2\n",
       "224301 2018-05-31 23:58:00    1\n",
       "224302 2018-05-31 23:59:00    5\n",
       "\n",
       "[224303 rows x 2 columns]"
      ]
     },
     "execution_count": 101,
     "metadata": {},
     "output_type": "execute_result"
    }
   ],
   "source": [
    "# Sesiones por dia\n",
    "\n",
    "sesiones_diarias=visitas.groupby('start_ts')['uid'].count().reset_index()\n",
    "sesiones_diarias"
   ]
  },
  {
   "cell_type": "code",
   "execution_count": 102,
   "metadata": {},
   "outputs": [
    {
     "data": {
      "text/html": [
       "<div>\n",
       "<style scoped>\n",
       "    .dataframe tbody tr th:only-of-type {\n",
       "        vertical-align: middle;\n",
       "    }\n",
       "\n",
       "    .dataframe tbody tr th {\n",
       "        vertical-align: top;\n",
       "    }\n",
       "\n",
       "    .dataframe thead th {\n",
       "        text-align: right;\n",
       "    }\n",
       "</style>\n",
       "<table border=\"1\" class=\"dataframe\">\n",
       "  <thead>\n",
       "    <tr style=\"text-align: right;\">\n",
       "      <th></th>\n",
       "      <th>device</th>\n",
       "      <th>end_ts</th>\n",
       "      <th>source_id</th>\n",
       "      <th>start_ts</th>\n",
       "      <th>uid</th>\n",
       "      <th>duracion_min</th>\n",
       "      <th>año_inicio</th>\n",
       "      <th>semana_inicio</th>\n",
       "      <th>dia_inicio</th>\n",
       "      <th>mes_inicio</th>\n",
       "      <th>mes_final</th>\n",
       "    </tr>\n",
       "  </thead>\n",
       "  <tbody>\n",
       "    <tr>\n",
       "      <th>0</th>\n",
       "      <td>touch</td>\n",
       "      <td>2017-12-20 17:38:00</td>\n",
       "      <td>4</td>\n",
       "      <td>2017-12-20 17:20:00</td>\n",
       "      <td>16879256277535980062</td>\n",
       "      <td>18.000000</td>\n",
       "      <td>2017</td>\n",
       "      <td>51</td>\n",
       "      <td>3</td>\n",
       "      <td>12</td>\n",
       "      <td>12</td>\n",
       "    </tr>\n",
       "    <tr>\n",
       "      <th>1</th>\n",
       "      <td>desktop</td>\n",
       "      <td>2018-02-19 17:21:00</td>\n",
       "      <td>2</td>\n",
       "      <td>2018-02-19 16:53:00</td>\n",
       "      <td>104060357244891740</td>\n",
       "      <td>28.000000</td>\n",
       "      <td>2018</td>\n",
       "      <td>8</td>\n",
       "      <td>1</td>\n",
       "      <td>2</td>\n",
       "      <td>2</td>\n",
       "    </tr>\n",
       "    <tr>\n",
       "      <th>2</th>\n",
       "      <td>touch</td>\n",
       "      <td>2017-07-01 01:54:00</td>\n",
       "      <td>5</td>\n",
       "      <td>2017-07-01 01:54:00</td>\n",
       "      <td>7459035603376831527</td>\n",
       "      <td>0.000000</td>\n",
       "      <td>2017</td>\n",
       "      <td>26</td>\n",
       "      <td>6</td>\n",
       "      <td>7</td>\n",
       "      <td>7</td>\n",
       "    </tr>\n",
       "    <tr>\n",
       "      <th>3</th>\n",
       "      <td>desktop</td>\n",
       "      <td>2018-05-20 11:23:00</td>\n",
       "      <td>9</td>\n",
       "      <td>2018-05-20 10:59:00</td>\n",
       "      <td>16174680259334210214</td>\n",
       "      <td>24.000000</td>\n",
       "      <td>2018</td>\n",
       "      <td>20</td>\n",
       "      <td>7</td>\n",
       "      <td>5</td>\n",
       "      <td>5</td>\n",
       "    </tr>\n",
       "    <tr>\n",
       "      <th>4</th>\n",
       "      <td>desktop</td>\n",
       "      <td>2017-12-27 14:06:00</td>\n",
       "      <td>3</td>\n",
       "      <td>2017-12-27 14:06:00</td>\n",
       "      <td>9969694820036681168</td>\n",
       "      <td>0.000000</td>\n",
       "      <td>2017</td>\n",
       "      <td>52</td>\n",
       "      <td>3</td>\n",
       "      <td>12</td>\n",
       "      <td>12</td>\n",
       "    </tr>\n",
       "    <tr>\n",
       "      <th>...</th>\n",
       "      <td>...</td>\n",
       "      <td>...</td>\n",
       "      <td>...</td>\n",
       "      <td>...</td>\n",
       "      <td>...</td>\n",
       "      <td>...</td>\n",
       "      <td>...</td>\n",
       "      <td>...</td>\n",
       "      <td>...</td>\n",
       "      <td>...</td>\n",
       "      <td>...</td>\n",
       "    </tr>\n",
       "    <tr>\n",
       "      <th>359395</th>\n",
       "      <td>desktop</td>\n",
       "      <td>2017-07-29 19:07:19</td>\n",
       "      <td>2</td>\n",
       "      <td>2017-07-29 19:07:00</td>\n",
       "      <td>18363291481961487539</td>\n",
       "      <td>0.316667</td>\n",
       "      <td>2017</td>\n",
       "      <td>30</td>\n",
       "      <td>6</td>\n",
       "      <td>7</td>\n",
       "      <td>7</td>\n",
       "    </tr>\n",
       "    <tr>\n",
       "      <th>359396</th>\n",
       "      <td>touch</td>\n",
       "      <td>2018-01-25 17:38:19</td>\n",
       "      <td>1</td>\n",
       "      <td>2018-01-25 17:38:00</td>\n",
       "      <td>18370831553019119586</td>\n",
       "      <td>0.316667</td>\n",
       "      <td>2018</td>\n",
       "      <td>4</td>\n",
       "      <td>4</td>\n",
       "      <td>1</td>\n",
       "      <td>1</td>\n",
       "    </tr>\n",
       "    <tr>\n",
       "      <th>359397</th>\n",
       "      <td>desktop</td>\n",
       "      <td>2018-03-03 10:12:19</td>\n",
       "      <td>4</td>\n",
       "      <td>2018-03-03 10:12:00</td>\n",
       "      <td>18387297585500748294</td>\n",
       "      <td>0.316667</td>\n",
       "      <td>2018</td>\n",
       "      <td>9</td>\n",
       "      <td>6</td>\n",
       "      <td>3</td>\n",
       "      <td>3</td>\n",
       "    </tr>\n",
       "    <tr>\n",
       "      <th>359398</th>\n",
       "      <td>desktop</td>\n",
       "      <td>2017-11-02 10:12:19</td>\n",
       "      <td>5</td>\n",
       "      <td>2017-11-02 10:12:00</td>\n",
       "      <td>18388616944624776485</td>\n",
       "      <td>0.316667</td>\n",
       "      <td>2017</td>\n",
       "      <td>44</td>\n",
       "      <td>4</td>\n",
       "      <td>11</td>\n",
       "      <td>11</td>\n",
       "    </tr>\n",
       "    <tr>\n",
       "      <th>359399</th>\n",
       "      <td>touch</td>\n",
       "      <td>2017-09-10 13:13:19</td>\n",
       "      <td>2</td>\n",
       "      <td>2017-09-10 13:13:00</td>\n",
       "      <td>18396128934054549559</td>\n",
       "      <td>0.316667</td>\n",
       "      <td>2017</td>\n",
       "      <td>36</td>\n",
       "      <td>7</td>\n",
       "      <td>9</td>\n",
       "      <td>9</td>\n",
       "    </tr>\n",
       "  </tbody>\n",
       "</table>\n",
       "<p>359400 rows × 11 columns</p>\n",
       "</div>"
      ],
      "text/plain": [
       "         device              end_ts  source_id            start_ts  \\\n",
       "0         touch 2017-12-20 17:38:00          4 2017-12-20 17:20:00   \n",
       "1       desktop 2018-02-19 17:21:00          2 2018-02-19 16:53:00   \n",
       "2         touch 2017-07-01 01:54:00          5 2017-07-01 01:54:00   \n",
       "3       desktop 2018-05-20 11:23:00          9 2018-05-20 10:59:00   \n",
       "4       desktop 2017-12-27 14:06:00          3 2017-12-27 14:06:00   \n",
       "...         ...                 ...        ...                 ...   \n",
       "359395  desktop 2017-07-29 19:07:19          2 2017-07-29 19:07:00   \n",
       "359396    touch 2018-01-25 17:38:19          1 2018-01-25 17:38:00   \n",
       "359397  desktop 2018-03-03 10:12:19          4 2018-03-03 10:12:00   \n",
       "359398  desktop 2017-11-02 10:12:19          5 2017-11-02 10:12:00   \n",
       "359399    touch 2017-09-10 13:13:19          2 2017-09-10 13:13:00   \n",
       "\n",
       "                         uid  duracion_min  año_inicio  semana_inicio  \\\n",
       "0       16879256277535980062     18.000000        2017             51   \n",
       "1         104060357244891740     28.000000        2018              8   \n",
       "2        7459035603376831527      0.000000        2017             26   \n",
       "3       16174680259334210214     24.000000        2018             20   \n",
       "4        9969694820036681168      0.000000        2017             52   \n",
       "...                      ...           ...         ...            ...   \n",
       "359395  18363291481961487539      0.316667        2017             30   \n",
       "359396  18370831553019119586      0.316667        2018              4   \n",
       "359397  18387297585500748294      0.316667        2018              9   \n",
       "359398  18388616944624776485      0.316667        2017             44   \n",
       "359399  18396128934054549559      0.316667        2017             36   \n",
       "\n",
       "        dia_inicio  mes_inicio  mes_final  \n",
       "0                3          12         12  \n",
       "1                1           2          2  \n",
       "2                6           7          7  \n",
       "3                7           5          5  \n",
       "4                3          12         12  \n",
       "...            ...         ...        ...  \n",
       "359395           6           7          7  \n",
       "359396           4           1          1  \n",
       "359397           6           3          3  \n",
       "359398           4          11         11  \n",
       "359399           7           9          9  \n",
       "\n",
       "[359400 rows x 11 columns]"
      ]
     },
     "execution_count": 102,
     "metadata": {},
     "output_type": "execute_result"
    }
   ],
   "source": [
    "#Creacion de columnas para los dias, semanas, meses y años\n",
    "\n",
    "visitas[['año_inicio','semana_inicio', 'dia_inicio']]=visitas['start_ts'].dt.isocalendar()\n",
    "\n",
    "visitas['mes_inicio']=visitas['start_ts'].dt.month\n",
    "\n",
    "visitas['mes_final']=visitas['end_ts'].dt.month\n",
    "\n",
    "\n",
    "visitas\n"
   ]
  },
  {
   "cell_type": "code",
   "execution_count": 103,
   "metadata": {},
   "outputs": [
    {
     "name": "stdout",
     "output_type": "stream",
     "text": [
      "Usuarios unicos- anuales:\n"
     ]
    },
    {
     "data": {
      "text/plain": [
       "año_inicio\n",
       "2017    131777\n",
       "2018    112535\n",
       "Name: uid, dtype: int64"
      ]
     },
     "execution_count": 103,
     "metadata": {},
     "output_type": "execute_result"
    }
   ],
   "source": [
    "#Agrupacion de datos por año\n",
    "\n",
    "visitas_año=visitas.groupby('año_inicio')['uid'].nunique()\n",
    "print('Usuarios unicos- anuales:')\n",
    "\n",
    "visitas_año"
   ]
  },
  {
   "cell_type": "code",
   "execution_count": 104,
   "metadata": {},
   "outputs": [
    {
     "name": "stdout",
     "output_type": "stream",
     "text": [
      "Usuarios unicos -mensuales:\n"
     ]
    },
    {
     "data": {
      "text/html": [
       "<div>\n",
       "<style scoped>\n",
       "    .dataframe tbody tr th:only-of-type {\n",
       "        vertical-align: middle;\n",
       "    }\n",
       "\n",
       "    .dataframe tbody tr th {\n",
       "        vertical-align: top;\n",
       "    }\n",
       "\n",
       "    .dataframe thead th {\n",
       "        text-align: right;\n",
       "    }\n",
       "</style>\n",
       "<table border=\"1\" class=\"dataframe\">\n",
       "  <thead>\n",
       "    <tr style=\"text-align: right;\">\n",
       "      <th></th>\n",
       "      <th>año_inicio</th>\n",
       "      <th>mes_inicio</th>\n",
       "      <th>uid</th>\n",
       "    </tr>\n",
       "  </thead>\n",
       "  <tbody>\n",
       "    <tr>\n",
       "      <th>0</th>\n",
       "      <td>2017</td>\n",
       "      <td>6</td>\n",
       "      <td>13259</td>\n",
       "    </tr>\n",
       "    <tr>\n",
       "      <th>1</th>\n",
       "      <td>2017</td>\n",
       "      <td>7</td>\n",
       "      <td>14183</td>\n",
       "    </tr>\n",
       "    <tr>\n",
       "      <th>2</th>\n",
       "      <td>2017</td>\n",
       "      <td>8</td>\n",
       "      <td>11631</td>\n",
       "    </tr>\n",
       "    <tr>\n",
       "      <th>3</th>\n",
       "      <td>2017</td>\n",
       "      <td>9</td>\n",
       "      <td>18975</td>\n",
       "    </tr>\n",
       "    <tr>\n",
       "      <th>4</th>\n",
       "      <td>2017</td>\n",
       "      <td>10</td>\n",
       "      <td>29692</td>\n",
       "    </tr>\n",
       "    <tr>\n",
       "      <th>5</th>\n",
       "      <td>2017</td>\n",
       "      <td>11</td>\n",
       "      <td>32797</td>\n",
       "    </tr>\n",
       "    <tr>\n",
       "      <th>6</th>\n",
       "      <td>2017</td>\n",
       "      <td>12</td>\n",
       "      <td>31557</td>\n",
       "    </tr>\n",
       "    <tr>\n",
       "      <th>7</th>\n",
       "      <td>2018</td>\n",
       "      <td>1</td>\n",
       "      <td>28716</td>\n",
       "    </tr>\n",
       "    <tr>\n",
       "      <th>8</th>\n",
       "      <td>2018</td>\n",
       "      <td>2</td>\n",
       "      <td>28749</td>\n",
       "    </tr>\n",
       "    <tr>\n",
       "      <th>9</th>\n",
       "      <td>2018</td>\n",
       "      <td>3</td>\n",
       "      <td>27473</td>\n",
       "    </tr>\n",
       "    <tr>\n",
       "      <th>10</th>\n",
       "      <td>2018</td>\n",
       "      <td>4</td>\n",
       "      <td>21008</td>\n",
       "    </tr>\n",
       "    <tr>\n",
       "      <th>11</th>\n",
       "      <td>2018</td>\n",
       "      <td>5</td>\n",
       "      <td>20701</td>\n",
       "    </tr>\n",
       "  </tbody>\n",
       "</table>\n",
       "</div>"
      ],
      "text/plain": [
       "    año_inicio  mes_inicio    uid\n",
       "0         2017           6  13259\n",
       "1         2017           7  14183\n",
       "2         2017           8  11631\n",
       "3         2017           9  18975\n",
       "4         2017          10  29692\n",
       "5         2017          11  32797\n",
       "6         2017          12  31557\n",
       "7         2018           1  28716\n",
       "8         2018           2  28749\n",
       "9         2018           3  27473\n",
       "10        2018           4  21008\n",
       "11        2018           5  20701"
      ]
     },
     "execution_count": 104,
     "metadata": {},
     "output_type": "execute_result"
    }
   ],
   "source": [
    "#Agrupacion de datos por meses\n",
    "\n",
    "visitas_mes=visitas.groupby(['año_inicio','mes_inicio'])['uid'].nunique().reset_index()\n",
    "\n",
    "print('Usuarios unicos -mensuales:')\n",
    "visitas_mes"
   ]
  },
  {
   "cell_type": "code",
   "execution_count": 105,
   "metadata": {},
   "outputs": [
    {
     "name": "stdout",
     "output_type": "stream",
     "text": [
      "Usuarios unicos -semanales:\n"
     ]
    },
    {
     "data": {
      "text/html": [
       "<div>\n",
       "<style scoped>\n",
       "    .dataframe tbody tr th:only-of-type {\n",
       "        vertical-align: middle;\n",
       "    }\n",
       "\n",
       "    .dataframe tbody tr th {\n",
       "        vertical-align: top;\n",
       "    }\n",
       "\n",
       "    .dataframe thead th {\n",
       "        text-align: right;\n",
       "    }\n",
       "</style>\n",
       "<table border=\"1\" class=\"dataframe\">\n",
       "  <thead>\n",
       "    <tr style=\"text-align: right;\">\n",
       "      <th></th>\n",
       "      <th>año_inicio</th>\n",
       "      <th>semana_inicio</th>\n",
       "      <th>uid</th>\n",
       "    </tr>\n",
       "  </thead>\n",
       "  <tbody>\n",
       "    <tr>\n",
       "      <th>0</th>\n",
       "      <td>2017</td>\n",
       "      <td>22</td>\n",
       "      <td>2021</td>\n",
       "    </tr>\n",
       "    <tr>\n",
       "      <th>1</th>\n",
       "      <td>2017</td>\n",
       "      <td>23</td>\n",
       "      <td>4129</td>\n",
       "    </tr>\n",
       "    <tr>\n",
       "      <th>2</th>\n",
       "      <td>2017</td>\n",
       "      <td>24</td>\n",
       "      <td>2812</td>\n",
       "    </tr>\n",
       "    <tr>\n",
       "      <th>3</th>\n",
       "      <td>2017</td>\n",
       "      <td>25</td>\n",
       "      <td>2878</td>\n",
       "    </tr>\n",
       "    <tr>\n",
       "      <th>4</th>\n",
       "      <td>2017</td>\n",
       "      <td>26</td>\n",
       "      <td>3064</td>\n",
       "    </tr>\n",
       "    <tr>\n",
       "      <th>5</th>\n",
       "      <td>2017</td>\n",
       "      <td>27</td>\n",
       "      <td>3294</td>\n",
       "    </tr>\n",
       "    <tr>\n",
       "      <th>6</th>\n",
       "      <td>2017</td>\n",
       "      <td>28</td>\n",
       "      <td>4355</td>\n",
       "    </tr>\n",
       "    <tr>\n",
       "      <th>7</th>\n",
       "      <td>2017</td>\n",
       "      <td>29</td>\n",
       "      <td>3841</td>\n",
       "    </tr>\n",
       "    <tr>\n",
       "      <th>8</th>\n",
       "      <td>2017</td>\n",
       "      <td>30</td>\n",
       "      <td>2655</td>\n",
       "    </tr>\n",
       "    <tr>\n",
       "      <th>9</th>\n",
       "      <td>2017</td>\n",
       "      <td>31</td>\n",
       "      <td>2364</td>\n",
       "    </tr>\n",
       "  </tbody>\n",
       "</table>\n",
       "</div>"
      ],
      "text/plain": [
       "   año_inicio  semana_inicio   uid\n",
       "0        2017             22  2021\n",
       "1        2017             23  4129\n",
       "2        2017             24  2812\n",
       "3        2017             25  2878\n",
       "4        2017             26  3064\n",
       "5        2017             27  3294\n",
       "6        2017             28  4355\n",
       "7        2017             29  3841\n",
       "8        2017             30  2655\n",
       "9        2017             31  2364"
      ]
     },
     "execution_count": 105,
     "metadata": {},
     "output_type": "execute_result"
    }
   ],
   "source": [
    "#Agrupacion de datos por semanas\n",
    "\n",
    "visitas_semanal=visitas.groupby(['año_inicio','semana_inicio'])['uid'].nunique().reset_index()\n",
    "print('Usuarios unicos -semanales:')\n",
    "\n",
    "visitas_semanal.head(10)"
   ]
  },
  {
   "cell_type": "code",
   "execution_count": 106,
   "metadata": {
    "scrolled": true
   },
   "outputs": [
    {
     "name": "stdout",
     "output_type": "stream",
     "text": [
      "Usuarios unicos -diario:\n"
     ]
    },
    {
     "data": {
      "text/html": [
       "<div>\n",
       "<style scoped>\n",
       "    .dataframe tbody tr th:only-of-type {\n",
       "        vertical-align: middle;\n",
       "    }\n",
       "\n",
       "    .dataframe tbody tr th {\n",
       "        vertical-align: top;\n",
       "    }\n",
       "\n",
       "    .dataframe thead th {\n",
       "        text-align: right;\n",
       "    }\n",
       "</style>\n",
       "<table border=\"1\" class=\"dataframe\">\n",
       "  <thead>\n",
       "    <tr style=\"text-align: right;\">\n",
       "      <th></th>\n",
       "      <th>año_inicio</th>\n",
       "      <th>dia_inicio</th>\n",
       "      <th>uid</th>\n",
       "    </tr>\n",
       "  </thead>\n",
       "  <tbody>\n",
       "    <tr>\n",
       "      <th>0</th>\n",
       "      <td>2017</td>\n",
       "      <td>1</td>\n",
       "      <td>25217</td>\n",
       "    </tr>\n",
       "    <tr>\n",
       "      <th>1</th>\n",
       "      <td>2017</td>\n",
       "      <td>2</td>\n",
       "      <td>24073</td>\n",
       "    </tr>\n",
       "    <tr>\n",
       "      <th>2</th>\n",
       "      <td>2017</td>\n",
       "      <td>3</td>\n",
       "      <td>23559</td>\n",
       "    </tr>\n",
       "    <tr>\n",
       "      <th>3</th>\n",
       "      <td>2017</td>\n",
       "      <td>4</td>\n",
       "      <td>25578</td>\n",
       "    </tr>\n",
       "    <tr>\n",
       "      <th>4</th>\n",
       "      <td>2017</td>\n",
       "      <td>5</td>\n",
       "      <td>26378</td>\n",
       "    </tr>\n",
       "    <tr>\n",
       "      <th>5</th>\n",
       "      <td>2017</td>\n",
       "      <td>6</td>\n",
       "      <td>20141</td>\n",
       "    </tr>\n",
       "    <tr>\n",
       "      <th>6</th>\n",
       "      <td>2017</td>\n",
       "      <td>7</td>\n",
       "      <td>19546</td>\n",
       "    </tr>\n",
       "    <tr>\n",
       "      <th>7</th>\n",
       "      <td>2018</td>\n",
       "      <td>1</td>\n",
       "      <td>21466</td>\n",
       "    </tr>\n",
       "    <tr>\n",
       "      <th>8</th>\n",
       "      <td>2018</td>\n",
       "      <td>2</td>\n",
       "      <td>21265</td>\n",
       "    </tr>\n",
       "    <tr>\n",
       "      <th>9</th>\n",
       "      <td>2018</td>\n",
       "      <td>3</td>\n",
       "      <td>20737</td>\n",
       "    </tr>\n",
       "    <tr>\n",
       "      <th>10</th>\n",
       "      <td>2018</td>\n",
       "      <td>4</td>\n",
       "      <td>23140</td>\n",
       "    </tr>\n",
       "    <tr>\n",
       "      <th>11</th>\n",
       "      <td>2018</td>\n",
       "      <td>5</td>\n",
       "      <td>19071</td>\n",
       "    </tr>\n",
       "    <tr>\n",
       "      <th>12</th>\n",
       "      <td>2018</td>\n",
       "      <td>6</td>\n",
       "      <td>15858</td>\n",
       "    </tr>\n",
       "    <tr>\n",
       "      <th>13</th>\n",
       "      <td>2018</td>\n",
       "      <td>7</td>\n",
       "      <td>15729</td>\n",
       "    </tr>\n",
       "  </tbody>\n",
       "</table>\n",
       "</div>"
      ],
      "text/plain": [
       "    año_inicio  dia_inicio    uid\n",
       "0         2017           1  25217\n",
       "1         2017           2  24073\n",
       "2         2017           3  23559\n",
       "3         2017           4  25578\n",
       "4         2017           5  26378\n",
       "5         2017           6  20141\n",
       "6         2017           7  19546\n",
       "7         2018           1  21466\n",
       "8         2018           2  21265\n",
       "9         2018           3  20737\n",
       "10        2018           4  23140\n",
       "11        2018           5  19071\n",
       "12        2018           6  15858\n",
       "13        2018           7  15729"
      ]
     },
     "execution_count": 106,
     "metadata": {},
     "output_type": "execute_result"
    }
   ],
   "source": [
    "#Agrupacion de datos por dias, donde el lunes comienza en 1 y se cuenta de manera consecutiva hasta el domingo que seria 7\n",
    "\n",
    "visitas_diario=visitas.groupby(['año_inicio','dia_inicio'])['uid'].nunique().reset_index()\n",
    "print('Usuarios unicos -diario:')\n",
    "visitas_diario"
   ]
  },
  {
   "cell_type": "code",
   "execution_count": 107,
   "metadata": {},
   "outputs": [
    {
     "data": {
      "image/png": "[encoded data removed]",
      "text/plain": [
       "<Figure size 640x480 with 1 Axes>"
      ]
     },
     "metadata": {},
     "output_type": "display_data"
    }
   ],
   "source": [
    "# Comportamiento de los usuarios segun el mes\n",
    "sns.lineplot(data=visitas_mes, x=\"mes_inicio\", y=\"uid\", hue= \"año_inicio\", marker=\"o\")\n",
    "\n",
    "plt.xlabel(\"Mes\")\n",
    "plt.ylabel(\"Usuarios unicos\")\n",
    "plt.title(\"Usuarios unicos por mes\")\n",
    "plt.legend()\n",
    "plt.show()"
   ]
  },
  {
   "cell_type": "markdown",
   "metadata": {},
   "source": [
    "La grafica muestra que en el 2017 hubo mayor uso de la app por mes, luego del paso de los meses, se evidencia que la frecuencia disminuye"
   ]
  },
  {
   "cell_type": "code",
   "execution_count": 108,
   "metadata": {
    "scrolled": true
   },
   "outputs": [
    {
     "data": {
      "image/png": "[encoded data removed]",
      "text/plain": [
       "<Figure size 640x480 with 1 Axes>"
      ]
     },
     "metadata": {},
     "output_type": "display_data"
    }
   ],
   "source": [
    "#comportamiento de los usuarios segun el dia de la semana\n",
    "sns.lineplot(data=visitas_diario, x=\"dia_inicio\", y=\"uid\", hue= \"año_inicio\", marker=\"o\")\n",
    "\n",
    "plt.xlabel(\"dia de la semana\")\n",
    "plt.ylabel(\"Usuarios unicos\")\n",
    "plt.title(\"Usuarios unicos por dia de la semana\")\n",
    "plt.legend()\n",
    "plt.show()"
   ]
  },
  {
   "cell_type": "markdown",
   "metadata": {},
   "source": [
    "Se evidencia un comportamiento parecido para los dos años. Los dias jueves suelen tener mayor demanda de usuarios, mientras que a medida que se acerca el fin de semana las personas no suelen comprar boleteria."
   ]
  },
  {
   "cell_type": "code",
   "execution_count": 109,
   "metadata": {},
   "outputs": [
    {
     "data": {
      "image/png": "[encoded data removed]",
      "text/plain": [
       "<Figure size 640x480 with 1 Axes>"
      ]
     },
     "metadata": {},
     "output_type": "display_data"
    }
   ],
   "source": [
    "# Distribución de la duración de las sesiones\n",
    "\n",
    "plt.hist(visitas['duracion_min'], bins=50, color='#b5c6e0',edgecolor='black')\n",
    "plt.title('Distribución de la duración de las sesiones (min)')\n",
    "plt.xlim(0,100)\n",
    "plt.xlabel('Duración (min)')\n",
    "plt.ylabel('Frecuencia')\n",
    "plt.show()"
   ]
  },
  {
   "cell_type": "markdown",
   "metadata": {},
   "source": [
    "La grafica muestra una distribucion sesgada a la derecha, indicando que la mayoria de los usuarios tardan entre 15-20 minutos en la aplicacion"
   ]
  },
  {
   "cell_type": "code",
   "execution_count": 110,
   "metadata": {},
   "outputs": [
    {
     "data": {
      "text/html": [
       "<div>\n",
       "<style scoped>\n",
       "    .dataframe tbody tr th:only-of-type {\n",
       "        vertical-align: middle;\n",
       "    }\n",
       "\n",
       "    .dataframe tbody tr th {\n",
       "        vertical-align: top;\n",
       "    }\n",
       "\n",
       "    .dataframe thead th {\n",
       "        text-align: right;\n",
       "    }\n",
       "</style>\n",
       "<table border=\"1\" class=\"dataframe\">\n",
       "  <thead>\n",
       "    <tr style=\"text-align: right;\">\n",
       "      <th></th>\n",
       "      <th>uid</th>\n",
       "      <th>mes_inicio</th>\n",
       "      <th>visita_previa</th>\n",
       "      <th>meses_desde_ultima_visita</th>\n",
       "    </tr>\n",
       "  </thead>\n",
       "  <tbody>\n",
       "    <tr>\n",
       "      <th>173818</th>\n",
       "      <td>297729379853735</td>\n",
       "      <td>6</td>\n",
       "      <td>NaN</td>\n",
       "      <td>NaN</td>\n",
       "    </tr>\n",
       "    <tr>\n",
       "      <th>173142</th>\n",
       "      <td>313578113262317</td>\n",
       "      <td>9</td>\n",
       "      <td>NaN</td>\n",
       "      <td>NaN</td>\n",
       "    </tr>\n",
       "    <tr>\n",
       "      <th>34588</th>\n",
       "      <td>325320750514679</td>\n",
       "      <td>9</td>\n",
       "      <td>NaN</td>\n",
       "      <td>NaN</td>\n",
       "    </tr>\n",
       "    <tr>\n",
       "      <th>183750</th>\n",
       "      <td>407573351275847</td>\n",
       "      <td>6</td>\n",
       "      <td>NaN</td>\n",
       "      <td>NaN</td>\n",
       "    </tr>\n",
       "    <tr>\n",
       "      <th>141543</th>\n",
       "      <td>526778907996220</td>\n",
       "      <td>10</td>\n",
       "      <td>NaN</td>\n",
       "      <td>NaN</td>\n",
       "    </tr>\n",
       "    <tr>\n",
       "      <th>307329</th>\n",
       "      <td>526778907996220</td>\n",
       "      <td>10</td>\n",
       "      <td>10.0</td>\n",
       "      <td>0.0</td>\n",
       "    </tr>\n",
       "    <tr>\n",
       "      <th>2566</th>\n",
       "      <td>673910773442622</td>\n",
       "      <td>9</td>\n",
       "      <td>NaN</td>\n",
       "      <td>NaN</td>\n",
       "    </tr>\n",
       "    <tr>\n",
       "      <th>230869</th>\n",
       "      <td>801587065806307</td>\n",
       "      <td>10</td>\n",
       "      <td>NaN</td>\n",
       "      <td>NaN</td>\n",
       "    </tr>\n",
       "    <tr>\n",
       "      <th>217886</th>\n",
       "      <td>1260655184775459</td>\n",
       "      <td>10</td>\n",
       "      <td>NaN</td>\n",
       "      <td>NaN</td>\n",
       "    </tr>\n",
       "    <tr>\n",
       "      <th>285441</th>\n",
       "      <td>1260655184775459</td>\n",
       "      <td>10</td>\n",
       "      <td>10.0</td>\n",
       "      <td>0.0</td>\n",
       "    </tr>\n",
       "  </tbody>\n",
       "</table>\n",
       "</div>"
      ],
      "text/plain": [
       "                     uid  mes_inicio  visita_previa  meses_desde_ultima_visita\n",
       "173818   297729379853735           6            NaN                        NaN\n",
       "173142   313578113262317           9            NaN                        NaN\n",
       "34588    325320750514679           9            NaN                        NaN\n",
       "183750   407573351275847           6            NaN                        NaN\n",
       "141543   526778907996220          10            NaN                        NaN\n",
       "307329   526778907996220          10           10.0                        0.0\n",
       "2566     673910773442622           9            NaN                        NaN\n",
       "230869   801587065806307          10            NaN                        NaN\n",
       "217886  1260655184775459          10            NaN                        NaN\n",
       "285441  1260655184775459          10           10.0                        0.0"
      ]
     },
     "metadata": {},
     "output_type": "display_data"
    }
   ],
   "source": [
    "#Frecuencia con la que los usuarios regresan por cohortes mensuales\n",
    "\n",
    "visitas_ordenadas = visitas.sort_values(by=['año_inicio','uid', 'mes_inicio']) #se organizan los valores en orden cronologico\n",
    "visitas_ordenadas['visita_previa'] =visitas_ordenadas.groupby('uid')['mes_inicio'].shift(1) # se calcula la visita anterior del mismo usuario\n",
    "visitas_ordenadas['meses_desde_ultima_visita'] = (visitas_ordenadas['mes_inicio'] - visitas_ordenadas['visita_previa']) # Se cuentan cuantos dias han pasado desde la ultima visita\n",
    "\n",
    "display(visitas_ordenadas[['uid', 'mes_inicio', 'visita_previa', 'meses_desde_ultima_visita']].head(10))\n"
   ]
  },
  {
   "cell_type": "code",
   "execution_count": 111,
   "metadata": {
    "scrolled": true
   },
   "outputs": [
    {
     "data": {
      "image/png": "[encoded data removed]",
      "text/plain": [
       "<Figure size 1000x500 with 1 Axes>"
      ]
     },
     "metadata": {},
     "output_type": "display_data"
    }
   ],
   "source": [
    "# Distribución de la duración de las sesiones (sin valores nulos)\n",
    "\n",
    "plt.figure(figsize=(10, 5))\n",
    "plt.hist(visitas_ordenadas['meses_desde_ultima_visita'].dropna(), bins=50, color='#faf0ca', edgecolor='black')\n",
    "plt.title('Frecuencia de retorno: Meses entre visitas')\n",
    "plt.xlim(0,8)\n",
    "plt.xlabel('Meses entre visitas')\n",
    "plt.ylabel('Frecuencia')\n",
    "plt.show()"
   ]
  },
  {
   "cell_type": "markdown",
   "metadata": {},
   "source": [
    "La mayoria de usuarios tienden a volver entre 0 y 1 mes. Sin embargo, hay otros usuarios que tienen a volver hasta 6 meses despues."
   ]
  },
  {
   "cell_type": "markdown",
   "metadata": {},
   "source": [
    "### Ventas/ Ordenes"
   ]
  },
  {
   "cell_type": "code",
   "execution_count": 112,
   "metadata": {},
   "outputs": [
    {
     "data": {
      "text/html": [
       "<div>\n",
       "<style scoped>\n",
       "    .dataframe tbody tr th:only-of-type {\n",
       "        vertical-align: middle;\n",
       "    }\n",
       "\n",
       "    .dataframe tbody tr th {\n",
       "        vertical-align: top;\n",
       "    }\n",
       "\n",
       "    .dataframe thead th {\n",
       "        text-align: right;\n",
       "    }\n",
       "</style>\n",
       "<table border=\"1\" class=\"dataframe\">\n",
       "  <thead>\n",
       "    <tr style=\"text-align: right;\">\n",
       "      <th></th>\n",
       "      <th>buy_ts</th>\n",
       "      <th>revenue</th>\n",
       "      <th>uid</th>\n",
       "    </tr>\n",
       "  </thead>\n",
       "  <tbody>\n",
       "    <tr>\n",
       "      <th>0</th>\n",
       "      <td>2017-06-01 00:10:00</td>\n",
       "      <td>17.00</td>\n",
       "      <td>10329302124590727494</td>\n",
       "    </tr>\n",
       "    <tr>\n",
       "      <th>1</th>\n",
       "      <td>2017-06-01 00:25:00</td>\n",
       "      <td>0.55</td>\n",
       "      <td>11627257723692907447</td>\n",
       "    </tr>\n",
       "    <tr>\n",
       "      <th>2</th>\n",
       "      <td>2017-06-01 00:27:00</td>\n",
       "      <td>0.37</td>\n",
       "      <td>17903680561304213844</td>\n",
       "    </tr>\n",
       "    <tr>\n",
       "      <th>3</th>\n",
       "      <td>2017-06-01 00:29:00</td>\n",
       "      <td>0.55</td>\n",
       "      <td>16109239769442553005</td>\n",
       "    </tr>\n",
       "    <tr>\n",
       "      <th>4</th>\n",
       "      <td>2017-06-01 07:58:00</td>\n",
       "      <td>0.37</td>\n",
       "      <td>14200605875248379450</td>\n",
       "    </tr>\n",
       "  </tbody>\n",
       "</table>\n",
       "</div>"
      ],
      "text/plain": [
       "               buy_ts  revenue                   uid\n",
       "0 2017-06-01 00:10:00    17.00  10329302124590727494\n",
       "1 2017-06-01 00:25:00     0.55  11627257723692907447\n",
       "2 2017-06-01 00:27:00     0.37  17903680561304213844\n",
       "3 2017-06-01 00:29:00     0.55  16109239769442553005\n",
       "4 2017-06-01 07:58:00     0.37  14200605875248379450"
      ]
     },
     "execution_count": 112,
     "metadata": {},
     "output_type": "execute_result"
    }
   ],
   "source": [
    "ordenes.head()"
   ]
  },
  {
   "cell_type": "markdown",
   "metadata": {},
   "source": [
    "#### Tiempo de conversion de los clientes "
   ]
  },
  {
   "cell_type": "code",
   "execution_count": 113,
   "metadata": {},
   "outputs": [
    {
     "data": {
      "text/html": [
       "<div>\n",
       "<style scoped>\n",
       "    .dataframe tbody tr th:only-of-type {\n",
       "        vertical-align: middle;\n",
       "    }\n",
       "\n",
       "    .dataframe tbody tr th {\n",
       "        vertical-align: top;\n",
       "    }\n",
       "\n",
       "    .dataframe thead th {\n",
       "        text-align: right;\n",
       "    }\n",
       "</style>\n",
       "<table border=\"1\" class=\"dataframe\">\n",
       "  <thead>\n",
       "    <tr style=\"text-align: right;\">\n",
       "      <th></th>\n",
       "      <th>buy_ts</th>\n",
       "      <th>revenue</th>\n",
       "      <th>uid</th>\n",
       "      <th>año_compra</th>\n",
       "      <th>mes_compra</th>\n",
       "    </tr>\n",
       "  </thead>\n",
       "  <tbody>\n",
       "    <tr>\n",
       "      <th>0</th>\n",
       "      <td>2017-06-01 00:10:00</td>\n",
       "      <td>17.00</td>\n",
       "      <td>10329302124590727494</td>\n",
       "      <td>2017</td>\n",
       "      <td>6</td>\n",
       "    </tr>\n",
       "    <tr>\n",
       "      <th>1</th>\n",
       "      <td>2017-06-01 00:25:00</td>\n",
       "      <td>0.55</td>\n",
       "      <td>11627257723692907447</td>\n",
       "      <td>2017</td>\n",
       "      <td>6</td>\n",
       "    </tr>\n",
       "    <tr>\n",
       "      <th>2</th>\n",
       "      <td>2017-06-01 00:27:00</td>\n",
       "      <td>0.37</td>\n",
       "      <td>17903680561304213844</td>\n",
       "      <td>2017</td>\n",
       "      <td>6</td>\n",
       "    </tr>\n",
       "    <tr>\n",
       "      <th>3</th>\n",
       "      <td>2017-06-01 00:29:00</td>\n",
       "      <td>0.55</td>\n",
       "      <td>16109239769442553005</td>\n",
       "      <td>2017</td>\n",
       "      <td>6</td>\n",
       "    </tr>\n",
       "    <tr>\n",
       "      <th>4</th>\n",
       "      <td>2017-06-01 07:58:00</td>\n",
       "      <td>0.37</td>\n",
       "      <td>14200605875248379450</td>\n",
       "      <td>2017</td>\n",
       "      <td>6</td>\n",
       "    </tr>\n",
       "    <tr>\n",
       "      <th>...</th>\n",
       "      <td>...</td>\n",
       "      <td>...</td>\n",
       "      <td>...</td>\n",
       "      <td>...</td>\n",
       "      <td>...</td>\n",
       "    </tr>\n",
       "    <tr>\n",
       "      <th>50410</th>\n",
       "      <td>2018-05-31 23:50:00</td>\n",
       "      <td>4.64</td>\n",
       "      <td>12296626599487328624</td>\n",
       "      <td>2018</td>\n",
       "      <td>5</td>\n",
       "    </tr>\n",
       "    <tr>\n",
       "      <th>50411</th>\n",
       "      <td>2018-05-31 23:50:00</td>\n",
       "      <td>5.80</td>\n",
       "      <td>11369640365507475976</td>\n",
       "      <td>2018</td>\n",
       "      <td>5</td>\n",
       "    </tr>\n",
       "    <tr>\n",
       "      <th>50412</th>\n",
       "      <td>2018-05-31 23:54:00</td>\n",
       "      <td>0.30</td>\n",
       "      <td>1786462140797698849</td>\n",
       "      <td>2018</td>\n",
       "      <td>5</td>\n",
       "    </tr>\n",
       "    <tr>\n",
       "      <th>50413</th>\n",
       "      <td>2018-05-31 23:56:00</td>\n",
       "      <td>3.67</td>\n",
       "      <td>3993697860786194247</td>\n",
       "      <td>2018</td>\n",
       "      <td>5</td>\n",
       "    </tr>\n",
       "    <tr>\n",
       "      <th>50414</th>\n",
       "      <td>2018-06-01 00:02:00</td>\n",
       "      <td>3.42</td>\n",
       "      <td>83872787173869366</td>\n",
       "      <td>2018</td>\n",
       "      <td>6</td>\n",
       "    </tr>\n",
       "  </tbody>\n",
       "</table>\n",
       "<p>50415 rows × 5 columns</p>\n",
       "</div>"
      ],
      "text/plain": [
       "                   buy_ts  revenue                   uid  año_compra  \\\n",
       "0     2017-06-01 00:10:00    17.00  10329302124590727494        2017   \n",
       "1     2017-06-01 00:25:00     0.55  11627257723692907447        2017   \n",
       "2     2017-06-01 00:27:00     0.37  17903680561304213844        2017   \n",
       "3     2017-06-01 00:29:00     0.55  16109239769442553005        2017   \n",
       "4     2017-06-01 07:58:00     0.37  14200605875248379450        2017   \n",
       "...                   ...      ...                   ...         ...   \n",
       "50410 2018-05-31 23:50:00     4.64  12296626599487328624        2018   \n",
       "50411 2018-05-31 23:50:00     5.80  11369640365507475976        2018   \n",
       "50412 2018-05-31 23:54:00     0.30   1786462140797698849        2018   \n",
       "50413 2018-05-31 23:56:00     3.67   3993697860786194247        2018   \n",
       "50414 2018-06-01 00:02:00     3.42     83872787173869366        2018   \n",
       "\n",
       "       mes_compra  \n",
       "0               6  \n",
       "1               6  \n",
       "2               6  \n",
       "3               6  \n",
       "4               6  \n",
       "...           ...  \n",
       "50410           5  \n",
       "50411           5  \n",
       "50412           5  \n",
       "50413           5  \n",
       "50414           6  \n",
       "\n",
       "[50415 rows x 5 columns]"
      ]
     },
     "execution_count": 113,
     "metadata": {},
     "output_type": "execute_result"
    }
   ],
   "source": [
    "#Fecha de compra convertida a mes.\n",
    "ordenes['año_compra']=ordenes['buy_ts'].dt.year\n",
    "ordenes['mes_compra']=ordenes['buy_ts'].dt.month\n",
    "\n",
    "ordenes"
   ]
  },
  {
   "cell_type": "code",
   "execution_count": 114,
   "metadata": {},
   "outputs": [
    {
     "data": {
      "text/html": [
       "<div>\n",
       "<style scoped>\n",
       "    .dataframe tbody tr th:only-of-type {\n",
       "        vertical-align: middle;\n",
       "    }\n",
       "\n",
       "    .dataframe tbody tr th {\n",
       "        vertical-align: top;\n",
       "    }\n",
       "\n",
       "    .dataframe thead th {\n",
       "        text-align: right;\n",
       "    }\n",
       "</style>\n",
       "<table border=\"1\" class=\"dataframe\">\n",
       "  <thead>\n",
       "    <tr style=\"text-align: right;\">\n",
       "      <th></th>\n",
       "      <th>uid</th>\n",
       "      <th>año_inicio</th>\n",
       "      <th>mes_inicio</th>\n",
       "    </tr>\n",
       "  </thead>\n",
       "  <tbody>\n",
       "    <tr>\n",
       "      <th>196543</th>\n",
       "      <td>11863502262781</td>\n",
       "      <td>2018</td>\n",
       "      <td>3</td>\n",
       "    </tr>\n",
       "    <tr>\n",
       "      <th>257333</th>\n",
       "      <td>49537067089222</td>\n",
       "      <td>2018</td>\n",
       "      <td>2</td>\n",
       "    </tr>\n",
       "    <tr>\n",
       "      <th>173818</th>\n",
       "      <td>297729379853735</td>\n",
       "      <td>2017</td>\n",
       "      <td>6</td>\n",
       "    </tr>\n",
       "    <tr>\n",
       "      <th>173142</th>\n",
       "      <td>313578113262317</td>\n",
       "      <td>2017</td>\n",
       "      <td>9</td>\n",
       "    </tr>\n",
       "    <tr>\n",
       "      <th>34588</th>\n",
       "      <td>325320750514679</td>\n",
       "      <td>2017</td>\n",
       "      <td>9</td>\n",
       "    </tr>\n",
       "    <tr>\n",
       "      <th>...</th>\n",
       "      <td>...</td>\n",
       "      <td>...</td>\n",
       "      <td>...</td>\n",
       "    </tr>\n",
       "    <tr>\n",
       "      <th>286167</th>\n",
       "      <td>18446403737806311543</td>\n",
       "      <td>2017</td>\n",
       "      <td>11</td>\n",
       "    </tr>\n",
       "    <tr>\n",
       "      <th>175259</th>\n",
       "      <td>18446424184725333426</td>\n",
       "      <td>2017</td>\n",
       "      <td>12</td>\n",
       "    </tr>\n",
       "    <tr>\n",
       "      <th>293449</th>\n",
       "      <td>18446556406699109058</td>\n",
       "      <td>2018</td>\n",
       "      <td>1</td>\n",
       "    </tr>\n",
       "    <tr>\n",
       "      <th>319162</th>\n",
       "      <td>18446621818809592527</td>\n",
       "      <td>2017</td>\n",
       "      <td>12</td>\n",
       "    </tr>\n",
       "    <tr>\n",
       "      <th>132805</th>\n",
       "      <td>18446676030785672386</td>\n",
       "      <td>2017</td>\n",
       "      <td>10</td>\n",
       "    </tr>\n",
       "  </tbody>\n",
       "</table>\n",
       "<p>228169 rows × 3 columns</p>\n",
       "</div>"
      ],
      "text/plain": [
       "                         uid  año_inicio  mes_inicio\n",
       "196543        11863502262781        2018           3\n",
       "257333        49537067089222        2018           2\n",
       "173818       297729379853735        2017           6\n",
       "173142       313578113262317        2017           9\n",
       "34588        325320750514679        2017           9\n",
       "...                      ...         ...         ...\n",
       "286167  18446403737806311543        2017          11\n",
       "175259  18446424184725333426        2017          12\n",
       "293449  18446556406699109058        2018           1\n",
       "319162  18446621818809592527        2017          12\n",
       "132805  18446676030785672386        2017          10\n",
       "\n",
       "[228169 rows x 3 columns]"
      ]
     },
     "metadata": {},
     "output_type": "display_data"
    }
   ],
   "source": [
    "#Calcula la primera visita de cada cliente eliminando posibles ingresos del mismo cliente\n",
    "primera_visita=visitas.sort_values(['uid','año_inicio','mes_inicio']).drop_duplicates('uid', keep='first')\n",
    "\n",
    "display(primera_visita[['uid','año_inicio','mes_inicio']])\n"
   ]
  },
  {
   "cell_type": "code",
   "execution_count": 115,
   "metadata": {},
   "outputs": [
    {
     "data": {
      "text/html": [
       "<div>\n",
       "<style scoped>\n",
       "    .dataframe tbody tr th:only-of-type {\n",
       "        vertical-align: middle;\n",
       "    }\n",
       "\n",
       "    .dataframe tbody tr th {\n",
       "        vertical-align: top;\n",
       "    }\n",
       "\n",
       "    .dataframe thead th {\n",
       "        text-align: right;\n",
       "    }\n",
       "</style>\n",
       "<table border=\"1\" class=\"dataframe\">\n",
       "  <thead>\n",
       "    <tr style=\"text-align: right;\">\n",
       "      <th></th>\n",
       "      <th>uid</th>\n",
       "      <th>año_compra</th>\n",
       "      <th>mes_compra</th>\n",
       "    </tr>\n",
       "  </thead>\n",
       "  <tbody>\n",
       "    <tr>\n",
       "      <th>27944</th>\n",
       "      <td>313578113262317</td>\n",
       "      <td>2018</td>\n",
       "      <td>1</td>\n",
       "    </tr>\n",
       "    <tr>\n",
       "      <th>213</th>\n",
       "      <td>1575281904278712</td>\n",
       "      <td>2017</td>\n",
       "      <td>6</td>\n",
       "    </tr>\n",
       "    <tr>\n",
       "      <th>12235</th>\n",
       "      <td>2429014661409475</td>\n",
       "      <td>2017</td>\n",
       "      <td>10</td>\n",
       "    </tr>\n",
       "    <tr>\n",
       "      <th>31462</th>\n",
       "      <td>2464366381792757</td>\n",
       "      <td>2018</td>\n",
       "      <td>1</td>\n",
       "    </tr>\n",
       "    <tr>\n",
       "      <th>19140</th>\n",
       "      <td>2551852515556206</td>\n",
       "      <td>2017</td>\n",
       "      <td>11</td>\n",
       "    </tr>\n",
       "    <tr>\n",
       "      <th>...</th>\n",
       "      <td>...</td>\n",
       "      <td>...</td>\n",
       "      <td>...</td>\n",
       "    </tr>\n",
       "    <tr>\n",
       "      <th>19096</th>\n",
       "      <td>18445147675727495770</td>\n",
       "      <td>2017</td>\n",
       "      <td>11</td>\n",
       "    </tr>\n",
       "    <tr>\n",
       "      <th>8707</th>\n",
       "      <td>18445407535914413204</td>\n",
       "      <td>2017</td>\n",
       "      <td>9</td>\n",
       "    </tr>\n",
       "    <tr>\n",
       "      <th>42213</th>\n",
       "      <td>18445601152732270159</td>\n",
       "      <td>2018</td>\n",
       "      <td>3</td>\n",
       "    </tr>\n",
       "    <tr>\n",
       "      <th>35572</th>\n",
       "      <td>18446156210226471712</td>\n",
       "      <td>2018</td>\n",
       "      <td>2</td>\n",
       "    </tr>\n",
       "    <tr>\n",
       "      <th>13176</th>\n",
       "      <td>18446167067214817906</td>\n",
       "      <td>2017</td>\n",
       "      <td>10</td>\n",
       "    </tr>\n",
       "  </tbody>\n",
       "</table>\n",
       "<p>36523 rows × 3 columns</p>\n",
       "</div>"
      ],
      "text/plain": [
       "                        uid  año_compra  mes_compra\n",
       "27944       313578113262317        2018           1\n",
       "213        1575281904278712        2017           6\n",
       "12235      2429014661409475        2017          10\n",
       "31462      2464366381792757        2018           1\n",
       "19140      2551852515556206        2017          11\n",
       "...                     ...         ...         ...\n",
       "19096  18445147675727495770        2017          11\n",
       "8707   18445407535914413204        2017           9\n",
       "42213  18445601152732270159        2018           3\n",
       "35572  18446156210226471712        2018           2\n",
       "13176  18446167067214817906        2017          10\n",
       "\n",
       "[36523 rows x 3 columns]"
      ]
     },
     "metadata": {},
     "output_type": "display_data"
    }
   ],
   "source": [
    "#Calcula la primera compra de cada cliente, se eliminan las demas ordenes para cada cliente, solo se deja la primera\n",
    "primera_compra=ordenes.sort_values(['uid','año_compra','mes_compra']).drop_duplicates('uid', keep='first')\n",
    "display(primera_compra[['uid','año_compra','mes_compra']])"
   ]
  },
  {
   "cell_type": "code",
   "execution_count": 116,
   "metadata": {},
   "outputs": [
    {
     "data": {
      "text/html": [
       "<div>\n",
       "<style scoped>\n",
       "    .dataframe tbody tr th:only-of-type {\n",
       "        vertical-align: middle;\n",
       "    }\n",
       "\n",
       "    .dataframe tbody tr th {\n",
       "        vertical-align: top;\n",
       "    }\n",
       "\n",
       "    .dataframe thead th {\n",
       "        text-align: right;\n",
       "    }\n",
       "</style>\n",
       "<table border=\"1\" class=\"dataframe\">\n",
       "  <thead>\n",
       "    <tr style=\"text-align: right;\">\n",
       "      <th></th>\n",
       "      <th>uid</th>\n",
       "      <th>año_compra</th>\n",
       "      <th>mes_compra</th>\n",
       "      <th>año_inicio</th>\n",
       "      <th>mes_inicio</th>\n",
       "    </tr>\n",
       "  </thead>\n",
       "  <tbody>\n",
       "    <tr>\n",
       "      <th>0</th>\n",
       "      <td>313578113262317</td>\n",
       "      <td>2018</td>\n",
       "      <td>1</td>\n",
       "      <td>2017</td>\n",
       "      <td>9</td>\n",
       "    </tr>\n",
       "    <tr>\n",
       "      <th>1</th>\n",
       "      <td>1575281904278712</td>\n",
       "      <td>2017</td>\n",
       "      <td>6</td>\n",
       "      <td>2017</td>\n",
       "      <td>6</td>\n",
       "    </tr>\n",
       "    <tr>\n",
       "      <th>2</th>\n",
       "      <td>2429014661409475</td>\n",
       "      <td>2017</td>\n",
       "      <td>10</td>\n",
       "      <td>2017</td>\n",
       "      <td>10</td>\n",
       "    </tr>\n",
       "    <tr>\n",
       "      <th>3</th>\n",
       "      <td>2464366381792757</td>\n",
       "      <td>2018</td>\n",
       "      <td>1</td>\n",
       "      <td>2018</td>\n",
       "      <td>1</td>\n",
       "    </tr>\n",
       "    <tr>\n",
       "      <th>4</th>\n",
       "      <td>2551852515556206</td>\n",
       "      <td>2017</td>\n",
       "      <td>11</td>\n",
       "      <td>2017</td>\n",
       "      <td>11</td>\n",
       "    </tr>\n",
       "    <tr>\n",
       "      <th>...</th>\n",
       "      <td>...</td>\n",
       "      <td>...</td>\n",
       "      <td>...</td>\n",
       "      <td>...</td>\n",
       "      <td>...</td>\n",
       "    </tr>\n",
       "    <tr>\n",
       "      <th>36518</th>\n",
       "      <td>18445147675727495770</td>\n",
       "      <td>2017</td>\n",
       "      <td>11</td>\n",
       "      <td>2017</td>\n",
       "      <td>8</td>\n",
       "    </tr>\n",
       "    <tr>\n",
       "      <th>36519</th>\n",
       "      <td>18445407535914413204</td>\n",
       "      <td>2017</td>\n",
       "      <td>9</td>\n",
       "      <td>2017</td>\n",
       "      <td>9</td>\n",
       "    </tr>\n",
       "    <tr>\n",
       "      <th>36520</th>\n",
       "      <td>18445601152732270159</td>\n",
       "      <td>2018</td>\n",
       "      <td>3</td>\n",
       "      <td>2017</td>\n",
       "      <td>8</td>\n",
       "    </tr>\n",
       "    <tr>\n",
       "      <th>36521</th>\n",
       "      <td>18446156210226471712</td>\n",
       "      <td>2018</td>\n",
       "      <td>2</td>\n",
       "      <td>2017</td>\n",
       "      <td>11</td>\n",
       "    </tr>\n",
       "    <tr>\n",
       "      <th>36522</th>\n",
       "      <td>18446167067214817906</td>\n",
       "      <td>2017</td>\n",
       "      <td>10</td>\n",
       "      <td>2017</td>\n",
       "      <td>10</td>\n",
       "    </tr>\n",
       "  </tbody>\n",
       "</table>\n",
       "<p>36523 rows × 5 columns</p>\n",
       "</div>"
      ],
      "text/plain": [
       "                        uid  año_compra  mes_compra  año_inicio  mes_inicio\n",
       "0           313578113262317        2018           1        2017           9\n",
       "1          1575281904278712        2017           6        2017           6\n",
       "2          2429014661409475        2017          10        2017          10\n",
       "3          2464366381792757        2018           1        2018           1\n",
       "4          2551852515556206        2017          11        2017          11\n",
       "...                     ...         ...         ...         ...         ...\n",
       "36518  18445147675727495770        2017          11        2017           8\n",
       "36519  18445407535914413204        2017           9        2017           9\n",
       "36520  18445601152732270159        2018           3        2017           8\n",
       "36521  18446156210226471712        2018           2        2017          11\n",
       "36522  18446167067214817906        2017          10        2017          10\n",
       "\n",
       "[36523 rows x 5 columns]"
      ]
     },
     "metadata": {},
     "output_type": "display_data"
    }
   ],
   "source": [
    "#Unir las dos tablas de primera compra y primera visita para calcular la diferencia en meses de las dos acciones\n",
    "\n",
    "conversion = pd.merge(primera_visita, primera_compra, on='uid', how='inner')\n",
    "\n",
    "display(conversion[['uid','año_compra','mes_compra','año_inicio','mes_inicio']])\n",
    "        "
   ]
  },
  {
   "cell_type": "code",
   "execution_count": 117,
   "metadata": {},
   "outputs": [
    {
     "data": {
      "text/html": [
       "<div>\n",
       "<style scoped>\n",
       "    .dataframe tbody tr th:only-of-type {\n",
       "        vertical-align: middle;\n",
       "    }\n",
       "\n",
       "    .dataframe tbody tr th {\n",
       "        vertical-align: top;\n",
       "    }\n",
       "\n",
       "    .dataframe thead th {\n",
       "        text-align: right;\n",
       "    }\n",
       "</style>\n",
       "<table border=\"1\" class=\"dataframe\">\n",
       "  <thead>\n",
       "    <tr style=\"text-align: right;\">\n",
       "      <th></th>\n",
       "      <th>uid</th>\n",
       "      <th>año_compra</th>\n",
       "      <th>mes_compra</th>\n",
       "      <th>año_inicio</th>\n",
       "      <th>mes_inicio</th>\n",
       "      <th>conversion_meses</th>\n",
       "    </tr>\n",
       "  </thead>\n",
       "  <tbody>\n",
       "    <tr>\n",
       "      <th>0</th>\n",
       "      <td>313578113262317</td>\n",
       "      <td>2018</td>\n",
       "      <td>1</td>\n",
       "      <td>2017</td>\n",
       "      <td>9</td>\n",
       "      <td>4</td>\n",
       "    </tr>\n",
       "    <tr>\n",
       "      <th>1</th>\n",
       "      <td>1575281904278712</td>\n",
       "      <td>2017</td>\n",
       "      <td>6</td>\n",
       "      <td>2017</td>\n",
       "      <td>6</td>\n",
       "      <td>0</td>\n",
       "    </tr>\n",
       "    <tr>\n",
       "      <th>2</th>\n",
       "      <td>2429014661409475</td>\n",
       "      <td>2017</td>\n",
       "      <td>10</td>\n",
       "      <td>2017</td>\n",
       "      <td>10</td>\n",
       "      <td>0</td>\n",
       "    </tr>\n",
       "    <tr>\n",
       "      <th>3</th>\n",
       "      <td>2464366381792757</td>\n",
       "      <td>2018</td>\n",
       "      <td>1</td>\n",
       "      <td>2018</td>\n",
       "      <td>1</td>\n",
       "      <td>0</td>\n",
       "    </tr>\n",
       "    <tr>\n",
       "      <th>4</th>\n",
       "      <td>2551852515556206</td>\n",
       "      <td>2017</td>\n",
       "      <td>11</td>\n",
       "      <td>2017</td>\n",
       "      <td>11</td>\n",
       "      <td>0</td>\n",
       "    </tr>\n",
       "    <tr>\n",
       "      <th>...</th>\n",
       "      <td>...</td>\n",
       "      <td>...</td>\n",
       "      <td>...</td>\n",
       "      <td>...</td>\n",
       "      <td>...</td>\n",
       "      <td>...</td>\n",
       "    </tr>\n",
       "    <tr>\n",
       "      <th>36518</th>\n",
       "      <td>18445147675727495770</td>\n",
       "      <td>2017</td>\n",
       "      <td>11</td>\n",
       "      <td>2017</td>\n",
       "      <td>8</td>\n",
       "      <td>3</td>\n",
       "    </tr>\n",
       "    <tr>\n",
       "      <th>36519</th>\n",
       "      <td>18445407535914413204</td>\n",
       "      <td>2017</td>\n",
       "      <td>9</td>\n",
       "      <td>2017</td>\n",
       "      <td>9</td>\n",
       "      <td>0</td>\n",
       "    </tr>\n",
       "    <tr>\n",
       "      <th>36520</th>\n",
       "      <td>18445601152732270159</td>\n",
       "      <td>2018</td>\n",
       "      <td>3</td>\n",
       "      <td>2017</td>\n",
       "      <td>8</td>\n",
       "      <td>7</td>\n",
       "    </tr>\n",
       "    <tr>\n",
       "      <th>36521</th>\n",
       "      <td>18446156210226471712</td>\n",
       "      <td>2018</td>\n",
       "      <td>2</td>\n",
       "      <td>2017</td>\n",
       "      <td>11</td>\n",
       "      <td>3</td>\n",
       "    </tr>\n",
       "    <tr>\n",
       "      <th>36522</th>\n",
       "      <td>18446167067214817906</td>\n",
       "      <td>2017</td>\n",
       "      <td>10</td>\n",
       "      <td>2017</td>\n",
       "      <td>10</td>\n",
       "      <td>0</td>\n",
       "    </tr>\n",
       "  </tbody>\n",
       "</table>\n",
       "<p>36523 rows × 6 columns</p>\n",
       "</div>"
      ],
      "text/plain": [
       "                        uid  año_compra  mes_compra  año_inicio  mes_inicio  \\\n",
       "0           313578113262317        2018           1        2017           9   \n",
       "1          1575281904278712        2017           6        2017           6   \n",
       "2          2429014661409475        2017          10        2017          10   \n",
       "3          2464366381792757        2018           1        2018           1   \n",
       "4          2551852515556206        2017          11        2017          11   \n",
       "...                     ...         ...         ...         ...         ...   \n",
       "36518  18445147675727495770        2017          11        2017           8   \n",
       "36519  18445407535914413204        2017           9        2017           9   \n",
       "36520  18445601152732270159        2018           3        2017           8   \n",
       "36521  18446156210226471712        2018           2        2017          11   \n",
       "36522  18446167067214817906        2017          10        2017          10   \n",
       "\n",
       "       conversion_meses  \n",
       "0                     4  \n",
       "1                     0  \n",
       "2                     0  \n",
       "3                     0  \n",
       "4                     0  \n",
       "...                 ...  \n",
       "36518                 3  \n",
       "36519                 0  \n",
       "36520                 7  \n",
       "36521                 3  \n",
       "36522                 0  \n",
       "\n",
       "[36523 rows x 6 columns]"
      ]
     },
     "metadata": {},
     "output_type": "display_data"
    }
   ],
   "source": [
    "# Se tienen que considerar los años de diferencia tambien para evitar calculos erroneos en los meses\n",
    "\n",
    "conversion['conversion_meses'] = ((conversion['año_compra'] - conversion['año_inicio'])*12 +\n",
    "(conversion['mes_compra'] - conversion['mes_inicio']))\n",
    "\n",
    "display(conversion[['uid','año_compra','mes_compra','año_inicio','mes_inicio','conversion_meses']])\n"
   ]
  },
  {
   "cell_type": "code",
   "execution_count": 118,
   "metadata": {
    "scrolled": true
   },
   "outputs": [
    {
     "data": {
      "image/png": "[encoded data removed]",
      "text/plain": [
       "<Figure size 1000x500 with 1 Axes>"
      ]
     },
     "metadata": {},
     "output_type": "display_data"
    }
   ],
   "source": [
    "# Distribución de la conversion de los clientes por mes\n",
    "\n",
    "plt.figure(figsize=(10, 5))\n",
    "plt.hist(conversion['conversion_meses'], bins=50, color='#83d0cb', edgecolor='black')\n",
    "plt.title('Conversion en terminos de meses')\n",
    "plt.xlim(0,10)\n",
    "plt.xlabel('Meses entre la primera visita y la primera compra')\n",
    "plt.ylabel('Frecuencia')\n",
    "plt.show()"
   ]
  },
  {
   "cell_type": "markdown",
   "metadata": {},
   "source": [
    "La gran mayoria de los clientes tiende a comprar el mismo mes de la primera visita"
   ]
  },
  {
   "cell_type": "markdown",
   "metadata": {},
   "source": [
    "####  Pedidos que realizan los clientes por mes"
   ]
  },
  {
   "cell_type": "code",
   "execution_count": 119,
   "metadata": {},
   "outputs": [
    {
     "data": {
      "text/html": [
       "<div>\n",
       "<style scoped>\n",
       "    .dataframe tbody tr th:only-of-type {\n",
       "        vertical-align: middle;\n",
       "    }\n",
       "\n",
       "    .dataframe tbody tr th {\n",
       "        vertical-align: top;\n",
       "    }\n",
       "\n",
       "    .dataframe thead th {\n",
       "        text-align: right;\n",
       "    }\n",
       "</style>\n",
       "<table border=\"1\" class=\"dataframe\">\n",
       "  <thead>\n",
       "    <tr style=\"text-align: right;\">\n",
       "      <th></th>\n",
       "      <th>año_compra</th>\n",
       "      <th>mes_compra</th>\n",
       "      <th>uid</th>\n",
       "    </tr>\n",
       "  </thead>\n",
       "  <tbody>\n",
       "    <tr>\n",
       "      <th>0</th>\n",
       "      <td>2017</td>\n",
       "      <td>6</td>\n",
       "      <td>2354</td>\n",
       "    </tr>\n",
       "    <tr>\n",
       "      <th>1</th>\n",
       "      <td>2017</td>\n",
       "      <td>7</td>\n",
       "      <td>2363</td>\n",
       "    </tr>\n",
       "    <tr>\n",
       "      <th>2</th>\n",
       "      <td>2017</td>\n",
       "      <td>8</td>\n",
       "      <td>1807</td>\n",
       "    </tr>\n",
       "    <tr>\n",
       "      <th>3</th>\n",
       "      <td>2017</td>\n",
       "      <td>9</td>\n",
       "      <td>3387</td>\n",
       "    </tr>\n",
       "    <tr>\n",
       "      <th>4</th>\n",
       "      <td>2017</td>\n",
       "      <td>10</td>\n",
       "      <td>5679</td>\n",
       "    </tr>\n",
       "    <tr>\n",
       "      <th>5</th>\n",
       "      <td>2017</td>\n",
       "      <td>11</td>\n",
       "      <td>5659</td>\n",
       "    </tr>\n",
       "    <tr>\n",
       "      <th>6</th>\n",
       "      <td>2017</td>\n",
       "      <td>12</td>\n",
       "      <td>6218</td>\n",
       "    </tr>\n",
       "    <tr>\n",
       "      <th>7</th>\n",
       "      <td>2018</td>\n",
       "      <td>1</td>\n",
       "      <td>4721</td>\n",
       "    </tr>\n",
       "    <tr>\n",
       "      <th>8</th>\n",
       "      <td>2018</td>\n",
       "      <td>2</td>\n",
       "      <td>5281</td>\n",
       "    </tr>\n",
       "    <tr>\n",
       "      <th>9</th>\n",
       "      <td>2018</td>\n",
       "      <td>3</td>\n",
       "      <td>5326</td>\n",
       "    </tr>\n",
       "    <tr>\n",
       "      <th>10</th>\n",
       "      <td>2018</td>\n",
       "      <td>4</td>\n",
       "      <td>3273</td>\n",
       "    </tr>\n",
       "    <tr>\n",
       "      <th>11</th>\n",
       "      <td>2018</td>\n",
       "      <td>5</td>\n",
       "      <td>4346</td>\n",
       "    </tr>\n",
       "    <tr>\n",
       "      <th>12</th>\n",
       "      <td>2018</td>\n",
       "      <td>6</td>\n",
       "      <td>1</td>\n",
       "    </tr>\n",
       "  </tbody>\n",
       "</table>\n",
       "</div>"
      ],
      "text/plain": [
       "    año_compra  mes_compra   uid\n",
       "0         2017           6  2354\n",
       "1         2017           7  2363\n",
       "2         2017           8  1807\n",
       "3         2017           9  3387\n",
       "4         2017          10  5679\n",
       "5         2017          11  5659\n",
       "6         2017          12  6218\n",
       "7         2018           1  4721\n",
       "8         2018           2  5281\n",
       "9         2018           3  5326\n",
       "10        2018           4  3273\n",
       "11        2018           5  4346\n",
       "12        2018           6     1"
      ]
     },
     "execution_count": 119,
     "metadata": {},
     "output_type": "execute_result"
    }
   ],
   "source": [
    "#Se van a contabiliar la cantidad de boletas que compraron los clientes por mes\n",
    "\n",
    "pedidos_clientes_mes=ordenes.groupby(['año_compra','mes_compra'])['uid'].count().reset_index()\n",
    "pedidos_clientes_mes"
   ]
  },
  {
   "cell_type": "code",
   "execution_count": 120,
   "metadata": {},
   "outputs": [
    {
     "data": {
      "image/png": "[encoded data removed]",
      "text/plain": [
       "<Figure size 640x480 with 1 Axes>"
      ]
     },
     "metadata": {},
     "output_type": "display_data"
    }
   ],
   "source": [
    "#Variacion de la compra de boletos segun el mes\n",
    "\n",
    "sns.lineplot(data=pedidos_clientes_mes, x=\"mes_compra\", y=\"uid\", hue= \"año_compra\", marker=\"o\")\n",
    "\n",
    "plt.xlabel(\"Mes\")\n",
    "plt.ylabel(\"Numero de pedidos\")\n",
    "plt.title(\"Numero de pedidos por mes\")\n",
    "plt.legend()\n",
    "plt.show()"
   ]
  },
  {
   "cell_type": "markdown",
   "metadata": {},
   "source": [
    "Se evidencia una caida significativa de compra de boleteria desde el 2017 al 2018"
   ]
  },
  {
   "cell_type": "markdown",
   "metadata": {},
   "source": [
    "####  Tamaño promedio de compra"
   ]
  },
  {
   "cell_type": "code",
   "execution_count": 121,
   "metadata": {},
   "outputs": [
    {
     "data": {
      "text/html": [
       "<div>\n",
       "<style scoped>\n",
       "    .dataframe tbody tr th:only-of-type {\n",
       "        vertical-align: middle;\n",
       "    }\n",
       "\n",
       "    .dataframe tbody tr th {\n",
       "        vertical-align: top;\n",
       "    }\n",
       "\n",
       "    .dataframe thead th {\n",
       "        text-align: right;\n",
       "    }\n",
       "</style>\n",
       "<table border=\"1\" class=\"dataframe\">\n",
       "  <thead>\n",
       "    <tr style=\"text-align: right;\">\n",
       "      <th></th>\n",
       "      <th>año_compra</th>\n",
       "      <th>mes_compra</th>\n",
       "      <th>revenue</th>\n",
       "    </tr>\n",
       "  </thead>\n",
       "  <tbody>\n",
       "    <tr>\n",
       "      <th>0</th>\n",
       "      <td>2017</td>\n",
       "      <td>6</td>\n",
       "      <td>4.060106</td>\n",
       "    </tr>\n",
       "    <tr>\n",
       "      <th>1</th>\n",
       "      <td>2017</td>\n",
       "      <td>7</td>\n",
       "      <td>5.306589</td>\n",
       "    </tr>\n",
       "    <tr>\n",
       "      <th>2</th>\n",
       "      <td>2017</td>\n",
       "      <td>8</td>\n",
       "      <td>4.847139</td>\n",
       "    </tr>\n",
       "    <tr>\n",
       "      <th>3</th>\n",
       "      <td>2017</td>\n",
       "      <td>9</td>\n",
       "      <td>5.416448</td>\n",
       "    </tr>\n",
       "    <tr>\n",
       "      <th>4</th>\n",
       "      <td>2017</td>\n",
       "      <td>10</td>\n",
       "      <td>4.928280</td>\n",
       "    </tr>\n",
       "    <tr>\n",
       "      <th>5</th>\n",
       "      <td>2017</td>\n",
       "      <td>11</td>\n",
       "      <td>4.783518</td>\n",
       "    </tr>\n",
       "    <tr>\n",
       "      <th>6</th>\n",
       "      <td>2017</td>\n",
       "      <td>12</td>\n",
       "      <td>5.852139</td>\n",
       "    </tr>\n",
       "    <tr>\n",
       "      <th>7</th>\n",
       "      <td>2018</td>\n",
       "      <td>1</td>\n",
       "      <td>4.112927</td>\n",
       "    </tr>\n",
       "    <tr>\n",
       "      <th>8</th>\n",
       "      <td>2018</td>\n",
       "      <td>2</td>\n",
       "      <td>4.840095</td>\n",
       "    </tr>\n",
       "    <tr>\n",
       "      <th>9</th>\n",
       "      <td>2018</td>\n",
       "      <td>3</td>\n",
       "      <td>5.413930</td>\n",
       "    </tr>\n",
       "    <tr>\n",
       "      <th>10</th>\n",
       "      <td>2018</td>\n",
       "      <td>4</td>\n",
       "      <td>5.150645</td>\n",
       "    </tr>\n",
       "    <tr>\n",
       "      <th>11</th>\n",
       "      <td>2018</td>\n",
       "      <td>5</td>\n",
       "      <td>4.771279</td>\n",
       "    </tr>\n",
       "    <tr>\n",
       "      <th>12</th>\n",
       "      <td>2018</td>\n",
       "      <td>6</td>\n",
       "      <td>3.420000</td>\n",
       "    </tr>\n",
       "  </tbody>\n",
       "</table>\n",
       "</div>"
      ],
      "text/plain": [
       "    año_compra  mes_compra   revenue\n",
       "0         2017           6  4.060106\n",
       "1         2017           7  5.306589\n",
       "2         2017           8  4.847139\n",
       "3         2017           9  5.416448\n",
       "4         2017          10  4.928280\n",
       "5         2017          11  4.783518\n",
       "6         2017          12  5.852139\n",
       "7         2018           1  4.112927\n",
       "8         2018           2  4.840095\n",
       "9         2018           3  5.413930\n",
       "10        2018           4  5.150645\n",
       "11        2018           5  4.771279\n",
       "12        2018           6  3.420000"
      ]
     },
     "execution_count": 121,
     "metadata": {},
     "output_type": "execute_result"
    }
   ],
   "source": [
    "#Ingreso promedio por mes\n",
    "\n",
    "ganancia_mes=ordenes.groupby(['año_compra','mes_compra'])['revenue'].mean().reset_index()\n",
    "ganancia_mes"
   ]
  },
  {
   "cell_type": "code",
   "execution_count": 122,
   "metadata": {
    "scrolled": true
   },
   "outputs": [
    {
     "data": {
      "image/png": "[encoded data removed]",
      "text/plain": [
       "<Figure size 640x480 with 1 Axes>"
      ]
     },
     "metadata": {},
     "output_type": "display_data"
    }
   ],
   "source": [
    "#Grafica del comportamiento del promedio del ingreso mensual\n",
    "sns.lineplot(data=ganancia_mes, x=\"mes_compra\", y=\"revenue\", hue= \"año_compra\", marker=\"o\")\n",
    "\n",
    "plt.xlabel(\"Mes\")\n",
    "plt.ylabel(\"Ingreso promedio\")\n",
    "plt.title(\"Ingreso promedio mensual\")\n",
    "plt.legend()\n",
    "plt.show()"
   ]
  },
  {
   "cell_type": "code",
   "execution_count": 123,
   "metadata": {},
   "outputs": [
    {
     "name": "stdout",
     "output_type": "stream",
     "text": [
      "El tamaño promedio del ingreso es: $5.0\n"
     ]
    }
   ],
   "source": [
    "#Tamaño del ingreso en general\n",
    "\n",
    "tamaño_general=ordenes['revenue'].mean()\n",
    "\n",
    "print(f\"El tamaño promedio del ingreso es: ${tamaño_general.round()}\")"
   ]
  },
  {
   "cell_type": "markdown",
   "metadata": {},
   "source": [
    "####  LifeTime Value -Dinero que dejan los clientes mensualmente"
   ]
  },
  {
   "cell_type": "code",
   "execution_count": 137,
   "metadata": {},
   "outputs": [
    {
     "data": {
      "text/html": [
       "<div>\n",
       "<style scoped>\n",
       "    .dataframe tbody tr th:only-of-type {\n",
       "        vertical-align: middle;\n",
       "    }\n",
       "\n",
       "    .dataframe tbody tr th {\n",
       "        vertical-align: top;\n",
       "    }\n",
       "\n",
       "    .dataframe thead th {\n",
       "        text-align: right;\n",
       "    }\n",
       "</style>\n",
       "<table border=\"1\" class=\"dataframe\">\n",
       "  <thead>\n",
       "    <tr style=\"text-align: right;\">\n",
       "      <th></th>\n",
       "      <th>año_compra</th>\n",
       "      <th>mes_compra</th>\n",
       "      <th>revenue</th>\n",
       "      <th>periodo</th>\n",
       "    </tr>\n",
       "  </thead>\n",
       "  <tbody>\n",
       "    <tr>\n",
       "      <th>0</th>\n",
       "      <td>2017</td>\n",
       "      <td>6</td>\n",
       "      <td>9557.49</td>\n",
       "      <td>201706</td>\n",
       "    </tr>\n",
       "    <tr>\n",
       "      <th>1</th>\n",
       "      <td>2017</td>\n",
       "      <td>7</td>\n",
       "      <td>12539.47</td>\n",
       "      <td>201707</td>\n",
       "    </tr>\n",
       "    <tr>\n",
       "      <th>2</th>\n",
       "      <td>2017</td>\n",
       "      <td>8</td>\n",
       "      <td>8758.78</td>\n",
       "      <td>201708</td>\n",
       "    </tr>\n",
       "    <tr>\n",
       "      <th>3</th>\n",
       "      <td>2017</td>\n",
       "      <td>9</td>\n",
       "      <td>18345.51</td>\n",
       "      <td>201709</td>\n",
       "    </tr>\n",
       "    <tr>\n",
       "      <th>4</th>\n",
       "      <td>2017</td>\n",
       "      <td>10</td>\n",
       "      <td>27987.70</td>\n",
       "      <td>201710</td>\n",
       "    </tr>\n",
       "    <tr>\n",
       "      <th>5</th>\n",
       "      <td>2017</td>\n",
       "      <td>11</td>\n",
       "      <td>27069.93</td>\n",
       "      <td>201711</td>\n",
       "    </tr>\n",
       "    <tr>\n",
       "      <th>6</th>\n",
       "      <td>2017</td>\n",
       "      <td>12</td>\n",
       "      <td>36388.60</td>\n",
       "      <td>201712</td>\n",
       "    </tr>\n",
       "    <tr>\n",
       "      <th>7</th>\n",
       "      <td>2018</td>\n",
       "      <td>1</td>\n",
       "      <td>19417.13</td>\n",
       "      <td>201801</td>\n",
       "    </tr>\n",
       "    <tr>\n",
       "      <th>8</th>\n",
       "      <td>2018</td>\n",
       "      <td>2</td>\n",
       "      <td>25560.54</td>\n",
       "      <td>201802</td>\n",
       "    </tr>\n",
       "    <tr>\n",
       "      <th>9</th>\n",
       "      <td>2018</td>\n",
       "      <td>3</td>\n",
       "      <td>28834.59</td>\n",
       "      <td>201803</td>\n",
       "    </tr>\n",
       "    <tr>\n",
       "      <th>10</th>\n",
       "      <td>2018</td>\n",
       "      <td>4</td>\n",
       "      <td>16858.06</td>\n",
       "      <td>201804</td>\n",
       "    </tr>\n",
       "    <tr>\n",
       "      <th>11</th>\n",
       "      <td>2018</td>\n",
       "      <td>5</td>\n",
       "      <td>20735.98</td>\n",
       "      <td>201805</td>\n",
       "    </tr>\n",
       "    <tr>\n",
       "      <th>12</th>\n",
       "      <td>2018</td>\n",
       "      <td>6</td>\n",
       "      <td>3.42</td>\n",
       "      <td>201806</td>\n",
       "    </tr>\n",
       "  </tbody>\n",
       "</table>\n",
       "</div>"
      ],
      "text/plain": [
       "    año_compra  mes_compra   revenue periodo\n",
       "0         2017           6   9557.49  201706\n",
       "1         2017           7  12539.47  201707\n",
       "2         2017           8   8758.78  201708\n",
       "3         2017           9  18345.51  201709\n",
       "4         2017          10  27987.70  201710\n",
       "5         2017          11  27069.93  201711\n",
       "6         2017          12  36388.60  201712\n",
       "7         2018           1  19417.13  201801\n",
       "8         2018           2  25560.54  201802\n",
       "9         2018           3  28834.59  201803\n",
       "10        2018           4  16858.06  201804\n",
       "11        2018           5  20735.98  201805\n",
       "12        2018           6      3.42  201806"
      ]
     },
     "execution_count": 137,
     "metadata": {},
     "output_type": "execute_result"
    }
   ],
   "source": [
    "# Lifetime Value (LTV) por usuarios mensuales\n",
    "\n",
    "ltv_mes=ordenes.groupby(['año_compra','mes_compra'])['revenue'].sum().reset_index()\n",
    "ltv_mes['periodo'] = ltv_mes['año_compra']*100 + ltv_mes['mes_compra']\n",
    "ltv_mes['periodo'] = ltv_mes['periodo'].astype(str)\n",
    "ltv_mes"
   ]
  },
  {
   "cell_type": "code",
   "execution_count": 141,
   "metadata": {
    "scrolled": false
   },
   "outputs": [
    {
     "data": {
      "image/png": "[encoded data removed]",
      "text/plain": [
       "<Figure size 1200x600 with 1 Axes>"
      ]
     },
     "metadata": {},
     "output_type": "display_data"
    }
   ],
   "source": [
    "#Grafica del comportamiento del promedio del ingreso mensual\n",
    "plt.figure(figsize=(12, 6))\n",
    "sns.lineplot(data=ltv_mes, x=\"periodo\", y=\"revenue\", hue= \"año_compra\", marker=\"o\")\n",
    "plt.xlabel(\"Periodo\")\n",
    "plt.ylabel(\"Ingreso\")\n",
    "plt.title(\"Ingreso  mensual\")\n",
    "plt.legend()\n",
    "plt.show()"
   ]
  },
  {
   "cell_type": "markdown",
   "metadata": {},
   "source": [
    "La grafica muestra como hay un incremento significativo el segundo semestre del 2017 y luego una disminucion en los ingresos para el primer semestre del 2018. Necesitariamos mas datos para identificar si es un comportamiento patron siempre en todos los años o identificar la razon de la caida abrupta para el primer semestre"
   ]
  },
  {
   "cell_type": "code",
   "execution_count": 126,
   "metadata": {},
   "outputs": [
    {
     "data": {
      "text/html": [
       "<div>\n",
       "<style scoped>\n",
       "    .dataframe tbody tr th:only-of-type {\n",
       "        vertical-align: middle;\n",
       "    }\n",
       "\n",
       "    .dataframe tbody tr th {\n",
       "        vertical-align: top;\n",
       "    }\n",
       "\n",
       "    .dataframe thead th {\n",
       "        text-align: right;\n",
       "    }\n",
       "</style>\n",
       "<table border=\"1\" class=\"dataframe\">\n",
       "  <thead>\n",
       "    <tr style=\"text-align: right;\">\n",
       "      <th></th>\n",
       "      <th>device</th>\n",
       "      <th>end_ts</th>\n",
       "      <th>source_id</th>\n",
       "      <th>start_ts</th>\n",
       "      <th>uid</th>\n",
       "      <th>duracion_min</th>\n",
       "      <th>año_inicio</th>\n",
       "      <th>semana_inicio</th>\n",
       "      <th>dia_inicio</th>\n",
       "      <th>mes_inicio</th>\n",
       "      <th>mes_final</th>\n",
       "      <th>buy_ts</th>\n",
       "      <th>revenue</th>\n",
       "      <th>año_compra</th>\n",
       "      <th>mes_compra</th>\n",
       "      <th>conversion_meses</th>\n",
       "    </tr>\n",
       "  </thead>\n",
       "  <tbody>\n",
       "    <tr>\n",
       "      <th>0</th>\n",
       "      <td>desktop</td>\n",
       "      <td>2017-09-18 23:07:00</td>\n",
       "      <td>2</td>\n",
       "      <td>2017-09-18 22:49:00</td>\n",
       "      <td>313578113262317</td>\n",
       "      <td>18.0</td>\n",
       "      <td>2017</td>\n",
       "      <td>38</td>\n",
       "      <td>1</td>\n",
       "      <td>9</td>\n",
       "      <td>9</td>\n",
       "      <td>2018-01-03 21:51:00</td>\n",
       "      <td>0.55</td>\n",
       "      <td>2018</td>\n",
       "      <td>1</td>\n",
       "      <td>4</td>\n",
       "    </tr>\n",
       "    <tr>\n",
       "      <th>1</th>\n",
       "      <td>touch</td>\n",
       "      <td>2017-06-03 10:17:00</td>\n",
       "      <td>10</td>\n",
       "      <td>2017-06-03 10:13:00</td>\n",
       "      <td>1575281904278712</td>\n",
       "      <td>4.0</td>\n",
       "      <td>2017</td>\n",
       "      <td>22</td>\n",
       "      <td>6</td>\n",
       "      <td>6</td>\n",
       "      <td>6</td>\n",
       "      <td>2017-06-03 10:13:00</td>\n",
       "      <td>1.22</td>\n",
       "      <td>2017</td>\n",
       "      <td>6</td>\n",
       "      <td>0</td>\n",
       "    </tr>\n",
       "    <tr>\n",
       "      <th>2</th>\n",
       "      <td>desktop</td>\n",
       "      <td>2017-10-11 17:27:00</td>\n",
       "      <td>3</td>\n",
       "      <td>2017-10-11 17:14:00</td>\n",
       "      <td>2429014661409475</td>\n",
       "      <td>13.0</td>\n",
       "      <td>2017</td>\n",
       "      <td>41</td>\n",
       "      <td>3</td>\n",
       "      <td>10</td>\n",
       "      <td>10</td>\n",
       "      <td>2017-10-11 18:33:00</td>\n",
       "      <td>73.33</td>\n",
       "      <td>2017</td>\n",
       "      <td>10</td>\n",
       "      <td>0</td>\n",
       "    </tr>\n",
       "    <tr>\n",
       "      <th>3</th>\n",
       "      <td>desktop</td>\n",
       "      <td>2018-01-27 20:13:00</td>\n",
       "      <td>5</td>\n",
       "      <td>2018-01-27 20:10:00</td>\n",
       "      <td>2464366381792757</td>\n",
       "      <td>3.0</td>\n",
       "      <td>2018</td>\n",
       "      <td>4</td>\n",
       "      <td>6</td>\n",
       "      <td>1</td>\n",
       "      <td>1</td>\n",
       "      <td>2018-01-28 15:54:00</td>\n",
       "      <td>2.44</td>\n",
       "      <td>2018</td>\n",
       "      <td>1</td>\n",
       "      <td>0</td>\n",
       "    </tr>\n",
       "    <tr>\n",
       "      <th>4</th>\n",
       "      <td>desktop</td>\n",
       "      <td>2017-11-24 11:31:00</td>\n",
       "      <td>5</td>\n",
       "      <td>2017-11-24 11:22:00</td>\n",
       "      <td>2551852515556206</td>\n",
       "      <td>9.0</td>\n",
       "      <td>2017</td>\n",
       "      <td>47</td>\n",
       "      <td>5</td>\n",
       "      <td>11</td>\n",
       "      <td>11</td>\n",
       "      <td>2017-11-24 10:14:00</td>\n",
       "      <td>6.32</td>\n",
       "      <td>2017</td>\n",
       "      <td>11</td>\n",
       "      <td>0</td>\n",
       "    </tr>\n",
       "  </tbody>\n",
       "</table>\n",
       "</div>"
      ],
      "text/plain": [
       "    device              end_ts  source_id            start_ts  \\\n",
       "0  desktop 2017-09-18 23:07:00          2 2017-09-18 22:49:00   \n",
       "1    touch 2017-06-03 10:17:00         10 2017-06-03 10:13:00   \n",
       "2  desktop 2017-10-11 17:27:00          3 2017-10-11 17:14:00   \n",
       "3  desktop 2018-01-27 20:13:00          5 2018-01-27 20:10:00   \n",
       "4  desktop 2017-11-24 11:31:00          5 2017-11-24 11:22:00   \n",
       "\n",
       "                uid  duracion_min  año_inicio  semana_inicio  dia_inicio  \\\n",
       "0   313578113262317          18.0        2017             38           1   \n",
       "1  1575281904278712           4.0        2017             22           6   \n",
       "2  2429014661409475          13.0        2017             41           3   \n",
       "3  2464366381792757           3.0        2018              4           6   \n",
       "4  2551852515556206           9.0        2017             47           5   \n",
       "\n",
       "   mes_inicio  mes_final              buy_ts  revenue  año_compra  mes_compra  \\\n",
       "0           9          9 2018-01-03 21:51:00     0.55        2018           1   \n",
       "1           6          6 2017-06-03 10:13:00     1.22        2017           6   \n",
       "2          10         10 2017-10-11 18:33:00    73.33        2017          10   \n",
       "3           1          1 2018-01-28 15:54:00     2.44        2018           1   \n",
       "4          11         11 2017-11-24 10:14:00     6.32        2017          11   \n",
       "\n",
       "   conversion_meses  \n",
       "0                 4  \n",
       "1                 0  \n",
       "2                 0  \n",
       "3                 0  \n",
       "4                 0  "
      ]
     },
     "execution_count": 126,
     "metadata": {},
     "output_type": "execute_result"
    }
   ],
   "source": [
    "conversion.head()"
   ]
  },
  {
   "cell_type": "code",
   "execution_count": 127,
   "metadata": {},
   "outputs": [
    {
     "data": {
      "text/html": [
       "<div>\n",
       "<style scoped>\n",
       "    .dataframe tbody tr th:only-of-type {\n",
       "        vertical-align: middle;\n",
       "    }\n",
       "\n",
       "    .dataframe tbody tr th {\n",
       "        vertical-align: top;\n",
       "    }\n",
       "\n",
       "    .dataframe thead th {\n",
       "        text-align: right;\n",
       "    }\n",
       "</style>\n",
       "<table border=\"1\" class=\"dataframe\">\n",
       "  <thead>\n",
       "    <tr style=\"text-align: right;\">\n",
       "      <th></th>\n",
       "      <th>año_compra</th>\n",
       "      <th>mes_compra</th>\n",
       "      <th>conversion_meses</th>\n",
       "      <th>uid</th>\n",
       "      <th>revenue</th>\n",
       "    </tr>\n",
       "  </thead>\n",
       "  <tbody>\n",
       "    <tr>\n",
       "      <th>0</th>\n",
       "      <td>2017</td>\n",
       "      <td>6</td>\n",
       "      <td>0</td>\n",
       "      <td>2023</td>\n",
       "      <td>8060.32</td>\n",
       "    </tr>\n",
       "    <tr>\n",
       "      <th>1</th>\n",
       "      <td>2017</td>\n",
       "      <td>7</td>\n",
       "      <td>0</td>\n",
       "      <td>1753</td>\n",
       "      <td>8778.13</td>\n",
       "    </tr>\n",
       "    <tr>\n",
       "      <th>2</th>\n",
       "      <td>2017</td>\n",
       "      <td>7</td>\n",
       "      <td>1</td>\n",
       "      <td>170</td>\n",
       "      <td>1066.52</td>\n",
       "    </tr>\n",
       "    <tr>\n",
       "      <th>3</th>\n",
       "      <td>2017</td>\n",
       "      <td>8</td>\n",
       "      <td>0</td>\n",
       "      <td>1208</td>\n",
       "      <td>5528.15</td>\n",
       "    </tr>\n",
       "    <tr>\n",
       "      <th>4</th>\n",
       "      <td>2017</td>\n",
       "      <td>8</td>\n",
       "      <td>1</td>\n",
       "      <td>95</td>\n",
       "      <td>460.94</td>\n",
       "    </tr>\n",
       "    <tr>\n",
       "      <th>...</th>\n",
       "      <td>...</td>\n",
       "      <td>...</td>\n",
       "      <td>...</td>\n",
       "      <td>...</td>\n",
       "      <td>...</td>\n",
       "    </tr>\n",
       "    <tr>\n",
       "      <th>74</th>\n",
       "      <td>2018</td>\n",
       "      <td>5</td>\n",
       "      <td>8</td>\n",
       "      <td>42</td>\n",
       "      <td>156.62</td>\n",
       "    </tr>\n",
       "    <tr>\n",
       "      <th>75</th>\n",
       "      <td>2018</td>\n",
       "      <td>5</td>\n",
       "      <td>9</td>\n",
       "      <td>25</td>\n",
       "      <td>106.74</td>\n",
       "    </tr>\n",
       "    <tr>\n",
       "      <th>76</th>\n",
       "      <td>2018</td>\n",
       "      <td>5</td>\n",
       "      <td>10</td>\n",
       "      <td>33</td>\n",
       "      <td>111.21</td>\n",
       "    </tr>\n",
       "    <tr>\n",
       "      <th>77</th>\n",
       "      <td>2018</td>\n",
       "      <td>5</td>\n",
       "      <td>11</td>\n",
       "      <td>54</td>\n",
       "      <td>591.37</td>\n",
       "    </tr>\n",
       "    <tr>\n",
       "      <th>78</th>\n",
       "      <td>2018</td>\n",
       "      <td>6</td>\n",
       "      <td>1</td>\n",
       "      <td>1</td>\n",
       "      <td>3.42</td>\n",
       "    </tr>\n",
       "  </tbody>\n",
       "</table>\n",
       "<p>79 rows × 5 columns</p>\n",
       "</div>"
      ],
      "text/plain": [
       "    año_compra  mes_compra  conversion_meses   uid  revenue\n",
       "0         2017           6                 0  2023  8060.32\n",
       "1         2017           7                 0  1753  8778.13\n",
       "2         2017           7                 1   170  1066.52\n",
       "3         2017           8                 0  1208  5528.15\n",
       "4         2017           8                 1    95   460.94\n",
       "..         ...         ...               ...   ...      ...\n",
       "74        2018           5                 8    42   156.62\n",
       "75        2018           5                 9    25   106.74\n",
       "76        2018           5                10    33   111.21\n",
       "77        2018           5                11    54   591.37\n",
       "78        2018           6                 1     1     3.42\n",
       "\n",
       "[79 rows x 5 columns]"
      ]
     },
     "execution_count": 127,
     "metadata": {},
     "output_type": "execute_result"
    }
   ],
   "source": [
    "#Determinar el tamaño de cada cohorte\n",
    "\n",
    "cohorte_tamaño=conversion.groupby(['año_compra','mes_compra','conversion_meses']).agg({'uid':'nunique','revenue': 'sum'}).reset_index()\n",
    "cohorte_tamaño"
   ]
  },
  {
   "cell_type": "code",
   "execution_count": 129,
   "metadata": {},
   "outputs": [
    {
     "data": {
      "text/html": [
       "<div>\n",
       "<style scoped>\n",
       "    .dataframe tbody tr th:only-of-type {\n",
       "        vertical-align: middle;\n",
       "    }\n",
       "\n",
       "    .dataframe tbody tr th {\n",
       "        vertical-align: top;\n",
       "    }\n",
       "\n",
       "    .dataframe thead th {\n",
       "        text-align: right;\n",
       "    }\n",
       "</style>\n",
       "<table border=\"1\" class=\"dataframe\">\n",
       "  <thead>\n",
       "    <tr style=\"text-align: right;\">\n",
       "      <th></th>\n",
       "      <th>año_compra</th>\n",
       "      <th>mes_compra</th>\n",
       "      <th>edad_cohorte</th>\n",
       "      <th>num_compradores</th>\n",
       "      <th>ingresos</th>\n",
       "    </tr>\n",
       "  </thead>\n",
       "  <tbody>\n",
       "    <tr>\n",
       "      <th>0</th>\n",
       "      <td>2017</td>\n",
       "      <td>6</td>\n",
       "      <td>0</td>\n",
       "      <td>2023</td>\n",
       "      <td>8060.32</td>\n",
       "    </tr>\n",
       "    <tr>\n",
       "      <th>1</th>\n",
       "      <td>2017</td>\n",
       "      <td>7</td>\n",
       "      <td>0</td>\n",
       "      <td>1753</td>\n",
       "      <td>8778.13</td>\n",
       "    </tr>\n",
       "    <tr>\n",
       "      <th>2</th>\n",
       "      <td>2017</td>\n",
       "      <td>7</td>\n",
       "      <td>1</td>\n",
       "      <td>170</td>\n",
       "      <td>1066.52</td>\n",
       "    </tr>\n",
       "    <tr>\n",
       "      <th>3</th>\n",
       "      <td>2017</td>\n",
       "      <td>8</td>\n",
       "      <td>0</td>\n",
       "      <td>1208</td>\n",
       "      <td>5528.15</td>\n",
       "    </tr>\n",
       "    <tr>\n",
       "      <th>4</th>\n",
       "      <td>2017</td>\n",
       "      <td>8</td>\n",
       "      <td>1</td>\n",
       "      <td>95</td>\n",
       "      <td>460.94</td>\n",
       "    </tr>\n",
       "    <tr>\n",
       "      <th>...</th>\n",
       "      <td>...</td>\n",
       "      <td>...</td>\n",
       "      <td>...</td>\n",
       "      <td>...</td>\n",
       "      <td>...</td>\n",
       "    </tr>\n",
       "    <tr>\n",
       "      <th>74</th>\n",
       "      <td>2018</td>\n",
       "      <td>5</td>\n",
       "      <td>8</td>\n",
       "      <td>42</td>\n",
       "      <td>156.62</td>\n",
       "    </tr>\n",
       "    <tr>\n",
       "      <th>75</th>\n",
       "      <td>2018</td>\n",
       "      <td>5</td>\n",
       "      <td>9</td>\n",
       "      <td>25</td>\n",
       "      <td>106.74</td>\n",
       "    </tr>\n",
       "    <tr>\n",
       "      <th>76</th>\n",
       "      <td>2018</td>\n",
       "      <td>5</td>\n",
       "      <td>10</td>\n",
       "      <td>33</td>\n",
       "      <td>111.21</td>\n",
       "    </tr>\n",
       "    <tr>\n",
       "      <th>77</th>\n",
       "      <td>2018</td>\n",
       "      <td>5</td>\n",
       "      <td>11</td>\n",
       "      <td>54</td>\n",
       "      <td>591.37</td>\n",
       "    </tr>\n",
       "    <tr>\n",
       "      <th>78</th>\n",
       "      <td>2018</td>\n",
       "      <td>6</td>\n",
       "      <td>1</td>\n",
       "      <td>1</td>\n",
       "      <td>3.42</td>\n",
       "    </tr>\n",
       "  </tbody>\n",
       "</table>\n",
       "<p>79 rows × 5 columns</p>\n",
       "</div>"
      ],
      "text/plain": [
       "    año_compra  mes_compra  edad_cohorte  num_compradores  ingresos\n",
       "0         2017           6             0             2023   8060.32\n",
       "1         2017           7             0             1753   8778.13\n",
       "2         2017           7             1              170   1066.52\n",
       "3         2017           8             0             1208   5528.15\n",
       "4         2017           8             1               95    460.94\n",
       "..         ...         ...           ...              ...       ...\n",
       "74        2018           5             8               42    156.62\n",
       "75        2018           5             9               25    106.74\n",
       "76        2018           5            10               33    111.21\n",
       "77        2018           5            11               54    591.37\n",
       "78        2018           6             1                1      3.42\n",
       "\n",
       "[79 rows x 5 columns]"
      ]
     },
     "execution_count": 129,
     "metadata": {},
     "output_type": "execute_result"
    }
   ],
   "source": [
    "#Cambio del nombre de las columnas\n",
    "cohorte_tamaño.columns = ['año_compra', 'mes_compra', 'edad_cohorte','num_compradores','ingresos']\n",
    "cohorte_tamaño"
   ]
  },
  {
   "cell_type": "code",
   "execution_count": 130,
   "metadata": {},
   "outputs": [
    {
     "data": {
      "text/html": [
       "<div>\n",
       "<style scoped>\n",
       "    .dataframe tbody tr th:only-of-type {\n",
       "        vertical-align: middle;\n",
       "    }\n",
       "\n",
       "    .dataframe tbody tr th {\n",
       "        vertical-align: top;\n",
       "    }\n",
       "\n",
       "    .dataframe thead th {\n",
       "        text-align: right;\n",
       "    }\n",
       "</style>\n",
       "<table border=\"1\" class=\"dataframe\">\n",
       "  <thead>\n",
       "    <tr style=\"text-align: right;\">\n",
       "      <th></th>\n",
       "      <th>año_compra</th>\n",
       "      <th>mes_compra</th>\n",
       "      <th>edad_cohorte</th>\n",
       "      <th>num_compradores</th>\n",
       "      <th>ingresos</th>\n",
       "      <th>ltv</th>\n",
       "    </tr>\n",
       "  </thead>\n",
       "  <tbody>\n",
       "    <tr>\n",
       "      <th>0</th>\n",
       "      <td>2017</td>\n",
       "      <td>6</td>\n",
       "      <td>0</td>\n",
       "      <td>2023</td>\n",
       "      <td>8060.32</td>\n",
       "      <td>3.984340</td>\n",
       "    </tr>\n",
       "    <tr>\n",
       "      <th>1</th>\n",
       "      <td>2017</td>\n",
       "      <td>7</td>\n",
       "      <td>0</td>\n",
       "      <td>1753</td>\n",
       "      <td>8778.13</td>\n",
       "      <td>5.007490</td>\n",
       "    </tr>\n",
       "    <tr>\n",
       "      <th>2</th>\n",
       "      <td>2017</td>\n",
       "      <td>7</td>\n",
       "      <td>1</td>\n",
       "      <td>170</td>\n",
       "      <td>1066.52</td>\n",
       "      <td>6.273647</td>\n",
       "    </tr>\n",
       "    <tr>\n",
       "      <th>3</th>\n",
       "      <td>2017</td>\n",
       "      <td>8</td>\n",
       "      <td>0</td>\n",
       "      <td>1208</td>\n",
       "      <td>5528.15</td>\n",
       "      <td>4.576283</td>\n",
       "    </tr>\n",
       "    <tr>\n",
       "      <th>4</th>\n",
       "      <td>2017</td>\n",
       "      <td>8</td>\n",
       "      <td>1</td>\n",
       "      <td>95</td>\n",
       "      <td>460.94</td>\n",
       "      <td>4.852000</td>\n",
       "    </tr>\n",
       "  </tbody>\n",
       "</table>\n",
       "</div>"
      ],
      "text/plain": [
       "   año_compra  mes_compra  edad_cohorte  num_compradores  ingresos       ltv\n",
       "0        2017           6             0             2023   8060.32  3.984340\n",
       "1        2017           7             0             1753   8778.13  5.007490\n",
       "2        2017           7             1              170   1066.52  6.273647\n",
       "3        2017           8             0             1208   5528.15  4.576283\n",
       "4        2017           8             1               95    460.94  4.852000"
      ]
     },
     "execution_count": 130,
     "metadata": {},
     "output_type": "execute_result"
    }
   ],
   "source": [
    "# Calcula el LTV dividiendo los ingresos por el número de compradores.\n",
    "cohorte_tamaño['ltv'] = cohorte_tamaño['ingresos'] / cohorte_tamaño['num_compradores']\n",
    "cohorte_tamaño.head()\n"
   ]
  },
  {
   "cell_type": "code",
   "execution_count": 131,
   "metadata": {},
   "outputs": [
    {
     "data": {
      "text/html": [
       "<div>\n",
       "<style scoped>\n",
       "    .dataframe tbody tr th:only-of-type {\n",
       "        vertical-align: middle;\n",
       "    }\n",
       "\n",
       "    .dataframe tbody tr th {\n",
       "        vertical-align: top;\n",
       "    }\n",
       "\n",
       "    .dataframe thead th {\n",
       "        text-align: right;\n",
       "    }\n",
       "</style>\n",
       "<table border=\"1\" class=\"dataframe\">\n",
       "  <thead>\n",
       "    <tr style=\"text-align: right;\">\n",
       "      <th></th>\n",
       "      <th>año_compra</th>\n",
       "      <th>mes_compra</th>\n",
       "      <th>edad_cohorte</th>\n",
       "      <th>num_compradores</th>\n",
       "      <th>ingresos</th>\n",
       "      <th>ltv</th>\n",
       "      <th>periodo</th>\n",
       "    </tr>\n",
       "  </thead>\n",
       "  <tbody>\n",
       "    <tr>\n",
       "      <th>0</th>\n",
       "      <td>2017</td>\n",
       "      <td>6</td>\n",
       "      <td>0</td>\n",
       "      <td>2023</td>\n",
       "      <td>8060.32</td>\n",
       "      <td>3.984340</td>\n",
       "      <td>20176</td>\n",
       "    </tr>\n",
       "    <tr>\n",
       "      <th>1</th>\n",
       "      <td>2017</td>\n",
       "      <td>7</td>\n",
       "      <td>0</td>\n",
       "      <td>1753</td>\n",
       "      <td>8778.13</td>\n",
       "      <td>5.007490</td>\n",
       "      <td>20177</td>\n",
       "    </tr>\n",
       "    <tr>\n",
       "      <th>2</th>\n",
       "      <td>2017</td>\n",
       "      <td>7</td>\n",
       "      <td>1</td>\n",
       "      <td>170</td>\n",
       "      <td>1066.52</td>\n",
       "      <td>6.273647</td>\n",
       "      <td>20177</td>\n",
       "    </tr>\n",
       "    <tr>\n",
       "      <th>3</th>\n",
       "      <td>2017</td>\n",
       "      <td>8</td>\n",
       "      <td>0</td>\n",
       "      <td>1208</td>\n",
       "      <td>5528.15</td>\n",
       "      <td>4.576283</td>\n",
       "      <td>20178</td>\n",
       "    </tr>\n",
       "    <tr>\n",
       "      <th>4</th>\n",
       "      <td>2017</td>\n",
       "      <td>8</td>\n",
       "      <td>1</td>\n",
       "      <td>95</td>\n",
       "      <td>460.94</td>\n",
       "      <td>4.852000</td>\n",
       "      <td>20178</td>\n",
       "    </tr>\n",
       "  </tbody>\n",
       "</table>\n",
       "</div>"
      ],
      "text/plain": [
       "   año_compra  mes_compra  edad_cohorte  num_compradores  ingresos       ltv  \\\n",
       "0        2017           6             0             2023   8060.32  3.984340   \n",
       "1        2017           7             0             1753   8778.13  5.007490   \n",
       "2        2017           7             1              170   1066.52  6.273647   \n",
       "3        2017           8             0             1208   5528.15  4.576283   \n",
       "4        2017           8             1               95    460.94  4.852000   \n",
       "\n",
       "  periodo  \n",
       "0   20176  \n",
       "1   20177  \n",
       "2   20177  \n",
       "3   20178  \n",
       "4   20178  "
      ]
     },
     "execution_count": 131,
     "metadata": {},
     "output_type": "execute_result"
    }
   ],
   "source": [
    "#Se separa por año para verlo mas facil-2017\n",
    "\n",
    "cohorte_tamaño['periodo'] = cohorte_tamaño['año_compra'].astype(str) + cohorte_tamaño['mes_compra'].astype(str)\n",
    "cohorte_tamaño.head()"
   ]
  },
  {
   "cell_type": "code",
   "execution_count": 132,
   "metadata": {},
   "outputs": [
    {
     "data": {
      "text/html": [
       "<div>\n",
       "<style scoped>\n",
       "    .dataframe tbody tr th:only-of-type {\n",
       "        vertical-align: middle;\n",
       "    }\n",
       "\n",
       "    .dataframe tbody tr th {\n",
       "        vertical-align: top;\n",
       "    }\n",
       "\n",
       "    .dataframe thead th {\n",
       "        text-align: right;\n",
       "    }\n",
       "</style>\n",
       "<table border=\"1\" class=\"dataframe\">\n",
       "  <thead>\n",
       "    <tr style=\"text-align: right;\">\n",
       "      <th>edad_cohorte</th>\n",
       "      <th>0</th>\n",
       "      <th>1</th>\n",
       "      <th>2</th>\n",
       "      <th>3</th>\n",
       "      <th>4</th>\n",
       "      <th>5</th>\n",
       "      <th>6</th>\n",
       "      <th>7</th>\n",
       "      <th>8</th>\n",
       "      <th>9</th>\n",
       "      <th>10</th>\n",
       "      <th>11</th>\n",
       "    </tr>\n",
       "    <tr>\n",
       "      <th>periodo</th>\n",
       "      <th></th>\n",
       "      <th></th>\n",
       "      <th></th>\n",
       "      <th></th>\n",
       "      <th></th>\n",
       "      <th></th>\n",
       "      <th></th>\n",
       "      <th></th>\n",
       "      <th></th>\n",
       "      <th></th>\n",
       "      <th></th>\n",
       "      <th></th>\n",
       "    </tr>\n",
       "  </thead>\n",
       "  <tbody>\n",
       "    <tr>\n",
       "      <th>201710</th>\n",
       "      <td>4.048724</td>\n",
       "      <td>8.962418</td>\n",
       "      <td>12.900353</td>\n",
       "      <td>17.002253</td>\n",
       "      <td>22.680992</td>\n",
       "      <td>0.000000</td>\n",
       "      <td>0.000000</td>\n",
       "      <td>0.000000</td>\n",
       "      <td>0.000000</td>\n",
       "      <td>0.000000</td>\n",
       "      <td>0.000000</td>\n",
       "      <td>0.000000</td>\n",
       "    </tr>\n",
       "    <tr>\n",
       "      <th>201711</th>\n",
       "      <td>4.082100</td>\n",
       "      <td>8.435678</td>\n",
       "      <td>13.106028</td>\n",
       "      <td>18.229863</td>\n",
       "      <td>22.820088</td>\n",
       "      <td>27.558566</td>\n",
       "      <td>0.000000</td>\n",
       "      <td>0.000000</td>\n",
       "      <td>0.000000</td>\n",
       "      <td>0.000000</td>\n",
       "      <td>0.000000</td>\n",
       "      <td>0.000000</td>\n",
       "    </tr>\n",
       "    <tr>\n",
       "      <th>201712</th>\n",
       "      <td>4.257150</td>\n",
       "      <td>8.057788</td>\n",
       "      <td>11.273630</td>\n",
       "      <td>14.960983</td>\n",
       "      <td>18.483599</td>\n",
       "      <td>22.534638</td>\n",
       "      <td>26.479509</td>\n",
       "      <td>0.000000</td>\n",
       "      <td>0.000000</td>\n",
       "      <td>0.000000</td>\n",
       "      <td>0.000000</td>\n",
       "      <td>0.000000</td>\n",
       "    </tr>\n",
       "    <tr>\n",
       "      <th>20176</th>\n",
       "      <td>3.984340</td>\n",
       "      <td>0.000000</td>\n",
       "      <td>0.000000</td>\n",
       "      <td>0.000000</td>\n",
       "      <td>0.000000</td>\n",
       "      <td>0.000000</td>\n",
       "      <td>0.000000</td>\n",
       "      <td>0.000000</td>\n",
       "      <td>0.000000</td>\n",
       "      <td>0.000000</td>\n",
       "      <td>0.000000</td>\n",
       "      <td>0.000000</td>\n",
       "    </tr>\n",
       "    <tr>\n",
       "      <th>20177</th>\n",
       "      <td>5.007490</td>\n",
       "      <td>11.281137</td>\n",
       "      <td>0.000000</td>\n",
       "      <td>0.000000</td>\n",
       "      <td>0.000000</td>\n",
       "      <td>0.000000</td>\n",
       "      <td>0.000000</td>\n",
       "      <td>0.000000</td>\n",
       "      <td>0.000000</td>\n",
       "      <td>0.000000</td>\n",
       "      <td>0.000000</td>\n",
       "      <td>0.000000</td>\n",
       "    </tr>\n",
       "    <tr>\n",
       "      <th>20178</th>\n",
       "      <td>4.576283</td>\n",
       "      <td>9.428283</td>\n",
       "      <td>14.639925</td>\n",
       "      <td>0.000000</td>\n",
       "      <td>0.000000</td>\n",
       "      <td>0.000000</td>\n",
       "      <td>0.000000</td>\n",
       "      <td>0.000000</td>\n",
       "      <td>0.000000</td>\n",
       "      <td>0.000000</td>\n",
       "      <td>0.000000</td>\n",
       "      <td>0.000000</td>\n",
       "    </tr>\n",
       "    <tr>\n",
       "      <th>20179</th>\n",
       "      <td>4.467036</td>\n",
       "      <td>8.345341</td>\n",
       "      <td>12.872917</td>\n",
       "      <td>18.289459</td>\n",
       "      <td>0.000000</td>\n",
       "      <td>0.000000</td>\n",
       "      <td>0.000000</td>\n",
       "      <td>0.000000</td>\n",
       "      <td>0.000000</td>\n",
       "      <td>0.000000</td>\n",
       "      <td>0.000000</td>\n",
       "      <td>0.000000</td>\n",
       "    </tr>\n",
       "    <tr>\n",
       "      <th>20181</th>\n",
       "      <td>3.598820</td>\n",
       "      <td>7.136963</td>\n",
       "      <td>10.436834</td>\n",
       "      <td>14.265168</td>\n",
       "      <td>17.825676</td>\n",
       "      <td>21.950413</td>\n",
       "      <td>26.679219</td>\n",
       "      <td>33.670236</td>\n",
       "      <td>0.000000</td>\n",
       "      <td>0.000000</td>\n",
       "      <td>0.000000</td>\n",
       "      <td>0.000000</td>\n",
       "    </tr>\n",
       "    <tr>\n",
       "      <th>20182</th>\n",
       "      <td>3.616574</td>\n",
       "      <td>7.559894</td>\n",
       "      <td>11.898503</td>\n",
       "      <td>15.963797</td>\n",
       "      <td>20.050498</td>\n",
       "      <td>23.649840</td>\n",
       "      <td>28.413430</td>\n",
       "      <td>33.553752</td>\n",
       "      <td>36.850159</td>\n",
       "      <td>0.000000</td>\n",
       "      <td>0.000000</td>\n",
       "      <td>0.000000</td>\n",
       "    </tr>\n",
       "    <tr>\n",
       "      <th>20183</th>\n",
       "      <td>3.819572</td>\n",
       "      <td>8.875116</td>\n",
       "      <td>12.482046</td>\n",
       "      <td>17.205082</td>\n",
       "      <td>20.933665</td>\n",
       "      <td>24.600295</td>\n",
       "      <td>28.615506</td>\n",
       "      <td>32.711822</td>\n",
       "      <td>37.677422</td>\n",
       "      <td>41.171485</td>\n",
       "      <td>0.000000</td>\n",
       "      <td>0.000000</td>\n",
       "    </tr>\n",
       "    <tr>\n",
       "      <th>20184</th>\n",
       "      <td>3.938446</td>\n",
       "      <td>7.945000</td>\n",
       "      <td>13.767420</td>\n",
       "      <td>17.065420</td>\n",
       "      <td>21.436309</td>\n",
       "      <td>26.756309</td>\n",
       "      <td>30.439574</td>\n",
       "      <td>34.211074</td>\n",
       "      <td>39.648274</td>\n",
       "      <td>44.658880</td>\n",
       "      <td>50.490034</td>\n",
       "      <td>0.000000</td>\n",
       "    </tr>\n",
       "    <tr>\n",
       "      <th>20185</th>\n",
       "      <td>4.296903</td>\n",
       "      <td>9.136509</td>\n",
       "      <td>12.695973</td>\n",
       "      <td>17.381688</td>\n",
       "      <td>23.106613</td>\n",
       "      <td>27.263370</td>\n",
       "      <td>30.841216</td>\n",
       "      <td>33.764549</td>\n",
       "      <td>37.493597</td>\n",
       "      <td>41.763197</td>\n",
       "      <td>45.133197</td>\n",
       "      <td>56.084493</td>\n",
       "    </tr>\n",
       "    <tr>\n",
       "      <th>20186</th>\n",
       "      <td>0.000000</td>\n",
       "      <td>3.420000</td>\n",
       "      <td>0.000000</td>\n",
       "      <td>0.000000</td>\n",
       "      <td>0.000000</td>\n",
       "      <td>0.000000</td>\n",
       "      <td>0.000000</td>\n",
       "      <td>0.000000</td>\n",
       "      <td>0.000000</td>\n",
       "      <td>0.000000</td>\n",
       "      <td>0.000000</td>\n",
       "      <td>0.000000</td>\n",
       "    </tr>\n",
       "  </tbody>\n",
       "</table>\n",
       "</div>"
      ],
      "text/plain": [
       "edad_cohorte        0          1          2          3          4          5   \\\n",
       "periodo                                                                         \n",
       "201710        4.048724   8.962418  12.900353  17.002253  22.680992   0.000000   \n",
       "201711        4.082100   8.435678  13.106028  18.229863  22.820088  27.558566   \n",
       "201712        4.257150   8.057788  11.273630  14.960983  18.483599  22.534638   \n",
       "20176         3.984340   0.000000   0.000000   0.000000   0.000000   0.000000   \n",
       "20177         5.007490  11.281137   0.000000   0.000000   0.000000   0.000000   \n",
       "20178         4.576283   9.428283  14.639925   0.000000   0.000000   0.000000   \n",
       "20179         4.467036   8.345341  12.872917  18.289459   0.000000   0.000000   \n",
       "20181         3.598820   7.136963  10.436834  14.265168  17.825676  21.950413   \n",
       "20182         3.616574   7.559894  11.898503  15.963797  20.050498  23.649840   \n",
       "20183         3.819572   8.875116  12.482046  17.205082  20.933665  24.600295   \n",
       "20184         3.938446   7.945000  13.767420  17.065420  21.436309  26.756309   \n",
       "20185         4.296903   9.136509  12.695973  17.381688  23.106613  27.263370   \n",
       "20186         0.000000   3.420000   0.000000   0.000000   0.000000   0.000000   \n",
       "\n",
       "edad_cohorte         6          7          8          9          10         11  \n",
       "periodo                                                                         \n",
       "201710         0.000000   0.000000   0.000000   0.000000   0.000000   0.000000  \n",
       "201711         0.000000   0.000000   0.000000   0.000000   0.000000   0.000000  \n",
       "201712        26.479509   0.000000   0.000000   0.000000   0.000000   0.000000  \n",
       "20176          0.000000   0.000000   0.000000   0.000000   0.000000   0.000000  \n",
       "20177          0.000000   0.000000   0.000000   0.000000   0.000000   0.000000  \n",
       "20178          0.000000   0.000000   0.000000   0.000000   0.000000   0.000000  \n",
       "20179          0.000000   0.000000   0.000000   0.000000   0.000000   0.000000  \n",
       "20181         26.679219  33.670236   0.000000   0.000000   0.000000   0.000000  \n",
       "20182         28.413430  33.553752  36.850159   0.000000   0.000000   0.000000  \n",
       "20183         28.615506  32.711822  37.677422  41.171485   0.000000   0.000000  \n",
       "20184         30.439574  34.211074  39.648274  44.658880  50.490034   0.000000  \n",
       "20185         30.841216  33.764549  37.493597  41.763197  45.133197  56.084493  \n",
       "20186          0.000000   0.000000   0.000000   0.000000   0.000000   0.000000  "
      ]
     },
     "execution_count": 132,
     "metadata": {},
     "output_type": "execute_result"
    }
   ],
   "source": [
    "# Preparar la tabla pivote para la visualización del LTV de cada cohorte por su 'edad' en meses.\n",
    "cohorts_ltv = cohorte_tamaño.pivot_table(\n",
    "    index='periodo', \n",
    "    columns='edad_cohorte', \n",
    "    values='ltv', \n",
    "    aggfunc='mean'\n",
    ").cumsum(axis=1).fillna(0)\n",
    "cohorts_ltv"
   ]
  },
  {
   "cell_type": "code",
   "execution_count": 133,
   "metadata": {},
   "outputs": [
    {
     "data": {
      "image/png": "[encoded data removed]",
      "text/plain": [
       "<Figure size 1200x600 with 2 Axes>"
      ]
     },
     "metadata": {},
     "output_type": "display_data"
    }
   ],
   "source": [
    "# Visualización del Heatmap del LTV\n",
    "# Visualiza el LTV de las cohortes usando un mapa de calor.\n",
    "plt.figure(figsize=(12, 6))  # Aumenta el tamaño de la figura si es necesario\n",
    "ax = sns.heatmap(cohorts_ltv, annot=True, fmt=\".2f\", linewidths=0.5,\n",
    "                 cbar_kws={'label': 'Lifetime Value (LTV)'}, annot_kws={\"size\": 9})\n",
    "plt.title('LTV by Cohort')\n",
    "plt.xlabel('Age (months)')\n",
    "plt.ylabel('Cohort (First Order Month)')\n",
    "plt.show()"
   ]
  },
  {
   "cell_type": "markdown",
   "metadata": {},
   "source": [
    "### Marketing"
   ]
  },
  {
   "cell_type": "markdown",
   "metadata": {},
   "source": [
    "#### Dinero invertido"
   ]
  },
  {
   "cell_type": "code",
   "execution_count": 43,
   "metadata": {},
   "outputs": [
    {
     "data": {
      "text/html": [
       "<div>\n",
       "<style scoped>\n",
       "    .dataframe tbody tr th:only-of-type {\n",
       "        vertical-align: middle;\n",
       "    }\n",
       "\n",
       "    .dataframe tbody tr th {\n",
       "        vertical-align: top;\n",
       "    }\n",
       "\n",
       "    .dataframe thead th {\n",
       "        text-align: right;\n",
       "    }\n",
       "</style>\n",
       "<table border=\"1\" class=\"dataframe\">\n",
       "  <thead>\n",
       "    <tr style=\"text-align: right;\">\n",
       "      <th></th>\n",
       "      <th>source_id</th>\n",
       "      <th>dt</th>\n",
       "      <th>costs</th>\n",
       "    </tr>\n",
       "  </thead>\n",
       "  <tbody>\n",
       "    <tr>\n",
       "      <th>0</th>\n",
       "      <td>1</td>\n",
       "      <td>2017-06-01</td>\n",
       "      <td>75.20</td>\n",
       "    </tr>\n",
       "    <tr>\n",
       "      <th>1</th>\n",
       "      <td>1</td>\n",
       "      <td>2017-06-02</td>\n",
       "      <td>62.25</td>\n",
       "    </tr>\n",
       "    <tr>\n",
       "      <th>2</th>\n",
       "      <td>1</td>\n",
       "      <td>2017-06-03</td>\n",
       "      <td>36.53</td>\n",
       "    </tr>\n",
       "    <tr>\n",
       "      <th>3</th>\n",
       "      <td>1</td>\n",
       "      <td>2017-06-04</td>\n",
       "      <td>55.00</td>\n",
       "    </tr>\n",
       "    <tr>\n",
       "      <th>4</th>\n",
       "      <td>1</td>\n",
       "      <td>2017-06-05</td>\n",
       "      <td>57.08</td>\n",
       "    </tr>\n",
       "  </tbody>\n",
       "</table>\n",
       "</div>"
      ],
      "text/plain": [
       "   source_id         dt  costs\n",
       "0          1 2017-06-01  75.20\n",
       "1          1 2017-06-02  62.25\n",
       "2          1 2017-06-03  36.53\n",
       "3          1 2017-06-04  55.00\n",
       "4          1 2017-06-05  57.08"
      ]
     },
     "execution_count": 43,
     "metadata": {},
     "output_type": "execute_result"
    }
   ],
   "source": [
    "costos.head()"
   ]
  },
  {
   "cell_type": "code",
   "execution_count": 44,
   "metadata": {},
   "outputs": [
    {
     "data": {
      "text/html": [
       "<div>\n",
       "<style scoped>\n",
       "    .dataframe tbody tr th:only-of-type {\n",
       "        vertical-align: middle;\n",
       "    }\n",
       "\n",
       "    .dataframe tbody tr th {\n",
       "        vertical-align: top;\n",
       "    }\n",
       "\n",
       "    .dataframe thead th {\n",
       "        text-align: right;\n",
       "    }\n",
       "</style>\n",
       "<table border=\"1\" class=\"dataframe\">\n",
       "  <thead>\n",
       "    <tr style=\"text-align: right;\">\n",
       "      <th></th>\n",
       "      <th>source_id</th>\n",
       "      <th>dt</th>\n",
       "      <th>costs</th>\n",
       "      <th>año</th>\n",
       "      <th>mes</th>\n",
       "    </tr>\n",
       "  </thead>\n",
       "  <tbody>\n",
       "    <tr>\n",
       "      <th>0</th>\n",
       "      <td>1</td>\n",
       "      <td>2017-06-01</td>\n",
       "      <td>75.20</td>\n",
       "      <td>2017</td>\n",
       "      <td>6</td>\n",
       "    </tr>\n",
       "    <tr>\n",
       "      <th>1</th>\n",
       "      <td>1</td>\n",
       "      <td>2017-06-02</td>\n",
       "      <td>62.25</td>\n",
       "      <td>2017</td>\n",
       "      <td>6</td>\n",
       "    </tr>\n",
       "    <tr>\n",
       "      <th>2</th>\n",
       "      <td>1</td>\n",
       "      <td>2017-06-03</td>\n",
       "      <td>36.53</td>\n",
       "      <td>2017</td>\n",
       "      <td>6</td>\n",
       "    </tr>\n",
       "    <tr>\n",
       "      <th>3</th>\n",
       "      <td>1</td>\n",
       "      <td>2017-06-04</td>\n",
       "      <td>55.00</td>\n",
       "      <td>2017</td>\n",
       "      <td>6</td>\n",
       "    </tr>\n",
       "    <tr>\n",
       "      <th>4</th>\n",
       "      <td>1</td>\n",
       "      <td>2017-06-05</td>\n",
       "      <td>57.08</td>\n",
       "      <td>2017</td>\n",
       "      <td>6</td>\n",
       "    </tr>\n",
       "    <tr>\n",
       "      <th>...</th>\n",
       "      <td>...</td>\n",
       "      <td>...</td>\n",
       "      <td>...</td>\n",
       "      <td>...</td>\n",
       "      <td>...</td>\n",
       "    </tr>\n",
       "    <tr>\n",
       "      <th>2537</th>\n",
       "      <td>10</td>\n",
       "      <td>2018-05-27</td>\n",
       "      <td>9.92</td>\n",
       "      <td>2018</td>\n",
       "      <td>5</td>\n",
       "    </tr>\n",
       "    <tr>\n",
       "      <th>2538</th>\n",
       "      <td>10</td>\n",
       "      <td>2018-05-28</td>\n",
       "      <td>21.26</td>\n",
       "      <td>2018</td>\n",
       "      <td>5</td>\n",
       "    </tr>\n",
       "    <tr>\n",
       "      <th>2539</th>\n",
       "      <td>10</td>\n",
       "      <td>2018-05-29</td>\n",
       "      <td>11.32</td>\n",
       "      <td>2018</td>\n",
       "      <td>5</td>\n",
       "    </tr>\n",
       "    <tr>\n",
       "      <th>2540</th>\n",
       "      <td>10</td>\n",
       "      <td>2018-05-30</td>\n",
       "      <td>33.15</td>\n",
       "      <td>2018</td>\n",
       "      <td>5</td>\n",
       "    </tr>\n",
       "    <tr>\n",
       "      <th>2541</th>\n",
       "      <td>10</td>\n",
       "      <td>2018-05-31</td>\n",
       "      <td>17.60</td>\n",
       "      <td>2018</td>\n",
       "      <td>5</td>\n",
       "    </tr>\n",
       "  </tbody>\n",
       "</table>\n",
       "<p>2542 rows × 5 columns</p>\n",
       "</div>"
      ],
      "text/plain": [
       "      source_id         dt  costs   año  mes\n",
       "0             1 2017-06-01  75.20  2017    6\n",
       "1             1 2017-06-02  62.25  2017    6\n",
       "2             1 2017-06-03  36.53  2017    6\n",
       "3             1 2017-06-04  55.00  2017    6\n",
       "4             1 2017-06-05  57.08  2017    6\n",
       "...         ...        ...    ...   ...  ...\n",
       "2537         10 2018-05-27   9.92  2018    5\n",
       "2538         10 2018-05-28  21.26  2018    5\n",
       "2539         10 2018-05-29  11.32  2018    5\n",
       "2540         10 2018-05-30  33.15  2018    5\n",
       "2541         10 2018-05-31  17.60  2018    5\n",
       "\n",
       "[2542 rows x 5 columns]"
      ]
     },
     "execution_count": 44,
     "metadata": {},
     "output_type": "execute_result"
    }
   ],
   "source": [
    "#Desglosamos las fechas para identificar los meses\n",
    "costos['año']=costos['dt'].dt.year\n",
    "costos['mes']=costos['dt'].dt.month\n",
    "costos"
   ]
  },
  {
   "cell_type": "code",
   "execution_count": 45,
   "metadata": {},
   "outputs": [
    {
     "data": {
      "text/html": [
       "<div>\n",
       "<style scoped>\n",
       "    .dataframe tbody tr th:only-of-type {\n",
       "        vertical-align: middle;\n",
       "    }\n",
       "\n",
       "    .dataframe tbody tr th {\n",
       "        vertical-align: top;\n",
       "    }\n",
       "\n",
       "    .dataframe thead th {\n",
       "        text-align: right;\n",
       "    }\n",
       "</style>\n",
       "<table border=\"1\" class=\"dataframe\">\n",
       "  <thead>\n",
       "    <tr style=\"text-align: right;\">\n",
       "      <th></th>\n",
       "      <th>año</th>\n",
       "      <th>mes</th>\n",
       "      <th>costs</th>\n",
       "    </tr>\n",
       "  </thead>\n",
       "  <tbody>\n",
       "    <tr>\n",
       "      <th>0</th>\n",
       "      <td>2017</td>\n",
       "      <td>6</td>\n",
       "      <td>18015.00</td>\n",
       "    </tr>\n",
       "    <tr>\n",
       "      <th>1</th>\n",
       "      <td>2017</td>\n",
       "      <td>7</td>\n",
       "      <td>18240.59</td>\n",
       "    </tr>\n",
       "    <tr>\n",
       "      <th>2</th>\n",
       "      <td>2017</td>\n",
       "      <td>8</td>\n",
       "      <td>14790.54</td>\n",
       "    </tr>\n",
       "    <tr>\n",
       "      <th>3</th>\n",
       "      <td>2017</td>\n",
       "      <td>9</td>\n",
       "      <td>24368.91</td>\n",
       "    </tr>\n",
       "    <tr>\n",
       "      <th>4</th>\n",
       "      <td>2017</td>\n",
       "      <td>10</td>\n",
       "      <td>36322.88</td>\n",
       "    </tr>\n",
       "    <tr>\n",
       "      <th>5</th>\n",
       "      <td>2017</td>\n",
       "      <td>11</td>\n",
       "      <td>37907.88</td>\n",
       "    </tr>\n",
       "    <tr>\n",
       "      <th>6</th>\n",
       "      <td>2017</td>\n",
       "      <td>12</td>\n",
       "      <td>38315.35</td>\n",
       "    </tr>\n",
       "    <tr>\n",
       "      <th>7</th>\n",
       "      <td>2018</td>\n",
       "      <td>1</td>\n",
       "      <td>33518.52</td>\n",
       "    </tr>\n",
       "    <tr>\n",
       "      <th>8</th>\n",
       "      <td>2018</td>\n",
       "      <td>2</td>\n",
       "      <td>32723.03</td>\n",
       "    </tr>\n",
       "    <tr>\n",
       "      <th>9</th>\n",
       "      <td>2018</td>\n",
       "      <td>3</td>\n",
       "      <td>30415.27</td>\n",
       "    </tr>\n",
       "    <tr>\n",
       "      <th>10</th>\n",
       "      <td>2018</td>\n",
       "      <td>4</td>\n",
       "      <td>22289.38</td>\n",
       "    </tr>\n",
       "    <tr>\n",
       "      <th>11</th>\n",
       "      <td>2018</td>\n",
       "      <td>5</td>\n",
       "      <td>22224.27</td>\n",
       "    </tr>\n",
       "  </tbody>\n",
       "</table>\n",
       "</div>"
      ],
      "text/plain": [
       "     año  mes     costs\n",
       "0   2017    6  18015.00\n",
       "1   2017    7  18240.59\n",
       "2   2017    8  14790.54\n",
       "3   2017    9  24368.91\n",
       "4   2017   10  36322.88\n",
       "5   2017   11  37907.88\n",
       "6   2017   12  38315.35\n",
       "7   2018    1  33518.52\n",
       "8   2018    2  32723.03\n",
       "9   2018    3  30415.27\n",
       "10  2018    4  22289.38\n",
       "11  2018    5  22224.27"
      ]
     },
     "execution_count": 45,
     "metadata": {},
     "output_type": "execute_result"
    }
   ],
   "source": [
    "#Queremos saber cuales han sido los gatos por recurso y por mes.\n",
    "\n",
    "costos_mes=costos.groupby(['año','mes'])['costs'].sum().reset_index()\n",
    "costos_mes"
   ]
  },
  {
   "cell_type": "code",
   "execution_count": 46,
   "metadata": {},
   "outputs": [
    {
     "data": {
      "text/html": [
       "<div>\n",
       "<style scoped>\n",
       "    .dataframe tbody tr th:only-of-type {\n",
       "        vertical-align: middle;\n",
       "    }\n",
       "\n",
       "    .dataframe tbody tr th {\n",
       "        vertical-align: top;\n",
       "    }\n",
       "\n",
       "    .dataframe thead th {\n",
       "        text-align: right;\n",
       "    }\n",
       "</style>\n",
       "<table border=\"1\" class=\"dataframe\">\n",
       "  <thead>\n",
       "    <tr style=\"text-align: right;\">\n",
       "      <th></th>\n",
       "      <th>año</th>\n",
       "      <th>source_id</th>\n",
       "      <th>mes</th>\n",
       "      <th>costs</th>\n",
       "    </tr>\n",
       "  </thead>\n",
       "  <tbody>\n",
       "    <tr>\n",
       "      <th>0</th>\n",
       "      <td>2017</td>\n",
       "      <td>1</td>\n",
       "      <td>6</td>\n",
       "      <td>1125.61</td>\n",
       "    </tr>\n",
       "    <tr>\n",
       "      <th>1</th>\n",
       "      <td>2017</td>\n",
       "      <td>1</td>\n",
       "      <td>7</td>\n",
       "      <td>1072.88</td>\n",
       "    </tr>\n",
       "    <tr>\n",
       "      <th>2</th>\n",
       "      <td>2017</td>\n",
       "      <td>1</td>\n",
       "      <td>8</td>\n",
       "      <td>951.81</td>\n",
       "    </tr>\n",
       "    <tr>\n",
       "      <th>3</th>\n",
       "      <td>2017</td>\n",
       "      <td>1</td>\n",
       "      <td>9</td>\n",
       "      <td>1502.01</td>\n",
       "    </tr>\n",
       "    <tr>\n",
       "      <th>4</th>\n",
       "      <td>2017</td>\n",
       "      <td>1</td>\n",
       "      <td>10</td>\n",
       "      <td>2315.75</td>\n",
       "    </tr>\n",
       "    <tr>\n",
       "      <th>...</th>\n",
       "      <td>...</td>\n",
       "      <td>...</td>\n",
       "      <td>...</td>\n",
       "      <td>...</td>\n",
       "    </tr>\n",
       "    <tr>\n",
       "      <th>79</th>\n",
       "      <td>2018</td>\n",
       "      <td>10</td>\n",
       "      <td>1</td>\n",
       "      <td>614.35</td>\n",
       "    </tr>\n",
       "    <tr>\n",
       "      <th>80</th>\n",
       "      <td>2018</td>\n",
       "      <td>10</td>\n",
       "      <td>2</td>\n",
       "      <td>480.88</td>\n",
       "    </tr>\n",
       "    <tr>\n",
       "      <th>81</th>\n",
       "      <td>2018</td>\n",
       "      <td>10</td>\n",
       "      <td>3</td>\n",
       "      <td>526.41</td>\n",
       "    </tr>\n",
       "    <tr>\n",
       "      <th>82</th>\n",
       "      <td>2018</td>\n",
       "      <td>10</td>\n",
       "      <td>4</td>\n",
       "      <td>388.25</td>\n",
       "    </tr>\n",
       "    <tr>\n",
       "      <th>83</th>\n",
       "      <td>2018</td>\n",
       "      <td>10</td>\n",
       "      <td>5</td>\n",
       "      <td>409.86</td>\n",
       "    </tr>\n",
       "  </tbody>\n",
       "</table>\n",
       "<p>84 rows × 4 columns</p>\n",
       "</div>"
      ],
      "text/plain": [
       "     año  source_id  mes    costs\n",
       "0   2017          1    6  1125.61\n",
       "1   2017          1    7  1072.88\n",
       "2   2017          1    8   951.81\n",
       "3   2017          1    9  1502.01\n",
       "4   2017          1   10  2315.75\n",
       "..   ...        ...  ...      ...\n",
       "79  2018         10    1   614.35\n",
       "80  2018         10    2   480.88\n",
       "81  2018         10    3   526.41\n",
       "82  2018         10    4   388.25\n",
       "83  2018         10    5   409.86\n",
       "\n",
       "[84 rows x 4 columns]"
      ]
     },
     "execution_count": 46,
     "metadata": {},
     "output_type": "execute_result"
    }
   ],
   "source": [
    "#Costos por recursos para cada mes\n",
    "costos_mes_recurso=costos.groupby(['año','source_id','mes'])['costs'].sum().reset_index()\n",
    "costos_mes_recurso"
   ]
  },
  {
   "cell_type": "code",
   "execution_count": 47,
   "metadata": {},
   "outputs": [
    {
     "data": {
      "image/png": "[encoded data removed]",
      "text/plain": [
       "<Figure size 640x480 with 1 Axes>"
      ]
     },
     "metadata": {},
     "output_type": "display_data"
    }
   ],
   "source": [
    "plt.bar(costos_mes_recurso['source_id'],costos_mes_recurso['costs'], color='#8d99ae', edgecolor='black')\n",
    "\n",
    "\n",
    "plt.xlabel(\"Recurso\")\n",
    "plt.ylabel(\"Total de costos\")\n",
    "plt.title(\"Total de costos segun la plataforma\")\n",
    "plt.show()"
   ]
  },
  {
   "cell_type": "markdown",
   "metadata": {},
   "source": [
    "La grafica muestra que el recurso al que mas se ha invertido dinero en marketing es el 3-desktop"
   ]
  },
  {
   "cell_type": "code",
   "execution_count": 48,
   "metadata": {},
   "outputs": [
    {
     "name": "stdout",
     "output_type": "stream",
     "text": [
      "Total de dinero invertido en marketing: $ 329131.62\n"
     ]
    }
   ],
   "source": [
    "#Total de dinero invertido en marketing \n",
    "\n",
    "dinero_invertido=costos['costs'].sum()\n",
    "\n",
    "print(f\"Total de dinero invertido en marketing: $\", dinero_invertido)"
   ]
  },
  {
   "cell_type": "markdown",
   "metadata": {},
   "source": [
    "#### Dinero invertido por mes\n"
   ]
  },
  {
   "cell_type": "code",
   "execution_count": 49,
   "metadata": {
    "scrolled": false
   },
   "outputs": [
    {
     "data": {
      "image/png": "[encoded data removed]",
      "text/plain": [
       "<Figure size 640x480 with 1 Axes>"
      ]
     },
     "metadata": {},
     "output_type": "display_data"
    }
   ],
   "source": [
    "#Grafica del comportamiento del promedio del ingreso mensual\n",
    "sns.lineplot(data=costos_mes, x=\"mes\", y=\"costs\", hue= \"año\", marker=\"o\")\n",
    "\n",
    "plt.xlabel(\"Mes\")\n",
    "plt.ylabel(\"Costos\")\n",
    "plt.title(\"Costos mensuales\")\n",
    "plt.legend()\n",
    "plt.show()"
   ]
  },
  {
   "cell_type": "markdown",
   "metadata": {},
   "source": [
    "Los costos al igual que los ingresos han disminuido para el año 2018"
   ]
  },
  {
   "cell_type": "markdown",
   "metadata": {},
   "source": [
    "#### CAC"
   ]
  },
  {
   "cell_type": "code",
   "execution_count": 50,
   "metadata": {},
   "outputs": [
    {
     "data": {
      "text/html": [
       "<div>\n",
       "<style scoped>\n",
       "    .dataframe tbody tr th:only-of-type {\n",
       "        vertical-align: middle;\n",
       "    }\n",
       "\n",
       "    .dataframe tbody tr th {\n",
       "        vertical-align: top;\n",
       "    }\n",
       "\n",
       "    .dataframe thead th {\n",
       "        text-align: right;\n",
       "    }\n",
       "</style>\n",
       "<table border=\"1\" class=\"dataframe\">\n",
       "  <thead>\n",
       "    <tr style=\"text-align: right;\">\n",
       "      <th></th>\n",
       "      <th>uid</th>\n",
       "      <th>device</th>\n",
       "      <th>end_ts</th>\n",
       "      <th>source_id</th>\n",
       "      <th>start_ts</th>\n",
       "      <th>duracion_min</th>\n",
       "      <th>año_inicio</th>\n",
       "      <th>semana_inicio</th>\n",
       "      <th>dia_inicio</th>\n",
       "      <th>mes_inicio</th>\n",
       "      <th>mes_final</th>\n",
       "    </tr>\n",
       "  </thead>\n",
       "  <tbody>\n",
       "    <tr>\n",
       "      <th>0</th>\n",
       "      <td>11863502262781</td>\n",
       "      <td>touch</td>\n",
       "      <td>2018-03-01 17:33:00</td>\n",
       "      <td>3</td>\n",
       "      <td>2018-03-01 17:27:00</td>\n",
       "      <td>6.0</td>\n",
       "      <td>2018</td>\n",
       "      <td>9</td>\n",
       "      <td>4</td>\n",
       "      <td>3</td>\n",
       "      <td>3</td>\n",
       "    </tr>\n",
       "    <tr>\n",
       "      <th>1</th>\n",
       "      <td>49537067089222</td>\n",
       "      <td>touch</td>\n",
       "      <td>2018-02-06 15:57:00</td>\n",
       "      <td>2</td>\n",
       "      <td>2018-02-06 15:55:00</td>\n",
       "      <td>2.0</td>\n",
       "      <td>2018</td>\n",
       "      <td>6</td>\n",
       "      <td>2</td>\n",
       "      <td>2</td>\n",
       "      <td>2</td>\n",
       "    </tr>\n",
       "    <tr>\n",
       "      <th>2</th>\n",
       "      <td>297729379853735</td>\n",
       "      <td>desktop</td>\n",
       "      <td>2017-06-07 18:48:00</td>\n",
       "      <td>3</td>\n",
       "      <td>2017-06-07 18:47:00</td>\n",
       "      <td>1.0</td>\n",
       "      <td>2017</td>\n",
       "      <td>23</td>\n",
       "      <td>3</td>\n",
       "      <td>6</td>\n",
       "      <td>6</td>\n",
       "    </tr>\n",
       "    <tr>\n",
       "      <th>3</th>\n",
       "      <td>313578113262317</td>\n",
       "      <td>desktop</td>\n",
       "      <td>2017-09-18 23:07:00</td>\n",
       "      <td>2</td>\n",
       "      <td>2017-09-18 22:49:00</td>\n",
       "      <td>18.0</td>\n",
       "      <td>2017</td>\n",
       "      <td>38</td>\n",
       "      <td>1</td>\n",
       "      <td>9</td>\n",
       "      <td>9</td>\n",
       "    </tr>\n",
       "    <tr>\n",
       "      <th>4</th>\n",
       "      <td>325320750514679</td>\n",
       "      <td>desktop</td>\n",
       "      <td>2017-09-30 14:38:00</td>\n",
       "      <td>5</td>\n",
       "      <td>2017-09-30 14:29:00</td>\n",
       "      <td>9.0</td>\n",
       "      <td>2017</td>\n",
       "      <td>39</td>\n",
       "      <td>6</td>\n",
       "      <td>9</td>\n",
       "      <td>9</td>\n",
       "    </tr>\n",
       "  </tbody>\n",
       "</table>\n",
       "</div>"
      ],
      "text/plain": [
       "               uid   device              end_ts  source_id  \\\n",
       "0   11863502262781    touch 2018-03-01 17:33:00          3   \n",
       "1   49537067089222    touch 2018-02-06 15:57:00          2   \n",
       "2  297729379853735  desktop 2017-06-07 18:48:00          3   \n",
       "3  313578113262317  desktop 2017-09-18 23:07:00          2   \n",
       "4  325320750514679  desktop 2017-09-30 14:38:00          5   \n",
       "\n",
       "             start_ts  duracion_min  año_inicio  semana_inicio  dia_inicio  \\\n",
       "0 2018-03-01 17:27:00           6.0        2018              9           4   \n",
       "1 2018-02-06 15:55:00           2.0        2018              6           2   \n",
       "2 2017-06-07 18:47:00           1.0        2017             23           3   \n",
       "3 2017-09-18 22:49:00          18.0        2017             38           1   \n",
       "4 2017-09-30 14:29:00           9.0        2017             39           6   \n",
       "\n",
       "   mes_inicio  mes_final  \n",
       "0           3          3  \n",
       "1           2          2  \n",
       "2           6          6  \n",
       "3           9          9  \n",
       "4           9          9  "
      ]
     },
     "execution_count": 50,
     "metadata": {},
     "output_type": "execute_result"
    }
   ],
   "source": [
    "# Suponemos que la fuente de adquisición de cada usuario es la de su primer registro\n",
    "usuario_recurso = visitas.sort_values(by='start_ts').groupby('uid').first().reset_index()\n",
    "usuario_recurso.head()"
   ]
  },
  {
   "cell_type": "code",
   "execution_count": 51,
   "metadata": {},
   "outputs": [
    {
     "name": "stdout",
     "output_type": "stream",
     "text": [
      "Clientes adquiridos por fuente:\n"
     ]
    },
    {
     "data": {
      "text/plain": [
       "source_id\n",
       "1      9469\n",
       "2     17616\n",
       "3     66116\n",
       "4     72346\n",
       "5     49237\n",
       "6         2\n",
       "7        32\n",
       "9      6448\n",
       "10     6903\n",
       "Name: uid, dtype: int64"
      ]
     },
     "metadata": {},
     "output_type": "display_data"
    }
   ],
   "source": [
    "# Número de clientes adquiridos por fuente\n",
    "cliente_recurso = usuario_recurso.groupby('source_id')['uid'].nunique()\n",
    "print(\"Clientes adquiridos por fuente:\")\n",
    "display(cliente_recurso)"
   ]
  },
  {
   "cell_type": "code",
   "execution_count": 69,
   "metadata": {},
   "outputs": [
    {
     "data": {
      "text/html": [
       "<div>\n",
       "<style scoped>\n",
       "    .dataframe tbody tr th:only-of-type {\n",
       "        vertical-align: middle;\n",
       "    }\n",
       "\n",
       "    .dataframe tbody tr th {\n",
       "        vertical-align: top;\n",
       "    }\n",
       "\n",
       "    .dataframe thead th {\n",
       "        text-align: right;\n",
       "    }\n",
       "</style>\n",
       "<table border=\"1\" class=\"dataframe\">\n",
       "  <thead>\n",
       "    <tr style=\"text-align: right;\">\n",
       "      <th></th>\n",
       "      <th>source_id</th>\n",
       "      <th>costs</th>\n",
       "    </tr>\n",
       "  </thead>\n",
       "  <tbody>\n",
       "    <tr>\n",
       "      <th>0</th>\n",
       "      <td>1</td>\n",
       "      <td>20833.27</td>\n",
       "    </tr>\n",
       "    <tr>\n",
       "      <th>1</th>\n",
       "      <td>2</td>\n",
       "      <td>42806.04</td>\n",
       "    </tr>\n",
       "    <tr>\n",
       "      <th>2</th>\n",
       "      <td>3</td>\n",
       "      <td>141321.63</td>\n",
       "    </tr>\n",
       "    <tr>\n",
       "      <th>3</th>\n",
       "      <td>4</td>\n",
       "      <td>61073.60</td>\n",
       "    </tr>\n",
       "    <tr>\n",
       "      <th>4</th>\n",
       "      <td>5</td>\n",
       "      <td>51757.10</td>\n",
       "    </tr>\n",
       "    <tr>\n",
       "      <th>5</th>\n",
       "      <td>9</td>\n",
       "      <td>5517.49</td>\n",
       "    </tr>\n",
       "    <tr>\n",
       "      <th>6</th>\n",
       "      <td>10</td>\n",
       "      <td>5822.49</td>\n",
       "    </tr>\n",
       "  </tbody>\n",
       "</table>\n",
       "</div>"
      ],
      "text/plain": [
       "   source_id      costs\n",
       "0          1   20833.27\n",
       "1          2   42806.04\n",
       "2          3  141321.63\n",
       "3          4   61073.60\n",
       "4          5   51757.10\n",
       "5          9    5517.49\n",
       "6         10    5822.49"
      ]
     },
     "execution_count": 69,
     "metadata": {},
     "output_type": "execute_result"
    }
   ],
   "source": [
    "#costo por fuente\n",
    "\n",
    "costo_fuente=costos.groupby('source_id')['costs'].sum().reset_index()\n",
    "costo_fuente"
   ]
  },
  {
   "cell_type": "code",
   "execution_count": 66,
   "metadata": {},
   "outputs": [
    {
     "data": {
      "text/html": [
       "<div>\n",
       "<style scoped>\n",
       "    .dataframe tbody tr th:only-of-type {\n",
       "        vertical-align: middle;\n",
       "    }\n",
       "\n",
       "    .dataframe tbody tr th {\n",
       "        vertical-align: top;\n",
       "    }\n",
       "\n",
       "    .dataframe thead th {\n",
       "        text-align: right;\n",
       "    }\n",
       "</style>\n",
       "<table border=\"1\" class=\"dataframe\">\n",
       "  <thead>\n",
       "    <tr style=\"text-align: right;\">\n",
       "      <th></th>\n",
       "      <th>source_id</th>\n",
       "      <th>revenue</th>\n",
       "    </tr>\n",
       "  </thead>\n",
       "  <tbody>\n",
       "    <tr>\n",
       "      <th>0</th>\n",
       "      <td>1</td>\n",
       "      <td>2.298200e+06</td>\n",
       "    </tr>\n",
       "    <tr>\n",
       "      <th>1</th>\n",
       "      <td>2</td>\n",
       "      <td>2.638189e+06</td>\n",
       "    </tr>\n",
       "    <tr>\n",
       "      <th>2</th>\n",
       "      <td>3</td>\n",
       "      <td>2.966880e+05</td>\n",
       "    </tr>\n",
       "    <tr>\n",
       "      <th>3</th>\n",
       "      <td>4</td>\n",
       "      <td>4.966902e+05</td>\n",
       "    </tr>\n",
       "    <tr>\n",
       "      <th>4</th>\n",
       "      <td>5</td>\n",
       "      <td>1.181477e+06</td>\n",
       "    </tr>\n",
       "    <tr>\n",
       "      <th>5</th>\n",
       "      <td>7</td>\n",
       "      <td>1.220000e+00</td>\n",
       "    </tr>\n",
       "    <tr>\n",
       "      <th>6</th>\n",
       "      <td>9</td>\n",
       "      <td>3.634225e+04</td>\n",
       "    </tr>\n",
       "    <tr>\n",
       "      <th>7</th>\n",
       "      <td>10</td>\n",
       "      <td>1.461923e+04</td>\n",
       "    </tr>\n",
       "  </tbody>\n",
       "</table>\n",
       "</div>"
      ],
      "text/plain": [
       "   source_id       revenue\n",
       "0          1  2.298200e+06\n",
       "1          2  2.638189e+06\n",
       "2          3  2.966880e+05\n",
       "3          4  4.966902e+05\n",
       "4          5  1.181477e+06\n",
       "5          7  1.220000e+00\n",
       "6          9  3.634225e+04\n",
       "7         10  1.461923e+04"
      ]
     },
     "execution_count": 66,
     "metadata": {},
     "output_type": "execute_result"
    }
   ],
   "source": [
    "#Ingresos por fuente\n",
    "\n",
    "ingresos=ordenes.merge(visitas, on='uid', how='left')\n",
    "ingreso_fuente=ingresos.groupby('source_id')['revenue'].sum().reset_index()\n",
    "ingreso_fuente"
   ]
  },
  {
   "cell_type": "code",
   "execution_count": 54,
   "metadata": {},
   "outputs": [
    {
     "data": {
      "text/plain": [
       "source_id\n",
       "1     2.200155\n",
       "2     2.429952\n",
       "3     2.137480\n",
       "4     0.844188\n",
       "5     1.051183\n",
       "6          NaN\n",
       "7          NaN\n",
       "9     0.855690\n",
       "10    0.843472\n",
       "dtype: float64"
      ]
     },
     "execution_count": 54,
     "metadata": {},
     "output_type": "execute_result"
    }
   ],
   "source": [
    "#Calculo del CAC\n",
    "cac=(costo_fuente/cliente_recurso)\n",
    "cac"
   ]
  },
  {
   "cell_type": "markdown",
   "metadata": {},
   "source": [
    "#### ROMI"
   ]
  },
  {
   "cell_type": "code",
   "execution_count": 55,
   "metadata": {},
   "outputs": [
    {
     "data": {
      "text/plain": [
       "source_id\n",
       "1     109.313944\n",
       "2      60.631237\n",
       "3       1.099381\n",
       "4       7.132649\n",
       "5      21.827344\n",
       "7            NaN\n",
       "9       5.586736\n",
       "10      1.510821\n",
       "dtype: float64"
      ]
     },
     "execution_count": 55,
     "metadata": {},
     "output_type": "execute_result"
    }
   ],
   "source": [
    "# Calcular ROMI: (ingresos - gasto) / gasto\n",
    "\n",
    "romi=(ingreso_fuente-costo_fuente)/costo_fuente\n",
    "romi"
   ]
  },
  {
   "cell_type": "code",
   "execution_count": 70,
   "metadata": {},
   "outputs": [
    {
     "data": {
      "image/png": "[encoded data removed]",
      "text/plain": [
       "<Figure size 500x500 with 1 Axes>"
      ]
     },
     "metadata": {},
     "output_type": "display_data"
    },
    {
     "data": {
      "image/png": "[encoded data removed]",
      "text/plain": [
       "<Figure size 500x500 with 1 Axes>"
      ]
     },
     "metadata": {},
     "output_type": "display_data"
    }
   ],
   "source": [
    "#Grafica de los ingresos y costos por fuente\n",
    "\n",
    "plt.figure(figsize=(5,5))\n",
    "plt.bar(ingreso_fuente['source_id'],ingreso_fuente['revenue'], color='#edae49', edgecolor='black')\n",
    "\n",
    "\n",
    "plt.xlabel(\"Recurso\")\n",
    "plt.ylabel(\"Total de ingreso\")\n",
    "plt.title(\"Total de ingreso por plataforma\")\n",
    "\n",
    "\n",
    "\n",
    "plt.figure(figsize=(5,5))\n",
    "plt.bar(costo_fuente['source_id'],costo_fuente['costs'], color='#d1495b', edgecolor='black')\n",
    "\n",
    "\n",
    "plt.xlabel(\"Recurso\")\n",
    "plt.ylabel(\"Total de costos\")\n",
    "plt.title(\"Total de costos segun la plataforma\")\n",
    "plt.show()\n",
    "\n",
    "\n"
   ]
  },
  {
   "cell_type": "code",
   "execution_count": 71,
   "metadata": {
    "scrolled": true
   },
   "outputs": [
    {
     "data": {
      "image/png": "[encoded data removed]",
      "text/plain": [
       "<Figure size 1400x500 with 2 Axes>"
      ]
     },
     "metadata": {},
     "output_type": "display_data"
    }
   ],
   "source": [
    "# Graficar CAC y ROMI\n",
    "fig, ax = plt.subplots(1, 2, figsize=(14, 5))\n",
    "\n",
    "cac.plot(kind='bar', ax=ax[0], edgecolor='black', color='#00798c')\n",
    "ax[0].set_title('Costo de Adquisición de Clientes (CAC)')\n",
    "ax[0].set_xlabel('Fuente')\n",
    "ax[0].set_ylabel('Costo')\n",
    "\n",
    "romi.plot(kind='bar', ax=ax[1], edgecolor='black', color='#3a506b')\n",
    "ax[1].set_title('ROMI por Fuente')\n",
    "ax[1].set_xlabel('Fuente')\n",
    "ax[1].set_ylabel('ROMI')\n",
    "\n",
    "plt.tight_layout()\n",
    "plt.show()"
   ]
  },
  {
   "cell_type": "markdown",
   "metadata": {},
   "source": [
    "<div class=\"alert alert-block alert-success\">\n",
    "<b>Celdas [43–49]</b> <a class=\"tocSkip\"></a><br>\n",
    "Tu analisis te lleva a las conlusiones esperadas. Las fuentes 3 y 10 no son rentables. Buen trabajo Alejandra. \n",
    "</div>\n"
   ]
  },
  {
   "cell_type": "markdown",
   "metadata": {},
   "source": [
    "# Conclusiones"
   ]
  },
  {
   "cell_type": "markdown",
   "metadata": {},
   "source": [
    "Tras analizar las métricas, se destacan los siguientes puntos:\n",
    "\n",
    "Tiempo hasta la conversión: La mayoria de usuarios tienden a volver entre 0 y 1 mes. Sin embargo, hay otros usuarios que tienen a volver hasta 6 meses despues. Que la mayoria de usuarios vuelvan el mismo mes es un indicativo que puede que la mayoria compre en el primer momento.\n",
    "\n",
    "Costo de Adquisición (CAC): La comparación del CAC entre las fuentes muestra que algunas permiten adquirir clientes a menor costo. Esto sugiere focalizar la inversión en estos canales. Por ejemplo, la grafica muestra que el mayor ingreso viene de la plataforma 2 y es una plataforma a la cual no se le ha invertido demasiado en comparacion a la plataforma 3 que es la que mas dinero se le ha invertido y no muestra un ROMI(ganancias) llamativo, por lo que se considera que no es rentable\n",
    "\n",
    "Rentabilidad (ROMI): Las fuentes con altos ingresos en comparación con el gasto son las más rentables. Las inversiones en canales con ROMI negativo deben ser evaluadas y optimizadas.\n"
   ]
  },
  {
   "cell_type": "markdown",
   "metadata": {},
   "source": [
    "RECOMENDACIONES\n",
    "\n",
    "-Invertir en fuentes con bajo CAC y alto ROMI: Esto permitirá optimizar la inversión en publicidad y lograr un mayor retorno.\n",
    "-Impulsar campañas que generen conversiones rápidas: Dado que una gran parte de los usuarios realiza su primera compra en el mismo mes o al mes siguiente, es importante enfocarse en este tipo de campañas.\n",
    "-Revisar y ajustar inversiones en canales de bajo rendimiento: Canalizar esfuerzos y presupuesto hacia aquellos canales que demuestren mejor rendimiento en conversión y rentabilidad."
   ]
  }
 ],
 "metadata": {
  "ExecuteTimeLog": [
   {
    "duration": 10,
    "start_time": "2025-04-29T22:51:37.669Z"
   },
   {
    "duration": 3,
    "start_time": "2025-04-29T22:53:05.953Z"
   },
   {
    "duration": 1148,
    "start_time": "2025-04-29T23:04:53.197Z"
   },
   {
    "duration": 2152,
    "start_time": "2025-04-29T23:05:50.610Z"
   },
   {
    "duration": 5,
    "start_time": "2025-04-29T23:06:00.641Z"
   },
   {
    "duration": 70,
    "start_time": "2025-04-29T23:07:17.436Z"
   },
   {
    "duration": 2,
    "start_time": "2025-04-29T23:08:32.152Z"
   },
   {
    "duration": 2,
    "start_time": "2025-04-29T23:09:48.597Z"
   },
   {
    "duration": 4,
    "start_time": "2025-04-29T23:12:34.519Z"
   },
   {
    "duration": 4,
    "start_time": "2025-04-29T23:15:20.817Z"
   },
   {
    "duration": 172,
    "start_time": "2025-04-29T23:19:10.353Z"
   },
   {
    "duration": 10,
    "start_time": "2025-04-29T23:20:39.178Z"
   },
   {
    "duration": 7,
    "start_time": "2025-04-29T23:27:15.540Z"
   },
   {
    "duration": 12,
    "start_time": "2025-04-29T23:28:01.551Z"
   },
   {
    "duration": 8,
    "start_time": "2025-04-29T23:29:04.946Z"
   },
   {
    "duration": 17,
    "start_time": "2025-04-29T23:30:00.212Z"
   },
   {
    "duration": 15,
    "start_time": "2025-04-29T23:36:22.442Z"
   },
   {
    "duration": 8,
    "start_time": "2025-04-29T23:37:22.489Z"
   },
   {
    "duration": 729,
    "start_time": "2025-04-29T23:39:54.931Z"
   },
   {
    "duration": 10,
    "start_time": "2025-04-29T23:40:01.294Z"
   },
   {
    "duration": 7,
    "start_time": "2025-04-29T23:53:50.595Z"
   },
   {
    "duration": 3,
    "start_time": "2025-04-30T00:10:51.666Z"
   },
   {
    "duration": 5,
    "start_time": "2025-04-30T00:13:03.456Z"
   },
   {
    "duration": 33,
    "start_time": "2025-04-30T00:47:48.912Z"
   },
   {
    "duration": 17,
    "start_time": "2025-04-30T01:12:18.287Z"
   },
   {
    "duration": 4,
    "start_time": "2025-04-30T01:12:25.949Z"
   },
   {
    "duration": 4,
    "start_time": "2025-04-30T01:12:58.183Z"
   },
   {
    "duration": 4,
    "start_time": "2025-04-30T01:13:07.490Z"
   },
   {
    "duration": 6,
    "start_time": "2025-04-30T01:13:15.161Z"
   },
   {
    "duration": 13,
    "start_time": "2025-04-30T01:13:20.166Z"
   },
   {
    "duration": 11,
    "start_time": "2025-04-30T01:13:23.345Z"
   },
   {
    "duration": 6,
    "start_time": "2025-04-30T01:13:27.424Z"
   },
   {
    "duration": 19,
    "start_time": "2025-04-30T01:13:37.885Z"
   },
   {
    "duration": 4,
    "start_time": "2025-04-30T01:13:43.695Z"
   },
   {
    "duration": 165,
    "start_time": "2025-04-30T01:14:00.311Z"
   },
   {
    "duration": 126,
    "start_time": "2025-04-30T01:14:54.416Z"
   },
   {
    "duration": 118,
    "start_time": "2025-04-30T01:15:17.227Z"
   },
   {
    "duration": 152,
    "start_time": "2025-04-30T01:15:53.287Z"
   },
   {
    "duration": 142,
    "start_time": "2025-04-30T01:16:37.738Z"
   },
   {
    "duration": 504,
    "start_time": "2025-04-30T01:18:11.144Z"
   },
   {
    "duration": 452,
    "start_time": "2025-04-30T01:18:11.650Z"
   },
   {
    "duration": 42,
    "start_time": "2025-04-30T01:18:12.104Z"
   },
   {
    "duration": 4,
    "start_time": "2025-04-30T01:18:12.148Z"
   },
   {
    "duration": 171,
    "start_time": "2025-04-30T01:18:12.155Z"
   },
   {
    "duration": 11,
    "start_time": "2025-04-30T01:18:12.331Z"
   },
   {
    "duration": 12,
    "start_time": "2025-04-30T01:18:12.344Z"
   },
   {
    "duration": 4,
    "start_time": "2025-04-30T01:18:12.360Z"
   },
   {
    "duration": 17,
    "start_time": "2025-04-30T01:18:12.366Z"
   },
   {
    "duration": 10,
    "start_time": "2025-04-30T01:18:12.385Z"
   },
   {
    "duration": 38,
    "start_time": "2025-04-30T01:18:12.398Z"
   },
   {
    "duration": 11,
    "start_time": "2025-04-30T01:18:12.438Z"
   },
   {
    "duration": 9,
    "start_time": "2025-04-30T01:18:12.451Z"
   },
   {
    "duration": 21,
    "start_time": "2025-04-30T01:18:12.463Z"
   },
   {
    "duration": 165,
    "start_time": "2025-04-30T01:18:12.486Z"
   },
   {
    "duration": 54,
    "start_time": "2025-04-30T01:20:32.742Z"
   },
   {
    "duration": 131,
    "start_time": "2025-04-30T01:24:45.752Z"
   },
   {
    "duration": 64,
    "start_time": "2025-04-30T01:24:57.909Z"
   },
   {
    "duration": 90,
    "start_time": "2025-04-30T01:28:37.036Z"
   },
   {
    "duration": 61,
    "start_time": "2025-04-30T01:28:55.021Z"
   },
   {
    "duration": 162,
    "start_time": "2025-04-30T01:43:13.427Z"
   },
   {
    "duration": 28,
    "start_time": "2025-04-30T01:44:36.140Z"
   },
   {
    "duration": 11,
    "start_time": "2025-04-30T01:45:13.721Z"
   },
   {
    "duration": 10,
    "start_time": "2025-04-30T01:47:00.311Z"
   },
   {
    "duration": 12,
    "start_time": "2025-04-30T01:51:18.497Z"
   },
   {
    "duration": 33,
    "start_time": "2025-04-30T01:52:19.204Z"
   },
   {
    "duration": 3,
    "start_time": "2025-04-30T01:52:44.071Z"
   },
   {
    "duration": 3,
    "start_time": "2025-04-30T01:52:50.007Z"
   },
   {
    "duration": 4,
    "start_time": "2025-04-30T01:52:59.672Z"
   },
   {
    "duration": 297,
    "start_time": "2025-04-30T01:53:08.699Z"
   },
   {
    "duration": 35,
    "start_time": "2025-04-30T01:53:33.417Z"
   },
   {
    "duration": 46,
    "start_time": "2025-04-30T01:54:59.939Z"
   },
   {
    "duration": 42,
    "start_time": "2025-04-30T01:57:07.774Z"
   },
   {
    "duration": 10,
    "start_time": "2025-04-30T01:57:38.823Z"
   },
   {
    "duration": 253,
    "start_time": "2025-04-30T01:58:29.050Z"
   },
   {
    "duration": 20,
    "start_time": "2025-04-30T01:58:39.040Z"
   },
   {
    "duration": 668,
    "start_time": "2025-04-30T01:59:56.052Z"
   },
   {
    "duration": 6,
    "start_time": "2025-04-30T02:00:47.363Z"
   },
   {
    "duration": 564,
    "start_time": "2025-04-30T02:01:06.577Z"
   },
   {
    "duration": 4,
    "start_time": "2025-04-30T02:01:59.195Z"
   },
   {
    "duration": 5,
    "start_time": "2025-04-30T02:02:10.433Z"
   },
   {
    "duration": 15,
    "start_time": "2025-04-30T02:07:48.312Z"
   },
   {
    "duration": 17,
    "start_time": "2025-04-30T02:07:58.120Z"
   },
   {
    "duration": 18,
    "start_time": "2025-04-30T02:08:15.317Z"
   },
   {
    "duration": 59,
    "start_time": "2025-04-30T02:13:13.945Z"
   },
   {
    "duration": 54,
    "start_time": "2025-04-30T02:13:28.692Z"
   },
   {
    "duration": 39,
    "start_time": "2025-04-30T02:13:42.164Z"
   },
   {
    "duration": 56,
    "start_time": "2025-04-30T02:15:00.319Z"
   },
   {
    "duration": 61,
    "start_time": "2025-04-30T02:15:28.674Z"
   },
   {
    "duration": 59,
    "start_time": "2025-04-30T02:18:30.621Z"
   },
   {
    "duration": 60,
    "start_time": "2025-04-30T02:18:39.212Z"
   },
   {
    "duration": 60,
    "start_time": "2025-04-30T02:18:42.410Z"
   },
   {
    "duration": 61,
    "start_time": "2025-04-30T02:18:52.729Z"
   },
   {
    "duration": 59,
    "start_time": "2025-04-30T02:19:00.141Z"
   },
   {
    "duration": 59,
    "start_time": "2025-04-30T02:19:07.859Z"
   },
   {
    "duration": 58,
    "start_time": "2025-04-30T02:20:01.301Z"
   },
   {
    "duration": 162,
    "start_time": "2025-04-30T03:47:47.024Z"
   },
   {
    "duration": 2153,
    "start_time": "2025-04-30T03:48:01.705Z"
   },
   {
    "duration": 432,
    "start_time": "2025-04-30T03:48:03.861Z"
   },
   {
    "duration": 39,
    "start_time": "2025-04-30T03:48:04.295Z"
   },
   {
    "duration": 3,
    "start_time": "2025-04-30T03:48:04.337Z"
   },
   {
    "duration": 156,
    "start_time": "2025-04-30T03:48:04.341Z"
   },
   {
    "duration": 11,
    "start_time": "2025-04-30T03:48:04.499Z"
   },
   {
    "duration": 5,
    "start_time": "2025-04-30T03:48:04.511Z"
   },
   {
    "duration": 3,
    "start_time": "2025-04-30T03:48:04.518Z"
   },
   {
    "duration": 10,
    "start_time": "2025-04-30T03:48:04.523Z"
   },
   {
    "duration": 3,
    "start_time": "2025-04-30T03:48:04.536Z"
   },
   {
    "duration": 21,
    "start_time": "2025-04-30T03:48:04.570Z"
   },
   {
    "duration": 7,
    "start_time": "2025-04-30T03:48:04.593Z"
   },
   {
    "duration": 9,
    "start_time": "2025-04-30T03:48:04.602Z"
   },
   {
    "duration": 9,
    "start_time": "2025-04-30T03:48:04.612Z"
   },
   {
    "duration": 6,
    "start_time": "2025-04-30T03:48:04.623Z"
   },
   {
    "duration": 56,
    "start_time": "2025-04-30T03:48:04.631Z"
   },
   {
    "duration": 127,
    "start_time": "2025-04-30T03:48:04.689Z"
   },
   {
    "duration": 62,
    "start_time": "2025-04-30T03:48:04.817Z"
   },
   {
    "duration": 47,
    "start_time": "2025-04-30T03:48:04.881Z"
   },
   {
    "duration": 57,
    "start_time": "2025-04-30T03:48:04.930Z"
   },
   {
    "duration": 65,
    "start_time": "2025-04-30T03:48:04.989Z"
   },
   {
    "duration": 83,
    "start_time": "2025-04-30T03:48:05.056Z"
   },
   {
    "duration": 78,
    "start_time": "2025-04-30T03:48:05.141Z"
   },
   {
    "duration": 160,
    "start_time": "2025-04-30T03:50:42.710Z"
   },
   {
    "duration": 410,
    "start_time": "2025-04-30T03:50:54.155Z"
   },
   {
    "duration": 426,
    "start_time": "2025-04-30T03:50:54.567Z"
   },
   {
    "duration": 39,
    "start_time": "2025-04-30T03:50:54.994Z"
   },
   {
    "duration": 3,
    "start_time": "2025-04-30T03:50:55.036Z"
   },
   {
    "duration": 146,
    "start_time": "2025-04-30T03:50:55.041Z"
   },
   {
    "duration": 10,
    "start_time": "2025-04-30T03:50:55.189Z"
   },
   {
    "duration": 4,
    "start_time": "2025-04-30T03:50:55.201Z"
   },
   {
    "duration": 4,
    "start_time": "2025-04-30T03:50:55.207Z"
   },
   {
    "duration": 13,
    "start_time": "2025-04-30T03:50:55.213Z"
   },
   {
    "duration": 4,
    "start_time": "2025-04-30T03:50:55.229Z"
   },
   {
    "duration": 46,
    "start_time": "2025-04-30T03:50:55.236Z"
   },
   {
    "duration": 7,
    "start_time": "2025-04-30T03:50:55.284Z"
   },
   {
    "duration": 9,
    "start_time": "2025-04-30T03:50:55.293Z"
   },
   {
    "duration": 9,
    "start_time": "2025-04-30T03:50:55.303Z"
   },
   {
    "duration": 7,
    "start_time": "2025-04-30T03:50:55.313Z"
   },
   {
    "duration": 17,
    "start_time": "2025-04-30T03:50:55.322Z"
   },
   {
    "duration": 121,
    "start_time": "2025-04-30T03:50:55.371Z"
   },
   {
    "duration": 56,
    "start_time": "2025-04-30T03:50:55.494Z"
   },
   {
    "duration": 59,
    "start_time": "2025-04-30T03:50:55.552Z"
   },
   {
    "duration": 43,
    "start_time": "2025-04-30T03:50:55.612Z"
   },
   {
    "duration": 60,
    "start_time": "2025-04-30T03:50:55.670Z"
   },
   {
    "duration": 80,
    "start_time": "2025-04-30T03:50:55.732Z"
   },
   {
    "duration": 72,
    "start_time": "2025-04-30T03:50:55.814Z"
   },
   {
    "duration": 584,
    "start_time": "2025-04-30T03:50:55.889Z"
   },
   {
    "duration": 138,
    "start_time": "2025-04-30T03:52:00.397Z"
   },
   {
    "duration": 39,
    "start_time": "2025-04-30T03:52:33.111Z"
   },
   {
    "duration": 559,
    "start_time": "2025-04-30T03:52:45.569Z"
   },
   {
    "duration": 127,
    "start_time": "2025-04-30T03:53:01.895Z"
   },
   {
    "duration": 129,
    "start_time": "2025-04-30T03:53:28.813Z"
   },
   {
    "duration": 15,
    "start_time": "2025-04-30T03:53:41.813Z"
   },
   {
    "duration": 14,
    "start_time": "2025-04-30T03:55:03.578Z"
   },
   {
    "duration": 425,
    "start_time": "2025-04-30T03:56:30.227Z"
   },
   {
    "duration": 172,
    "start_time": "2025-04-30T03:56:35.849Z"
   },
   {
    "duration": 134,
    "start_time": "2025-04-30T03:57:19.179Z"
   },
   {
    "duration": 125,
    "start_time": "2025-04-30T03:57:30.141Z"
   },
   {
    "duration": 140,
    "start_time": "2025-04-30T04:00:35.189Z"
   },
   {
    "duration": 45,
    "start_time": "2025-04-30T04:07:38.419Z"
   },
   {
    "duration": 161,
    "start_time": "2025-04-30T04:07:59.240Z"
   },
   {
    "duration": 168,
    "start_time": "2025-04-30T04:08:34.563Z"
   },
   {
    "duration": 178,
    "start_time": "2025-04-30T04:09:01.348Z"
   },
   {
    "duration": 164,
    "start_time": "2025-04-30T04:09:16.538Z"
   },
   {
    "duration": 139,
    "start_time": "2025-04-30T04:09:26.353Z"
   },
   {
    "duration": 142,
    "start_time": "2025-04-30T04:16:56.957Z"
   },
   {
    "duration": 280,
    "start_time": "2025-04-30T04:17:17.378Z"
   },
   {
    "duration": 145,
    "start_time": "2025-04-30T04:17:26.335Z"
   },
   {
    "duration": 56,
    "start_time": "2025-04-30T04:19:58.297Z"
   },
   {
    "duration": 149,
    "start_time": "2025-04-30T04:20:50.251Z"
   },
   {
    "duration": 138,
    "start_time": "2025-04-30T04:21:15.312Z"
   },
   {
    "duration": 143,
    "start_time": "2025-04-30T04:21:33.443Z"
   },
   {
    "duration": 145,
    "start_time": "2025-04-30T04:21:48.152Z"
   },
   {
    "duration": 197,
    "start_time": "2025-04-30T04:21:55.292Z"
   },
   {
    "duration": 121,
    "start_time": "2025-04-30T04:22:03.786Z"
   },
   {
    "duration": 348,
    "start_time": "2025-04-30T04:22:07.746Z"
   },
   {
    "duration": 506,
    "start_time": "2025-04-30T04:22:14.150Z"
   },
   {
    "duration": 245,
    "start_time": "2025-04-30T04:28:09.515Z"
   },
   {
    "duration": 149,
    "start_time": "2025-04-30T04:30:10.022Z"
   },
   {
    "duration": 154,
    "start_time": "2025-04-30T04:30:29.237Z"
   },
   {
    "duration": 148,
    "start_time": "2025-04-30T04:30:53.063Z"
   },
   {
    "duration": 168,
    "start_time": "2025-04-30T04:31:04.005Z"
   },
   {
    "duration": 159,
    "start_time": "2025-04-30T16:25:36.121Z"
   },
   {
    "duration": 2576,
    "start_time": "2025-04-30T16:25:46.951Z"
   },
   {
    "duration": 407,
    "start_time": "2025-04-30T16:25:49.529Z"
   },
   {
    "duration": 45,
    "start_time": "2025-04-30T16:25:49.938Z"
   },
   {
    "duration": 4,
    "start_time": "2025-04-30T16:25:49.984Z"
   },
   {
    "duration": 145,
    "start_time": "2025-04-30T16:25:49.990Z"
   },
   {
    "duration": 9,
    "start_time": "2025-04-30T16:25:50.137Z"
   },
   {
    "duration": 4,
    "start_time": "2025-04-30T16:25:50.148Z"
   },
   {
    "duration": 4,
    "start_time": "2025-04-30T16:25:50.154Z"
   },
   {
    "duration": 9,
    "start_time": "2025-04-30T16:25:50.159Z"
   },
   {
    "duration": 3,
    "start_time": "2025-04-30T16:25:50.169Z"
   },
   {
    "duration": 46,
    "start_time": "2025-04-30T16:25:50.174Z"
   },
   {
    "duration": 9,
    "start_time": "2025-04-30T16:25:50.222Z"
   },
   {
    "duration": 7,
    "start_time": "2025-04-30T16:25:50.232Z"
   },
   {
    "duration": 7,
    "start_time": "2025-04-30T16:25:50.244Z"
   },
   {
    "duration": 8,
    "start_time": "2025-04-30T16:25:50.253Z"
   },
   {
    "duration": 17,
    "start_time": "2025-04-30T16:25:50.262Z"
   },
   {
    "duration": 125,
    "start_time": "2025-04-30T16:25:50.311Z"
   },
   {
    "duration": 55,
    "start_time": "2025-04-30T16:25:50.438Z"
   },
   {
    "duration": 72,
    "start_time": "2025-04-30T16:25:50.495Z"
   },
   {
    "duration": 543,
    "start_time": "2025-04-30T16:25:50.569Z"
   },
   {
    "duration": 0,
    "start_time": "2025-04-30T16:25:51.114Z"
   },
   {
    "duration": 0,
    "start_time": "2025-04-30T16:25:51.116Z"
   },
   {
    "duration": 0,
    "start_time": "2025-04-30T16:25:51.117Z"
   },
   {
    "duration": 0,
    "start_time": "2025-04-30T16:25:51.118Z"
   },
   {
    "duration": 0,
    "start_time": "2025-04-30T16:25:51.119Z"
   },
   {
    "duration": 0,
    "start_time": "2025-04-30T16:25:51.120Z"
   },
   {
    "duration": 0,
    "start_time": "2025-04-30T16:25:51.121Z"
   },
   {
    "duration": 0,
    "start_time": "2025-04-30T16:25:51.122Z"
   },
   {
    "duration": 43,
    "start_time": "2025-04-30T16:26:29.862Z"
   },
   {
    "duration": 64,
    "start_time": "2025-04-30T16:27:30.379Z"
   },
   {
    "duration": 41,
    "start_time": "2025-04-30T16:27:33.143Z"
   },
   {
    "duration": 60,
    "start_time": "2025-04-30T16:27:45.792Z"
   },
   {
    "duration": 65,
    "start_time": "2025-04-30T16:27:59.738Z"
   },
   {
    "duration": 64,
    "start_time": "2025-04-30T16:28:12.850Z"
   },
   {
    "duration": 144,
    "start_time": "2025-04-30T16:28:26.581Z"
   },
   {
    "duration": 135,
    "start_time": "2025-04-30T16:28:41.614Z"
   },
   {
    "duration": 137,
    "start_time": "2025-04-30T16:28:52.024Z"
   },
   {
    "duration": 219,
    "start_time": "2025-04-30T16:29:00.768Z"
   },
   {
    "duration": 401,
    "start_time": "2025-04-30T16:30:35.059Z"
   },
   {
    "duration": 223,
    "start_time": "2025-04-30T16:31:00.005Z"
   },
   {
    "duration": 161,
    "start_time": "2025-04-30T16:31:12.617Z"
   },
   {
    "duration": 171,
    "start_time": "2025-04-30T16:32:21.002Z"
   },
   {
    "duration": 181,
    "start_time": "2025-04-30T16:32:50.542Z"
   },
   {
    "duration": 157,
    "start_time": "2025-04-30T16:33:13.490Z"
   },
   {
    "duration": 182,
    "start_time": "2025-04-30T16:34:24.011Z"
   },
   {
    "duration": 199,
    "start_time": "2025-04-30T16:36:50.562Z"
   },
   {
    "duration": 2568,
    "start_time": "2025-04-30T17:06:34.667Z"
   },
   {
    "duration": 449,
    "start_time": "2025-04-30T17:06:37.238Z"
   },
   {
    "duration": 40,
    "start_time": "2025-04-30T17:06:37.689Z"
   },
   {
    "duration": 4,
    "start_time": "2025-04-30T17:06:37.731Z"
   },
   {
    "duration": 145,
    "start_time": "2025-04-30T17:06:37.739Z"
   },
   {
    "duration": 11,
    "start_time": "2025-04-30T17:06:37.886Z"
   },
   {
    "duration": 15,
    "start_time": "2025-04-30T17:06:37.898Z"
   },
   {
    "duration": 4,
    "start_time": "2025-04-30T17:06:37.915Z"
   },
   {
    "duration": 10,
    "start_time": "2025-04-30T17:06:37.921Z"
   },
   {
    "duration": 6,
    "start_time": "2025-04-30T17:06:37.933Z"
   },
   {
    "duration": 16,
    "start_time": "2025-04-30T17:06:37.940Z"
   },
   {
    "duration": 8,
    "start_time": "2025-04-30T17:06:37.957Z"
   },
   {
    "duration": 47,
    "start_time": "2025-04-30T17:06:37.967Z"
   },
   {
    "duration": 11,
    "start_time": "2025-04-30T17:06:38.019Z"
   },
   {
    "duration": 8,
    "start_time": "2025-04-30T17:06:38.032Z"
   },
   {
    "duration": 22,
    "start_time": "2025-04-30T17:06:38.047Z"
   },
   {
    "duration": 142,
    "start_time": "2025-04-30T17:06:38.071Z"
   },
   {
    "duration": 70,
    "start_time": "2025-04-30T17:06:38.215Z"
   },
   {
    "duration": 86,
    "start_time": "2025-04-30T17:06:38.288Z"
   },
   {
    "duration": 61,
    "start_time": "2025-04-30T17:06:38.376Z"
   },
   {
    "duration": 82,
    "start_time": "2025-04-30T17:06:38.439Z"
   },
   {
    "duration": 97,
    "start_time": "2025-04-30T17:06:38.523Z"
   },
   {
    "duration": 92,
    "start_time": "2025-04-30T17:06:38.623Z"
   },
   {
    "duration": 162,
    "start_time": "2025-04-30T17:06:38.717Z"
   },
   {
    "duration": 162,
    "start_time": "2025-04-30T17:06:38.881Z"
   },
   {
    "duration": 151,
    "start_time": "2025-04-30T17:06:39.045Z"
   },
   {
    "duration": 218,
    "start_time": "2025-04-30T17:06:39.198Z"
   },
   {
    "duration": 202,
    "start_time": "2025-04-30T17:06:39.418Z"
   },
   {
    "duration": 8,
    "start_time": "2025-04-30T17:07:41.614Z"
   },
   {
    "duration": 12,
    "start_time": "2025-04-30T17:09:35.931Z"
   },
   {
    "duration": 14,
    "start_time": "2025-04-30T17:10:01.949Z"
   },
   {
    "duration": 580,
    "start_time": "2025-04-30T17:12:20.607Z"
   },
   {
    "duration": 5,
    "start_time": "2025-04-30T17:14:20.287Z"
   },
   {
    "duration": 14,
    "start_time": "2025-04-30T17:14:24.855Z"
   },
   {
    "duration": 54,
    "start_time": "2025-04-30T17:15:03.880Z"
   },
   {
    "duration": 20,
    "start_time": "2025-04-30T17:16:09.254Z"
   },
   {
    "duration": 19,
    "start_time": "2025-04-30T17:16:28.382Z"
   },
   {
    "duration": 99,
    "start_time": "2025-04-30T17:16:54.732Z"
   },
   {
    "duration": 20,
    "start_time": "2025-04-30T17:19:49.390Z"
   },
   {
    "duration": 40,
    "start_time": "2025-04-30T17:21:02.110Z"
   },
   {
    "duration": 42,
    "start_time": "2025-04-30T17:21:15.177Z"
   },
   {
    "duration": 269,
    "start_time": "2025-04-30T17:22:50.838Z"
   },
   {
    "duration": 38,
    "start_time": "2025-04-30T17:22:54.899Z"
   },
   {
    "duration": 7,
    "start_time": "2025-04-30T17:23:17.344Z"
   },
   {
    "duration": 5,
    "start_time": "2025-04-30T17:27:29.350Z"
   },
   {
    "duration": 8,
    "start_time": "2025-04-30T17:27:54.872Z"
   },
   {
    "duration": 11,
    "start_time": "2025-04-30T17:28:14.659Z"
   },
   {
    "duration": 11,
    "start_time": "2025-04-30T17:29:07.806Z"
   },
   {
    "duration": 43,
    "start_time": "2025-04-30T17:29:44.753Z"
   },
   {
    "duration": 10,
    "start_time": "2025-04-30T17:29:47.945Z"
   },
   {
    "duration": 10,
    "start_time": "2025-04-30T17:36:34.931Z"
   },
   {
    "duration": 3,
    "start_time": "2025-04-30T17:41:09.528Z"
   },
   {
    "duration": 3,
    "start_time": "2025-04-30T17:41:17.343Z"
   },
   {
    "duration": 155,
    "start_time": "2025-04-30T17:41:23.488Z"
   },
   {
    "duration": 100,
    "start_time": "2025-04-30T17:41:41.159Z"
   },
   {
    "duration": 27,
    "start_time": "2025-04-30T17:42:10.703Z"
   },
   {
    "duration": 53,
    "start_time": "2025-04-30T17:42:18.138Z"
   },
   {
    "duration": 9,
    "start_time": "2025-04-30T17:42:24.473Z"
   },
   {
    "duration": 11,
    "start_time": "2025-04-30T17:42:28.333Z"
   },
   {
    "duration": 17,
    "start_time": "2025-04-30T17:44:56.585Z"
   },
   {
    "duration": 172,
    "start_time": "2025-04-30T17:45:12.212Z"
   },
   {
    "duration": 195,
    "start_time": "2025-04-30T17:46:13.099Z"
   },
   {
    "duration": 25,
    "start_time": "2025-04-30T17:47:03.624Z"
   },
   {
    "duration": 48,
    "start_time": "2025-04-30T17:47:39.650Z"
   },
   {
    "duration": 214,
    "start_time": "2025-04-30T17:48:57.150Z"
   },
   {
    "duration": 204,
    "start_time": "2025-04-30T17:50:23.733Z"
   },
   {
    "duration": 171,
    "start_time": "2025-04-30T17:51:09.642Z"
   },
   {
    "duration": 25,
    "start_time": "2025-04-30T17:51:40.298Z"
   },
   {
    "duration": 6,
    "start_time": "2025-04-30T17:52:47.577Z"
   },
   {
    "duration": 5,
    "start_time": "2025-04-30T17:52:56.108Z"
   },
   {
    "duration": 48,
    "start_time": "2025-04-30T17:54:30.922Z"
   },
   {
    "duration": 19,
    "start_time": "2025-04-30T17:54:50.145Z"
   },
   {
    "duration": 41,
    "start_time": "2025-04-30T17:55:59.853Z"
   },
   {
    "duration": 20,
    "start_time": "2025-04-30T17:56:14.323Z"
   },
   {
    "duration": 13,
    "start_time": "2025-04-30T17:56:59.964Z"
   },
   {
    "duration": 162,
    "start_time": "2025-04-30T18:04:34.473Z"
   },
   {
    "duration": 162,
    "start_time": "2025-04-30T18:04:55.570Z"
   },
   {
    "duration": 171,
    "start_time": "2025-04-30T18:05:02.703Z"
   },
   {
    "duration": 5,
    "start_time": "2025-04-30T18:05:28.892Z"
   },
   {
    "duration": 157,
    "start_time": "2025-04-30T19:27:13.962Z"
   },
   {
    "duration": 2557,
    "start_time": "2025-04-30T19:27:21.482Z"
   },
   {
    "duration": 428,
    "start_time": "2025-04-30T19:27:24.043Z"
   },
   {
    "duration": 39,
    "start_time": "2025-04-30T19:27:24.474Z"
   },
   {
    "duration": 4,
    "start_time": "2025-04-30T19:27:24.515Z"
   },
   {
    "duration": 155,
    "start_time": "2025-04-30T19:27:24.522Z"
   },
   {
    "duration": 9,
    "start_time": "2025-04-30T19:27:24.679Z"
   },
   {
    "duration": 5,
    "start_time": "2025-04-30T19:27:24.689Z"
   },
   {
    "duration": 5,
    "start_time": "2025-04-30T19:27:24.696Z"
   },
   {
    "duration": 35,
    "start_time": "2025-04-30T19:27:24.702Z"
   },
   {
    "duration": 3,
    "start_time": "2025-04-30T19:27:24.739Z"
   },
   {
    "duration": 17,
    "start_time": "2025-04-30T19:27:24.744Z"
   },
   {
    "duration": 7,
    "start_time": "2025-04-30T19:27:24.763Z"
   },
   {
    "duration": 8,
    "start_time": "2025-04-30T19:27:24.771Z"
   },
   {
    "duration": 9,
    "start_time": "2025-04-30T19:27:24.783Z"
   },
   {
    "duration": 39,
    "start_time": "2025-04-30T19:27:24.794Z"
   },
   {
    "duration": 19,
    "start_time": "2025-04-30T19:27:24.835Z"
   },
   {
    "duration": 138,
    "start_time": "2025-04-30T19:27:24.856Z"
   },
   {
    "duration": 62,
    "start_time": "2025-04-30T19:27:24.996Z"
   },
   {
    "duration": 63,
    "start_time": "2025-04-30T19:27:25.059Z"
   },
   {
    "duration": 44,
    "start_time": "2025-04-30T19:27:25.131Z"
   },
   {
    "duration": 81,
    "start_time": "2025-04-30T19:27:25.177Z"
   },
   {
    "duration": 77,
    "start_time": "2025-04-30T19:27:25.260Z"
   },
   {
    "duration": 69,
    "start_time": "2025-04-30T19:27:25.338Z"
   },
   {
    "duration": 215,
    "start_time": "2025-04-30T19:27:25.409Z"
   },
   {
    "duration": 149,
    "start_time": "2025-04-30T19:27:25.626Z"
   },
   {
    "duration": 170,
    "start_time": "2025-04-30T19:27:25.777Z"
   },
   {
    "duration": 229,
    "start_time": "2025-04-30T19:27:25.949Z"
   },
   {
    "duration": 182,
    "start_time": "2025-04-30T19:27:26.180Z"
   },
   {
    "duration": 8,
    "start_time": "2025-04-30T19:27:26.364Z"
   },
   {
    "duration": 16,
    "start_time": "2025-04-30T19:27:26.374Z"
   },
   {
    "duration": 208,
    "start_time": "2025-04-30T19:27:26.392Z"
   },
   {
    "duration": 32,
    "start_time": "2025-04-30T19:27:26.602Z"
   },
   {
    "duration": 40,
    "start_time": "2025-04-30T19:27:26.636Z"
   },
   {
    "duration": 12,
    "start_time": "2025-04-30T19:27:26.678Z"
   },
   {
    "duration": 186,
    "start_time": "2025-04-30T19:27:26.692Z"
   },
   {
    "duration": 84,
    "start_time": "2025-04-30T19:27:26.880Z"
   },
   {
    "duration": 4,
    "start_time": "2025-04-30T19:27:44.094Z"
   },
   {
    "duration": 4,
    "start_time": "2025-04-30T19:27:53.252Z"
   },
   {
    "duration": 7,
    "start_time": "2025-04-30T19:30:48.125Z"
   },
   {
    "duration": 9,
    "start_time": "2025-04-30T19:30:54.784Z"
   },
   {
    "duration": 138,
    "start_time": "2025-04-30T19:33:03.803Z"
   },
   {
    "duration": 7,
    "start_time": "2025-04-30T19:40:59.463Z"
   },
   {
    "duration": 14,
    "start_time": "2025-04-30T19:41:03.892Z"
   },
   {
    "duration": 138,
    "start_time": "2025-04-30T19:42:54.872Z"
   },
   {
    "duration": 135,
    "start_time": "2025-04-30T19:46:04.739Z"
   },
   {
    "duration": 4,
    "start_time": "2025-04-30T19:46:41.205Z"
   },
   {
    "duration": 3,
    "start_time": "2025-04-30T19:47:55.760Z"
   },
   {
    "duration": 3,
    "start_time": "2025-04-30T19:48:09.833Z"
   },
   {
    "duration": 6,
    "start_time": "2025-04-30T19:49:23.719Z"
   },
   {
    "duration": 3,
    "start_time": "2025-04-30T19:49:27.417Z"
   },
   {
    "duration": 4,
    "start_time": "2025-04-30T19:49:39.379Z"
   },
   {
    "duration": 3,
    "start_time": "2025-04-30T19:49:50.450Z"
   },
   {
    "duration": 4,
    "start_time": "2025-04-30T19:50:18.383Z"
   },
   {
    "duration": 16,
    "start_time": "2025-04-30T19:50:24.761Z"
   },
   {
    "duration": 4,
    "start_time": "2025-04-30T19:50:28.836Z"
   },
   {
    "duration": 3,
    "start_time": "2025-04-30T19:50:39.478Z"
   },
   {
    "duration": 10,
    "start_time": "2025-04-30T19:57:11.070Z"
   },
   {
    "duration": 144,
    "start_time": "2025-04-30T20:02:18.293Z"
   },
   {
    "duration": 2544,
    "start_time": "2025-04-30T21:33:10.705Z"
   },
   {
    "duration": 416,
    "start_time": "2025-04-30T21:33:13.250Z"
   },
   {
    "duration": 38,
    "start_time": "2025-04-30T21:33:13.667Z"
   },
   {
    "duration": 4,
    "start_time": "2025-04-30T21:33:13.707Z"
   },
   {
    "duration": 132,
    "start_time": "2025-04-30T21:33:13.713Z"
   },
   {
    "duration": 10,
    "start_time": "2025-04-30T21:33:13.847Z"
   },
   {
    "duration": 6,
    "start_time": "2025-04-30T21:33:13.859Z"
   },
   {
    "duration": 13,
    "start_time": "2025-04-30T21:33:13.867Z"
   },
   {
    "duration": 10,
    "start_time": "2025-04-30T21:33:13.882Z"
   },
   {
    "duration": 4,
    "start_time": "2025-04-30T21:33:13.893Z"
   },
   {
    "duration": 39,
    "start_time": "2025-04-30T21:33:13.899Z"
   },
   {
    "duration": 6,
    "start_time": "2025-04-30T21:33:13.940Z"
   },
   {
    "duration": 8,
    "start_time": "2025-04-30T21:33:13.948Z"
   },
   {
    "duration": 8,
    "start_time": "2025-04-30T21:33:13.960Z"
   },
   {
    "duration": 7,
    "start_time": "2025-04-30T21:33:13.970Z"
   },
   {
    "duration": 50,
    "start_time": "2025-04-30T21:33:13.979Z"
   },
   {
    "duration": 122,
    "start_time": "2025-04-30T21:33:14.030Z"
   },
   {
    "duration": 55,
    "start_time": "2025-04-30T21:33:14.154Z"
   },
   {
    "duration": 60,
    "start_time": "2025-04-30T21:33:14.223Z"
   },
   {
    "duration": 51,
    "start_time": "2025-04-30T21:33:14.285Z"
   },
   {
    "duration": 59,
    "start_time": "2025-04-30T21:33:14.338Z"
   },
   {
    "duration": 81,
    "start_time": "2025-04-30T21:33:14.399Z"
   },
   {
    "duration": 78,
    "start_time": "2025-04-30T21:33:14.482Z"
   },
   {
    "duration": 145,
    "start_time": "2025-04-30T21:33:14.562Z"
   },
   {
    "duration": 148,
    "start_time": "2025-04-30T21:33:14.708Z"
   },
   {
    "duration": 147,
    "start_time": "2025-04-30T21:33:14.858Z"
   },
   {
    "duration": 234,
    "start_time": "2025-04-30T21:33:15.007Z"
   },
   {
    "duration": 183,
    "start_time": "2025-04-30T21:33:15.243Z"
   },
   {
    "duration": 6,
    "start_time": "2025-04-30T21:33:15.428Z"
   },
   {
    "duration": 13,
    "start_time": "2025-04-30T21:33:15.436Z"
   },
   {
    "duration": 197,
    "start_time": "2025-04-30T21:33:15.451Z"
   },
   {
    "duration": 24,
    "start_time": "2025-04-30T21:33:15.650Z"
   },
   {
    "duration": 54,
    "start_time": "2025-04-30T21:33:15.676Z"
   },
   {
    "duration": 12,
    "start_time": "2025-04-30T21:33:15.732Z"
   },
   {
    "duration": 169,
    "start_time": "2025-04-30T21:33:15.745Z"
   },
   {
    "duration": 15,
    "start_time": "2025-04-30T21:33:15.916Z"
   },
   {
    "duration": 200,
    "start_time": "2025-04-30T21:33:15.933Z"
   },
   {
    "duration": 9,
    "start_time": "2025-04-30T21:33:16.135Z"
   },
   {
    "duration": 147,
    "start_time": "2025-04-30T21:33:16.146Z"
   },
   {
    "duration": 4,
    "start_time": "2025-04-30T21:33:16.296Z"
   },
   {
    "duration": 22,
    "start_time": "2025-04-30T21:33:16.305Z"
   },
   {
    "duration": 146,
    "start_time": "2025-04-30T21:33:16.328Z"
   },
   {
    "duration": 7,
    "start_time": "2025-04-30T21:33:57.282Z"
   },
   {
    "duration": 11,
    "start_time": "2025-04-30T21:34:38.186Z"
   },
   {
    "duration": 13,
    "start_time": "2025-04-30T21:36:56.850Z"
   },
   {
    "duration": 7,
    "start_time": "2025-04-30T21:46:13.087Z"
   },
   {
    "duration": 9,
    "start_time": "2025-04-30T21:46:21.795Z"
   },
   {
    "duration": 12,
    "start_time": "2025-04-30T21:47:26.496Z"
   },
   {
    "duration": 8,
    "start_time": "2025-04-30T21:47:36.050Z"
   },
   {
    "duration": 12,
    "start_time": "2025-04-30T21:47:47.724Z"
   },
   {
    "duration": 218,
    "start_time": "2025-04-30T21:50:03.280Z"
   },
   {
    "duration": 200,
    "start_time": "2025-04-30T21:50:10.175Z"
   },
   {
    "duration": 197,
    "start_time": "2025-04-30T21:50:41.405Z"
   },
   {
    "duration": 261,
    "start_time": "2025-04-30T21:51:34.409Z"
   },
   {
    "duration": 193,
    "start_time": "2025-04-30T21:51:44.141Z"
   },
   {
    "duration": 180,
    "start_time": "2025-04-30T21:56:19.325Z"
   },
   {
    "duration": 7,
    "start_time": "2025-05-01T22:24:38.183Z"
   },
   {
    "duration": 155,
    "start_time": "2025-05-01T22:28:30.972Z"
   },
   {
    "duration": 2755,
    "start_time": "2025-05-01T22:28:57.636Z"
   },
   {
    "duration": 450,
    "start_time": "2025-05-01T22:29:00.393Z"
   },
   {
    "duration": 40,
    "start_time": "2025-05-01T22:29:00.844Z"
   },
   {
    "duration": 4,
    "start_time": "2025-05-01T22:29:00.886Z"
   },
   {
    "duration": 158,
    "start_time": "2025-05-01T22:29:00.893Z"
   },
   {
    "duration": 10,
    "start_time": "2025-05-01T22:29:01.053Z"
   },
   {
    "duration": 5,
    "start_time": "2025-05-01T22:29:01.065Z"
   },
   {
    "duration": 4,
    "start_time": "2025-05-01T22:29:01.072Z"
   },
   {
    "duration": 11,
    "start_time": "2025-05-01T22:29:01.078Z"
   },
   {
    "duration": 4,
    "start_time": "2025-05-01T22:29:01.090Z"
   },
   {
    "duration": 51,
    "start_time": "2025-05-01T22:29:01.095Z"
   },
   {
    "duration": 8,
    "start_time": "2025-05-01T22:29:01.148Z"
   },
   {
    "duration": 10,
    "start_time": "2025-05-01T22:29:01.158Z"
   },
   {
    "duration": 9,
    "start_time": "2025-05-01T22:29:01.173Z"
   },
   {
    "duration": 7,
    "start_time": "2025-05-01T22:29:01.184Z"
   },
   {
    "duration": 51,
    "start_time": "2025-05-01T22:29:01.193Z"
   },
   {
    "duration": 131,
    "start_time": "2025-05-01T22:29:01.246Z"
   },
   {
    "duration": 66,
    "start_time": "2025-05-01T22:29:01.379Z"
   },
   {
    "duration": 66,
    "start_time": "2025-05-01T22:29:01.447Z"
   },
   {
    "duration": 62,
    "start_time": "2025-05-01T22:29:01.514Z"
   },
   {
    "duration": 77,
    "start_time": "2025-05-01T22:29:01.578Z"
   },
   {
    "duration": 80,
    "start_time": "2025-05-01T22:29:01.657Z"
   },
   {
    "duration": 73,
    "start_time": "2025-05-01T22:29:01.739Z"
   },
   {
    "duration": 168,
    "start_time": "2025-05-01T22:29:01.814Z"
   },
   {
    "duration": 152,
    "start_time": "2025-05-01T22:29:01.983Z"
   },
   {
    "duration": 154,
    "start_time": "2025-05-01T22:29:02.137Z"
   },
   {
    "duration": 228,
    "start_time": "2025-05-01T22:29:02.293Z"
   },
   {
    "duration": 180,
    "start_time": "2025-05-01T22:29:02.523Z"
   },
   {
    "duration": 6,
    "start_time": "2025-05-01T22:29:02.705Z"
   },
   {
    "duration": 27,
    "start_time": "2025-05-01T22:29:02.713Z"
   },
   {
    "duration": 199,
    "start_time": "2025-05-01T22:29:02.741Z"
   },
   {
    "duration": 25,
    "start_time": "2025-05-01T22:29:02.942Z"
   },
   {
    "duration": 44,
    "start_time": "2025-05-01T22:29:02.968Z"
   },
   {
    "duration": 31,
    "start_time": "2025-05-01T22:29:03.013Z"
   },
   {
    "duration": 177,
    "start_time": "2025-05-01T22:29:03.045Z"
   },
   {
    "duration": 17,
    "start_time": "2025-05-01T22:29:03.224Z"
   },
   {
    "duration": 161,
    "start_time": "2025-05-01T22:29:03.243Z"
   },
   {
    "duration": 10,
    "start_time": "2025-05-01T22:29:03.407Z"
   },
   {
    "duration": 144,
    "start_time": "2025-05-01T22:29:03.431Z"
   },
   {
    "duration": 4,
    "start_time": "2025-05-01T22:29:03.577Z"
   },
   {
    "duration": 9,
    "start_time": "2025-05-01T22:29:03.585Z"
   },
   {
    "duration": 163,
    "start_time": "2025-05-01T22:29:03.596Z"
   },
   {
    "duration": 7,
    "start_time": "2025-05-01T22:29:03.761Z"
   },
   {
    "duration": 11,
    "start_time": "2025-05-01T22:29:03.770Z"
   },
   {
    "duration": 9,
    "start_time": "2025-05-01T22:29:03.783Z"
   },
   {
    "duration": 39,
    "start_time": "2025-05-01T22:29:03.794Z"
   },
   {
    "duration": 277,
    "start_time": "2025-05-01T22:29:03.835Z"
   },
   {
    "duration": 3,
    "start_time": "2025-05-01T22:29:04.115Z"
   },
   {
    "duration": 130,
    "start_time": "2025-05-01T22:38:30.643Z"
   },
   {
    "duration": 136,
    "start_time": "2025-05-01T22:57:12.326Z"
   },
   {
    "duration": 80,
    "start_time": "2025-05-01T23:02:45.852Z"
   },
   {
    "duration": 205,
    "start_time": "2025-05-01T23:02:52.760Z"
   },
   {
    "duration": 13,
    "start_time": "2025-05-01T23:03:59.635Z"
   },
   {
    "duration": 12,
    "start_time": "2025-05-01T23:04:04.415Z"
   },
   {
    "duration": 26,
    "start_time": "2025-05-01T23:06:44.271Z"
   },
   {
    "duration": 2,
    "start_time": "2025-05-01T23:16:22.063Z"
   },
   {
    "duration": 389,
    "start_time": "2025-05-01T23:17:15.230Z"
   },
   {
    "duration": 6,
    "start_time": "2025-05-01T23:17:20.885Z"
   },
   {
    "duration": 12,
    "start_time": "2025-05-01T23:18:55.548Z"
   },
   {
    "duration": 13,
    "start_time": "2025-05-01T23:20:25.051Z"
   },
   {
    "duration": 179,
    "start_time": "2025-05-01T23:20:32.882Z"
   },
   {
    "duration": 87,
    "start_time": "2025-05-01T23:22:13.977Z"
   },
   {
    "duration": 55,
    "start_time": "2025-05-01T23:22:19.268Z"
   },
   {
    "duration": 163,
    "start_time": "2025-05-01T23:24:37.667Z"
   },
   {
    "duration": 6,
    "start_time": "2025-05-01T23:25:36.355Z"
   },
   {
    "duration": 146,
    "start_time": "2025-05-01T23:26:03.364Z"
   },
   {
    "duration": 2,
    "start_time": "2025-05-01T23:32:07.112Z"
   },
   {
    "duration": 5,
    "start_time": "2025-05-01T23:32:50.278Z"
   },
   {
    "duration": 5,
    "start_time": "2025-05-01T23:41:27.648Z"
   },
   {
    "duration": 12,
    "start_time": "2025-05-01T23:46:10.512Z"
   },
   {
    "duration": 416,
    "start_time": "2025-05-01T23:46:18.167Z"
   },
   {
    "duration": 45,
    "start_time": "2025-05-01T23:46:25.066Z"
   },
   {
    "duration": 416,
    "start_time": "2025-05-01T23:46:34.087Z"
   },
   {
    "duration": 8,
    "start_time": "2025-05-01T23:46:59.363Z"
   },
   {
    "duration": 151,
    "start_time": "2025-05-01T23:47:11.789Z"
   },
   {
    "duration": 8,
    "start_time": "2025-05-01T23:47:19.666Z"
   },
   {
    "duration": 8,
    "start_time": "2025-05-01T23:49:27.077Z"
   },
   {
    "duration": 240,
    "start_time": "2025-05-01T23:49:48.616Z"
   },
   {
    "duration": 8,
    "start_time": "2025-05-01T23:50:13.116Z"
   },
   {
    "duration": 124,
    "start_time": "2025-05-01T23:50:51.336Z"
   },
   {
    "duration": 171,
    "start_time": "2025-05-01T23:51:25.453Z"
   },
   {
    "duration": 10,
    "start_time": "2025-05-01T23:51:40.063Z"
   },
   {
    "duration": 288,
    "start_time": "2025-05-01T23:51:45.677Z"
   },
   {
    "duration": 13,
    "start_time": "2025-05-01T23:52:27.000Z"
   },
   {
    "duration": 13,
    "start_time": "2025-05-01T23:52:35.060Z"
   },
   {
    "duration": 12,
    "start_time": "2025-05-01T23:52:42.243Z"
   },
   {
    "duration": 12,
    "start_time": "2025-05-01T23:52:53.296Z"
   },
   {
    "duration": 13,
    "start_time": "2025-05-01T23:53:06.738Z"
   },
   {
    "duration": 131,
    "start_time": "2025-05-01T23:53:11.492Z"
   },
   {
    "duration": 13,
    "start_time": "2025-05-01T23:53:15.391Z"
   },
   {
    "duration": 246,
    "start_time": "2025-05-01T23:53:57.142Z"
   },
   {
    "duration": 205,
    "start_time": "2025-05-01T23:54:29.293Z"
   },
   {
    "duration": 238,
    "start_time": "2025-05-01T23:54:43.142Z"
   },
   {
    "duration": 257,
    "start_time": "2025-05-01T23:54:53.283Z"
   },
   {
    "duration": 235,
    "start_time": "2025-05-01T23:55:13.135Z"
   },
   {
    "duration": 14,
    "start_time": "2025-05-01T23:55:31.323Z"
   },
   {
    "duration": 3,
    "start_time": "2025-05-01T23:55:36.018Z"
   },
   {
    "duration": 398,
    "start_time": "2025-05-01T23:55:36.023Z"
   },
   {
    "duration": 58,
    "start_time": "2025-05-01T23:55:36.423Z"
   },
   {
    "duration": 5,
    "start_time": "2025-05-01T23:55:36.483Z"
   },
   {
    "duration": 158,
    "start_time": "2025-05-01T23:55:36.491Z"
   },
   {
    "duration": 11,
    "start_time": "2025-05-01T23:55:36.651Z"
   },
   {
    "duration": 4,
    "start_time": "2025-05-01T23:55:36.664Z"
   },
   {
    "duration": 4,
    "start_time": "2025-05-01T23:55:36.670Z"
   },
   {
    "duration": 12,
    "start_time": "2025-05-01T23:55:36.675Z"
   },
   {
    "duration": 3,
    "start_time": "2025-05-01T23:55:36.689Z"
   },
   {
    "duration": 57,
    "start_time": "2025-05-01T23:55:36.694Z"
   },
   {
    "duration": 8,
    "start_time": "2025-05-01T23:55:36.752Z"
   },
   {
    "duration": 8,
    "start_time": "2025-05-01T23:55:36.762Z"
   },
   {
    "duration": 11,
    "start_time": "2025-05-01T23:55:36.774Z"
   },
   {
    "duration": 8,
    "start_time": "2025-05-01T23:55:36.787Z"
   },
   {
    "duration": 46,
    "start_time": "2025-05-01T23:55:36.796Z"
   },
   {
    "duration": 136,
    "start_time": "2025-05-01T23:55:36.844Z"
   },
   {
    "duration": 59,
    "start_time": "2025-05-01T23:55:36.982Z"
   },
   {
    "duration": 64,
    "start_time": "2025-05-01T23:55:37.043Z"
   },
   {
    "duration": 60,
    "start_time": "2025-05-01T23:55:37.109Z"
   },
   {
    "duration": 66,
    "start_time": "2025-05-01T23:55:37.171Z"
   },
   {
    "duration": 61,
    "start_time": "2025-05-01T23:55:37.239Z"
   },
   {
    "duration": 102,
    "start_time": "2025-05-01T23:55:37.302Z"
   },
   {
    "duration": 144,
    "start_time": "2025-05-01T23:55:37.405Z"
   },
   {
    "duration": 198,
    "start_time": "2025-05-01T23:55:37.551Z"
   },
   {
    "duration": 156,
    "start_time": "2025-05-01T23:55:37.752Z"
   },
   {
    "duration": 194,
    "start_time": "2025-05-01T23:55:37.910Z"
   },
   {
    "duration": 183,
    "start_time": "2025-05-01T23:55:38.106Z"
   },
   {
    "duration": 9,
    "start_time": "2025-05-01T23:55:38.291Z"
   },
   {
    "duration": 30,
    "start_time": "2025-05-01T23:55:38.302Z"
   },
   {
    "duration": 172,
    "start_time": "2025-05-01T23:55:38.334Z"
   },
   {
    "duration": 31,
    "start_time": "2025-05-01T23:55:38.509Z"
   },
   {
    "duration": 49,
    "start_time": "2025-05-01T23:55:38.542Z"
   },
   {
    "duration": 13,
    "start_time": "2025-05-01T23:55:38.594Z"
   },
   {
    "duration": 228,
    "start_time": "2025-05-01T23:55:38.609Z"
   },
   {
    "duration": 11,
    "start_time": "2025-05-01T23:55:38.839Z"
   },
   {
    "duration": 156,
    "start_time": "2025-05-01T23:55:38.852Z"
   },
   {
    "duration": 11,
    "start_time": "2025-05-01T23:55:39.011Z"
   },
   {
    "duration": 147,
    "start_time": "2025-05-01T23:55:39.032Z"
   },
   {
    "duration": 7,
    "start_time": "2025-05-01T23:55:39.181Z"
   },
   {
    "duration": 11,
    "start_time": "2025-05-01T23:55:39.194Z"
   },
   {
    "duration": 167,
    "start_time": "2025-05-01T23:55:39.206Z"
   },
   {
    "duration": 7,
    "start_time": "2025-05-01T23:55:39.375Z"
   },
   {
    "duration": 12,
    "start_time": "2025-05-01T23:55:39.385Z"
   },
   {
    "duration": 9,
    "start_time": "2025-05-01T23:55:39.399Z"
   },
   {
    "duration": 33,
    "start_time": "2025-05-01T23:55:39.410Z"
   },
   {
    "duration": 402,
    "start_time": "2025-05-01T23:55:39.445Z"
   },
   {
    "duration": 12,
    "start_time": "2025-05-01T23:55:39.848Z"
   },
   {
    "duration": 149,
    "start_time": "2025-05-01T23:55:39.862Z"
   },
   {
    "duration": 186,
    "start_time": "2025-05-01T23:55:40.013Z"
   },
   {
    "duration": 44,
    "start_time": "2025-05-01T23:55:40.201Z"
   },
   {
    "duration": 9,
    "start_time": "2025-05-01T23:55:40.247Z"
   },
   {
    "duration": 162,
    "start_time": "2025-05-01T23:55:40.258Z"
   },
   {
    "duration": 18,
    "start_time": "2025-05-01T23:55:40.422Z"
   },
   {
    "duration": 13,
    "start_time": "2025-05-01T23:55:40.443Z"
   },
   {
    "duration": 225,
    "start_time": "2025-05-01T23:55:40.459Z"
   },
   {
    "duration": 92,
    "start_time": "2025-05-01T23:55:40.686Z"
   },
   {
    "duration": 12,
    "start_time": "2025-05-01T23:58:35.517Z"
   },
   {
    "duration": 26,
    "start_time": "2025-05-01T23:59:08.411Z"
   },
   {
    "duration": 10,
    "start_time": "2025-05-01T23:59:09.518Z"
   },
   {
    "duration": 155,
    "start_time": "2025-05-01T23:59:11.788Z"
   },
   {
    "duration": 12,
    "start_time": "2025-05-01T23:59:15.761Z"
   },
   {
    "duration": 29,
    "start_time": "2025-05-02T00:00:54.202Z"
   },
   {
    "duration": 9,
    "start_time": "2025-05-02T00:01:10.614Z"
   },
   {
    "duration": 5,
    "start_time": "2025-05-02T00:01:26.899Z"
   },
   {
    "duration": 3,
    "start_time": "2025-05-02T00:01:31.689Z"
   },
   {
    "duration": 10,
    "start_time": "2025-05-02T00:02:46.662Z"
   },
   {
    "duration": 5,
    "start_time": "2025-05-02T00:03:34.528Z"
   },
   {
    "duration": 8,
    "start_time": "2025-05-02T00:03:47.497Z"
   },
   {
    "duration": 35,
    "start_time": "2025-05-02T00:04:28.424Z"
   },
   {
    "duration": 106,
    "start_time": "2025-05-02T00:06:10.919Z"
   },
   {
    "duration": 44,
    "start_time": "2025-05-02T00:06:25.291Z"
   },
   {
    "duration": 10,
    "start_time": "2025-05-02T00:06:33.179Z"
   },
   {
    "duration": 5,
    "start_time": "2025-05-02T00:06:47.878Z"
   },
   {
    "duration": 149,
    "start_time": "2025-05-02T00:07:15.775Z"
   },
   {
    "duration": 9,
    "start_time": "2025-05-02T00:07:26.754Z"
   },
   {
    "duration": 6,
    "start_time": "2025-05-02T00:07:33.132Z"
   },
   {
    "duration": 27,
    "start_time": "2025-05-02T00:07:41.211Z"
   },
   {
    "duration": 5,
    "start_time": "2025-05-02T00:07:45.019Z"
   },
   {
    "duration": 7,
    "start_time": "2025-05-02T00:07:49.955Z"
   },
   {
    "duration": 8,
    "start_time": "2025-05-02T00:08:04.485Z"
   },
   {
    "duration": 135,
    "start_time": "2025-05-02T00:08:12.130Z"
   },
   {
    "duration": 9,
    "start_time": "2025-05-02T00:08:19.030Z"
   },
   {
    "duration": 7,
    "start_time": "2025-05-02T00:08:35.908Z"
   },
   {
    "duration": 42,
    "start_time": "2025-05-02T00:08:54.468Z"
   },
   {
    "duration": 49,
    "start_time": "2025-05-02T00:09:58.667Z"
   },
   {
    "duration": 9,
    "start_time": "2025-05-02T00:12:01.450Z"
   },
   {
    "duration": 8,
    "start_time": "2025-05-02T00:12:29.463Z"
   },
   {
    "duration": 8,
    "start_time": "2025-05-02T00:13:43.489Z"
   },
   {
    "duration": 15,
    "start_time": "2025-05-02T00:13:59.903Z"
   },
   {
    "duration": 16,
    "start_time": "2025-05-02T00:14:19.381Z"
   },
   {
    "duration": 6,
    "start_time": "2025-05-02T00:14:45.582Z"
   },
   {
    "duration": 6,
    "start_time": "2025-05-02T00:15:47.845Z"
   },
   {
    "duration": 47,
    "start_time": "2025-05-02T00:15:52.723Z"
   },
   {
    "duration": 5,
    "start_time": "2025-05-02T00:16:02.686Z"
   },
   {
    "duration": 43,
    "start_time": "2025-05-02T00:16:07.079Z"
   },
   {
    "duration": 361,
    "start_time": "2025-05-02T00:17:04.801Z"
   },
   {
    "duration": 298,
    "start_time": "2025-05-02T00:18:41.364Z"
   },
   {
    "duration": 2559,
    "start_time": "2025-05-02T15:38:17.095Z"
   },
   {
    "duration": 448,
    "start_time": "2025-05-02T15:38:19.656Z"
   },
   {
    "duration": 39,
    "start_time": "2025-05-02T15:38:20.106Z"
   },
   {
    "duration": 3,
    "start_time": "2025-05-02T15:38:20.148Z"
   },
   {
    "duration": 148,
    "start_time": "2025-05-02T15:38:20.152Z"
   },
   {
    "duration": 9,
    "start_time": "2025-05-02T15:38:20.302Z"
   },
   {
    "duration": 20,
    "start_time": "2025-05-02T15:38:20.312Z"
   },
   {
    "duration": 5,
    "start_time": "2025-05-02T15:38:20.333Z"
   },
   {
    "duration": 9,
    "start_time": "2025-05-02T15:38:20.340Z"
   },
   {
    "duration": 3,
    "start_time": "2025-05-02T15:38:20.352Z"
   },
   {
    "duration": 16,
    "start_time": "2025-05-02T15:38:20.357Z"
   },
   {
    "duration": 6,
    "start_time": "2025-05-02T15:38:20.375Z"
   },
   {
    "duration": 8,
    "start_time": "2025-05-02T15:38:20.383Z"
   },
   {
    "duration": 48,
    "start_time": "2025-05-02T15:38:20.392Z"
   },
   {
    "duration": 7,
    "start_time": "2025-05-02T15:38:20.442Z"
   },
   {
    "duration": 18,
    "start_time": "2025-05-02T15:38:20.450Z"
   },
   {
    "duration": 143,
    "start_time": "2025-05-02T15:38:20.469Z"
   },
   {
    "duration": 63,
    "start_time": "2025-05-02T15:38:20.614Z"
   },
   {
    "duration": 70,
    "start_time": "2025-05-02T15:38:20.679Z"
   },
   {
    "duration": 47,
    "start_time": "2025-05-02T15:38:20.751Z"
   },
   {
    "duration": 76,
    "start_time": "2025-05-02T15:38:20.800Z"
   },
   {
    "duration": 83,
    "start_time": "2025-05-02T15:38:20.877Z"
   },
   {
    "duration": 77,
    "start_time": "2025-05-02T15:38:20.962Z"
   },
   {
    "duration": 148,
    "start_time": "2025-05-02T15:38:21.041Z"
   },
   {
    "duration": 154,
    "start_time": "2025-05-02T15:38:21.191Z"
   },
   {
    "duration": 159,
    "start_time": "2025-05-02T15:38:21.347Z"
   },
   {
    "duration": 254,
    "start_time": "2025-05-02T15:38:21.507Z"
   },
   {
    "duration": 271,
    "start_time": "2025-05-02T15:38:21.765Z"
   },
   {
    "duration": 9,
    "start_time": "2025-05-02T15:38:22.037Z"
   },
   {
    "duration": 14,
    "start_time": "2025-05-02T15:38:22.048Z"
   },
   {
    "duration": 412,
    "start_time": "2025-05-02T15:38:22.064Z"
   },
   {
    "duration": 79,
    "start_time": "2025-05-02T15:38:22.477Z"
   },
   {
    "duration": 157,
    "start_time": "2025-05-02T15:38:22.558Z"
   },
   {
    "duration": 24,
    "start_time": "2025-05-02T15:38:22.717Z"
   },
   {
    "duration": 194,
    "start_time": "2025-05-02T15:38:22.743Z"
   },
   {
    "duration": 9,
    "start_time": "2025-05-02T15:38:22.939Z"
   },
   {
    "duration": 157,
    "start_time": "2025-05-02T15:38:22.950Z"
   },
   {
    "duration": 11,
    "start_time": "2025-05-02T15:38:23.109Z"
   },
   {
    "duration": 137,
    "start_time": "2025-05-02T15:38:23.132Z"
   },
   {
    "duration": 4,
    "start_time": "2025-05-02T15:38:23.271Z"
   },
   {
    "duration": 10,
    "start_time": "2025-05-02T15:38:23.277Z"
   },
   {
    "duration": 158,
    "start_time": "2025-05-02T15:38:23.289Z"
   },
   {
    "duration": 7,
    "start_time": "2025-05-02T15:38:23.449Z"
   },
   {
    "duration": 11,
    "start_time": "2025-05-02T15:38:23.458Z"
   },
   {
    "duration": 10,
    "start_time": "2025-05-02T15:38:23.471Z"
   },
   {
    "duration": 11,
    "start_time": "2025-05-02T15:38:23.482Z"
   },
   {
    "duration": 213,
    "start_time": "2025-05-02T15:38:23.495Z"
   },
   {
    "duration": 3,
    "start_time": "2025-05-02T15:38:23.710Z"
   },
   {
    "duration": 147,
    "start_time": "2025-05-02T15:38:23.715Z"
   },
   {
    "duration": 220,
    "start_time": "2025-05-02T15:38:23.864Z"
   },
   {
    "duration": 27,
    "start_time": "2025-05-02T15:38:24.086Z"
   },
   {
    "duration": 27,
    "start_time": "2025-05-02T15:38:24.115Z"
   },
   {
    "duration": 194,
    "start_time": "2025-05-02T15:38:24.145Z"
   },
   {
    "duration": 5,
    "start_time": "2025-05-02T15:38:24.342Z"
   },
   {
    "duration": 6,
    "start_time": "2025-05-02T15:38:24.349Z"
   },
   {
    "duration": 1062,
    "start_time": "2025-05-02T15:38:24.357Z"
   },
   {
    "duration": 0,
    "start_time": "2025-05-02T15:38:25.431Z"
   },
   {
    "duration": 2542,
    "start_time": "2025-05-02T19:34:41.280Z"
   },
   {
    "duration": 422,
    "start_time": "2025-05-02T19:34:43.824Z"
   },
   {
    "duration": 42,
    "start_time": "2025-05-02T19:34:44.248Z"
   },
   {
    "duration": 3,
    "start_time": "2025-05-02T19:34:44.293Z"
   },
   {
    "duration": 147,
    "start_time": "2025-05-02T19:34:44.298Z"
   },
   {
    "duration": 10,
    "start_time": "2025-05-02T19:34:44.447Z"
   },
   {
    "duration": 4,
    "start_time": "2025-05-02T19:34:44.459Z"
   },
   {
    "duration": 4,
    "start_time": "2025-05-02T19:34:44.465Z"
   },
   {
    "duration": 9,
    "start_time": "2025-05-02T19:34:44.471Z"
   },
   {
    "duration": 3,
    "start_time": "2025-05-02T19:34:44.483Z"
   },
   {
    "duration": 46,
    "start_time": "2025-05-02T19:34:44.487Z"
   },
   {
    "duration": 6,
    "start_time": "2025-05-02T19:34:44.535Z"
   },
   {
    "duration": 8,
    "start_time": "2025-05-02T19:34:44.543Z"
   },
   {
    "duration": 9,
    "start_time": "2025-05-02T19:34:44.553Z"
   },
   {
    "duration": 7,
    "start_time": "2025-05-02T19:34:44.564Z"
   },
   {
    "duration": 55,
    "start_time": "2025-05-02T19:34:44.573Z"
   },
   {
    "duration": 129,
    "start_time": "2025-05-02T19:34:44.630Z"
   },
   {
    "duration": 63,
    "start_time": "2025-05-02T19:34:44.761Z"
   },
   {
    "duration": 61,
    "start_time": "2025-05-02T19:34:44.826Z"
   },
   {
    "duration": 56,
    "start_time": "2025-05-02T19:34:44.889Z"
   },
   {
    "duration": 58,
    "start_time": "2025-05-02T19:34:44.947Z"
   },
   {
    "duration": 76,
    "start_time": "2025-05-02T19:34:45.007Z"
   },
   {
    "duration": 80,
    "start_time": "2025-05-02T19:34:45.085Z"
   },
   {
    "duration": 143,
    "start_time": "2025-05-02T19:34:45.167Z"
   },
   {
    "duration": 147,
    "start_time": "2025-05-02T19:34:45.312Z"
   },
   {
    "duration": 150,
    "start_time": "2025-05-02T19:34:45.461Z"
   },
   {
    "duration": 218,
    "start_time": "2025-05-02T19:34:45.613Z"
   },
   {
    "duration": 173,
    "start_time": "2025-05-02T19:34:45.835Z"
   },
   {
    "duration": 11,
    "start_time": "2025-05-02T19:34:46.010Z"
   },
   {
    "duration": 13,
    "start_time": "2025-05-02T19:34:46.023Z"
   },
   {
    "duration": 194,
    "start_time": "2025-05-02T19:34:46.038Z"
   },
   {
    "duration": 25,
    "start_time": "2025-05-02T19:34:46.234Z"
   },
   {
    "duration": 103,
    "start_time": "2025-05-02T19:34:46.261Z"
   },
   {
    "duration": 12,
    "start_time": "2025-05-02T19:34:46.366Z"
   },
   {
    "duration": 173,
    "start_time": "2025-05-02T19:34:46.380Z"
   },
   {
    "duration": 10,
    "start_time": "2025-05-02T19:34:46.555Z"
   },
   {
    "duration": 153,
    "start_time": "2025-05-02T19:34:46.566Z"
   },
   {
    "duration": 10,
    "start_time": "2025-05-02T19:34:46.722Z"
   },
   {
    "duration": 144,
    "start_time": "2025-05-02T19:34:46.733Z"
   },
   {
    "duration": 3,
    "start_time": "2025-05-02T19:34:46.879Z"
   },
   {
    "duration": 9,
    "start_time": "2025-05-02T19:34:46.884Z"
   },
   {
    "duration": 158,
    "start_time": "2025-05-02T19:34:46.895Z"
   },
   {
    "duration": 7,
    "start_time": "2025-05-02T19:34:47.055Z"
   },
   {
    "duration": 11,
    "start_time": "2025-05-02T19:34:47.064Z"
   },
   {
    "duration": 9,
    "start_time": "2025-05-02T19:34:47.077Z"
   },
   {
    "duration": 39,
    "start_time": "2025-05-02T19:34:47.088Z"
   },
   {
    "duration": 183,
    "start_time": "2025-05-02T19:34:47.129Z"
   },
   {
    "duration": 7,
    "start_time": "2025-05-02T19:34:47.314Z"
   },
   {
    "duration": 137,
    "start_time": "2025-05-02T19:34:47.322Z"
   },
   {
    "duration": 208,
    "start_time": "2025-05-02T19:34:47.461Z"
   },
   {
    "duration": 32,
    "start_time": "2025-05-02T19:34:47.671Z"
   },
   {
    "duration": 22,
    "start_time": "2025-05-02T19:34:47.704Z"
   },
   {
    "duration": 154,
    "start_time": "2025-05-02T19:34:47.727Z"
   },
   {
    "duration": 5,
    "start_time": "2025-05-02T19:34:47.883Z"
   },
   {
    "duration": 5,
    "start_time": "2025-05-02T19:34:47.889Z"
   },
   {
    "duration": 561,
    "start_time": "2025-05-02T19:34:47.897Z"
   },
   {
    "duration": 0,
    "start_time": "2025-05-02T19:34:48.460Z"
   },
   {
    "duration": 49,
    "start_time": "2025-05-02T19:38:54.874Z"
   },
   {
    "duration": 49,
    "start_time": "2025-05-02T19:39:02.923Z"
   },
   {
    "duration": 48,
    "start_time": "2025-05-02T19:40:06.367Z"
   },
   {
    "duration": 238,
    "start_time": "2025-05-02T19:42:03.137Z"
   },
   {
    "duration": 143,
    "start_time": "2025-05-02T19:42:33.818Z"
   },
   {
    "duration": 136,
    "start_time": "2025-05-02T19:44:28.238Z"
   },
   {
    "duration": 130,
    "start_time": "2025-05-02T19:44:36.626Z"
   },
   {
    "duration": 128,
    "start_time": "2025-05-02T19:58:23.045Z"
   },
   {
    "duration": 133,
    "start_time": "2025-05-02T19:58:27.829Z"
   },
   {
    "duration": 143,
    "start_time": "2025-05-02T19:58:35.565Z"
   },
   {
    "duration": 140,
    "start_time": "2025-05-02T19:59:07.462Z"
   },
   {
    "duration": 8,
    "start_time": "2025-05-02T19:59:38.306Z"
   },
   {
    "duration": 202,
    "start_time": "2025-05-02T19:59:42.826Z"
   },
   {
    "duration": 374,
    "start_time": "2025-05-02T19:59:51.580Z"
   },
   {
    "duration": 10,
    "start_time": "2025-05-02T20:42:16.957Z"
   },
   {
    "duration": 12,
    "start_time": "2025-05-02T21:00:48.662Z"
   },
   {
    "duration": 416,
    "start_time": "2025-05-02T21:01:58.371Z"
   },
   {
    "duration": 41,
    "start_time": "2025-05-02T21:02:11.824Z"
   },
   {
    "duration": 24,
    "start_time": "2025-05-02T21:02:17.331Z"
   },
   {
    "duration": 18,
    "start_time": "2025-05-02T21:02:44.318Z"
   },
   {
    "duration": 12,
    "start_time": "2025-05-02T21:03:23.534Z"
   },
   {
    "duration": 11,
    "start_time": "2025-05-02T21:03:32.220Z"
   },
   {
    "duration": 11,
    "start_time": "2025-05-02T21:04:04.510Z"
   },
   {
    "duration": 44,
    "start_time": "2025-05-02T21:05:45.902Z"
   },
   {
    "duration": 13,
    "start_time": "2025-05-02T21:05:57.138Z"
   },
   {
    "duration": 203,
    "start_time": "2025-05-02T21:06:33.812Z"
   },
   {
    "duration": 13,
    "start_time": "2025-05-02T21:06:48.742Z"
   },
   {
    "duration": 17,
    "start_time": "2025-05-02T21:06:58.474Z"
   },
   {
    "duration": 16,
    "start_time": "2025-05-02T21:08:04.463Z"
   },
   {
    "duration": 18,
    "start_time": "2025-05-02T21:08:40.214Z"
   },
   {
    "duration": 15,
    "start_time": "2025-05-02T21:09:40.329Z"
   },
   {
    "duration": 10,
    "start_time": "2025-05-02T21:10:24.005Z"
   },
   {
    "duration": 12,
    "start_time": "2025-05-02T21:11:45.195Z"
   },
   {
    "duration": 2137,
    "start_time": "2025-05-02T21:14:14.267Z"
   },
   {
    "duration": 2173,
    "start_time": "2025-05-02T21:15:05.200Z"
   },
   {
    "duration": 12,
    "start_time": "2025-05-02T21:18:50.399Z"
   },
   {
    "duration": 21,
    "start_time": "2025-05-02T21:18:55.905Z"
   },
   {
    "duration": 61,
    "start_time": "2025-05-02T21:20:42.286Z"
   },
   {
    "duration": 50,
    "start_time": "2025-05-02T21:20:53.100Z"
   },
   {
    "duration": 41,
    "start_time": "2025-05-02T21:21:15.975Z"
   },
   {
    "duration": 77,
    "start_time": "2025-05-02T21:21:43.622Z"
   },
   {
    "duration": 11,
    "start_time": "2025-05-02T21:21:53.677Z"
   },
   {
    "duration": 9,
    "start_time": "2025-05-02T21:22:02.129Z"
   },
   {
    "duration": 20,
    "start_time": "2025-05-02T21:22:41.897Z"
   },
   {
    "duration": 1102,
    "start_time": "2025-05-02T21:22:49.927Z"
   },
   {
    "duration": 31,
    "start_time": "2025-05-02T21:23:57.936Z"
   },
   {
    "duration": 16,
    "start_time": "2025-05-02T21:24:28.540Z"
   },
   {
    "duration": 13,
    "start_time": "2025-05-02T21:24:36.639Z"
   },
   {
    "duration": 23,
    "start_time": "2025-05-02T21:24:44.144Z"
   },
   {
    "duration": 2095,
    "start_time": "2025-05-02T21:24:47.556Z"
   },
   {
    "duration": 20,
    "start_time": "2025-05-02T23:19:00.015Z"
   },
   {
    "duration": 194,
    "start_time": "2025-05-02T23:19:38.764Z"
   },
   {
    "duration": 1294,
    "start_time": "2025-05-02T23:19:52.519Z"
   },
   {
    "duration": 965,
    "start_time": "2025-05-02T23:20:04.343Z"
   },
   {
    "duration": 1074,
    "start_time": "2025-05-02T23:20:21.070Z"
   },
   {
    "duration": 481,
    "start_time": "2025-05-02T23:20:35.329Z"
   },
   {
    "duration": 1507,
    "start_time": "2025-05-02T23:20:49.472Z"
   },
   {
    "duration": 813,
    "start_time": "2025-05-02T23:21:47.248Z"
   },
   {
    "duration": 4358,
    "start_time": "2025-05-02T23:22:53.425Z"
   },
   {
    "duration": 2544,
    "start_time": "2025-05-08T22:13:35.957Z"
   },
   {
    "duration": 438,
    "start_time": "2025-05-08T22:13:38.504Z"
   },
   {
    "duration": 51,
    "start_time": "2025-05-08T22:13:38.944Z"
   },
   {
    "duration": 6,
    "start_time": "2025-05-08T22:13:38.997Z"
   },
   {
    "duration": 145,
    "start_time": "2025-05-08T22:13:39.005Z"
   },
   {
    "duration": 10,
    "start_time": "2025-05-08T22:13:39.151Z"
   },
   {
    "duration": 4,
    "start_time": "2025-05-08T22:13:39.163Z"
   },
   {
    "duration": 4,
    "start_time": "2025-05-08T22:13:39.169Z"
   },
   {
    "duration": 10,
    "start_time": "2025-05-08T22:13:39.175Z"
   },
   {
    "duration": 4,
    "start_time": "2025-05-08T22:13:39.188Z"
   },
   {
    "duration": 54,
    "start_time": "2025-05-08T22:13:39.194Z"
   },
   {
    "duration": 7,
    "start_time": "2025-05-08T22:13:39.250Z"
   },
   {
    "duration": 9,
    "start_time": "2025-05-08T22:13:39.259Z"
   },
   {
    "duration": 9,
    "start_time": "2025-05-08T22:13:39.270Z"
   },
   {
    "duration": 8,
    "start_time": "2025-05-08T22:13:39.281Z"
   },
   {
    "duration": 19,
    "start_time": "2025-05-08T22:13:39.290Z"
   },
   {
    "duration": 133,
    "start_time": "2025-05-08T22:13:39.343Z"
   },
   {
    "duration": 67,
    "start_time": "2025-05-08T22:13:39.478Z"
   },
   {
    "duration": 65,
    "start_time": "2025-05-08T22:13:39.547Z"
   },
   {
    "duration": 68,
    "start_time": "2025-05-08T22:13:39.614Z"
   },
   {
    "duration": 74,
    "start_time": "2025-05-08T22:13:39.684Z"
   },
   {
    "duration": 85,
    "start_time": "2025-05-08T22:13:39.759Z"
   },
   {
    "duration": 72,
    "start_time": "2025-05-08T22:13:39.846Z"
   },
   {
    "duration": 169,
    "start_time": "2025-05-08T22:13:39.920Z"
   },
   {
    "duration": 160,
    "start_time": "2025-05-08T22:13:40.092Z"
   },
   {
    "duration": 159,
    "start_time": "2025-05-08T22:13:40.254Z"
   },
   {
    "duration": 232,
    "start_time": "2025-05-08T22:13:40.415Z"
   },
   {
    "duration": 178,
    "start_time": "2025-05-08T22:13:40.652Z"
   },
   {
    "duration": 12,
    "start_time": "2025-05-08T22:13:40.832Z"
   },
   {
    "duration": 14,
    "start_time": "2025-05-08T22:13:40.846Z"
   },
   {
    "duration": 197,
    "start_time": "2025-05-08T22:13:40.861Z"
   },
   {
    "duration": 24,
    "start_time": "2025-05-08T22:13:41.060Z"
   },
   {
    "duration": 59,
    "start_time": "2025-05-08T22:13:41.086Z"
   },
   {
    "duration": 13,
    "start_time": "2025-05-08T22:13:41.147Z"
   },
   {
    "duration": 169,
    "start_time": "2025-05-08T22:13:41.161Z"
   },
   {
    "duration": 16,
    "start_time": "2025-05-08T22:13:41.332Z"
   },
   {
    "duration": 217,
    "start_time": "2025-05-08T22:13:41.350Z"
   },
   {
    "duration": 12,
    "start_time": "2025-05-08T22:13:41.570Z"
   },
   {
    "duration": 146,
    "start_time": "2025-05-08T22:13:41.584Z"
   },
   {
    "duration": 12,
    "start_time": "2025-05-08T22:13:41.732Z"
   },
   {
    "duration": 13,
    "start_time": "2025-05-08T22:13:41.748Z"
   },
   {
    "duration": 158,
    "start_time": "2025-05-08T22:13:41.763Z"
   },
   {
    "duration": 21,
    "start_time": "2025-05-08T22:13:41.923Z"
   },
   {
    "duration": 18,
    "start_time": "2025-05-08T22:13:41.946Z"
   },
   {
    "duration": 9,
    "start_time": "2025-05-08T22:13:41.966Z"
   },
   {
    "duration": 10,
    "start_time": "2025-05-08T22:13:41.977Z"
   },
   {
    "duration": 7,
    "start_time": "2025-05-08T22:13:41.989Z"
   },
   {
    "duration": 7,
    "start_time": "2025-05-08T22:13:41.998Z"
   },
   {
    "duration": 17,
    "start_time": "2025-05-08T22:13:42.042Z"
   },
   {
    "duration": 5,
    "start_time": "2025-05-08T22:13:46.832Z"
   },
   {
    "duration": 7,
    "start_time": "2025-05-08T22:14:14.253Z"
   },
   {
    "duration": 5,
    "start_time": "2025-05-08T22:15:49.338Z"
   },
   {
    "duration": 7,
    "start_time": "2025-05-08T22:15:58.434Z"
   },
   {
    "duration": 485,
    "start_time": "2025-05-08T22:16:58.848Z"
   },
   {
    "duration": 11,
    "start_time": "2025-05-08T22:18:25.780Z"
   },
   {
    "duration": 10,
    "start_time": "2025-05-08T22:18:44.053Z"
   },
   {
    "duration": 18,
    "start_time": "2025-05-08T22:21:33.791Z"
   },
   {
    "duration": 19,
    "start_time": "2025-05-08T22:21:46.088Z"
   },
   {
    "duration": 556,
    "start_time": "2025-05-08T22:22:00.180Z"
   },
   {
    "duration": 508,
    "start_time": "2025-05-08T22:22:19.487Z"
   },
   {
    "duration": 468,
    "start_time": "2025-05-08T22:22:48.786Z"
   },
   {
    "duration": 9,
    "start_time": "2025-05-08T22:23:14.536Z"
   },
   {
    "duration": 18,
    "start_time": "2025-05-08T22:23:15.146Z"
   },
   {
    "duration": 515,
    "start_time": "2025-05-08T22:23:15.935Z"
   },
   {
    "duration": 5,
    "start_time": "2025-05-08T22:27:24.335Z"
   },
   {
    "duration": 4,
    "start_time": "2025-05-08T22:27:29.154Z"
   },
   {
    "duration": 16,
    "start_time": "2025-05-08T22:28:37.848Z"
   },
   {
    "duration": 18,
    "start_time": "2025-05-08T22:28:45.546Z"
   },
   {
    "duration": 338,
    "start_time": "2025-05-08T22:28:52.441Z"
   },
   {
    "duration": 2,
    "start_time": "2025-05-08T22:30:11.187Z"
   },
   {
    "duration": 2,
    "start_time": "2025-05-08T22:30:19.395Z"
   },
   {
    "duration": 22,
    "start_time": "2025-05-08T22:30:56.739Z"
   },
   {
    "duration": 9,
    "start_time": "2025-05-08T22:32:26.585Z"
   },
   {
    "duration": 12,
    "start_time": "2025-05-08T22:32:28.435Z"
   },
   {
    "duration": 8,
    "start_time": "2025-05-08T22:32:45.462Z"
   },
   {
    "duration": 20,
    "start_time": "2025-05-08T22:32:50.386Z"
   },
   {
    "duration": 632,
    "start_time": "2025-05-08T22:32:55.537Z"
   },
   {
    "duration": 21,
    "start_time": "2025-05-08T22:33:07.745Z"
   },
   {
    "duration": 943,
    "start_time": "2025-05-08T22:33:08.589Z"
   },
   {
    "duration": 879,
    "start_time": "2025-05-08T22:33:17.834Z"
   },
   {
    "duration": 920,
    "start_time": "2025-05-08T22:33:30.263Z"
   },
   {
    "duration": 400,
    "start_time": "2025-05-08T22:34:01.137Z"
   },
   {
    "duration": 31,
    "start_time": "2025-05-08T22:34:06.735Z"
   },
   {
    "duration": 2,
    "start_time": "2025-05-08T22:34:15.343Z"
   },
   {
    "duration": 379,
    "start_time": "2025-05-08T22:34:15.348Z"
   },
   {
    "duration": 40,
    "start_time": "2025-05-08T22:34:15.729Z"
   },
   {
    "duration": 3,
    "start_time": "2025-05-08T22:34:15.771Z"
   },
   {
    "duration": 142,
    "start_time": "2025-05-08T22:34:15.777Z"
   },
   {
    "duration": 7,
    "start_time": "2025-05-08T22:34:15.921Z"
   },
   {
    "duration": 4,
    "start_time": "2025-05-08T22:34:15.943Z"
   },
   {
    "duration": 4,
    "start_time": "2025-05-08T22:34:15.948Z"
   },
   {
    "duration": 10,
    "start_time": "2025-05-08T22:34:15.954Z"
   },
   {
    "duration": 4,
    "start_time": "2025-05-08T22:34:15.965Z"
   },
   {
    "duration": 14,
    "start_time": "2025-05-08T22:34:15.971Z"
   },
   {
    "duration": 6,
    "start_time": "2025-05-08T22:34:15.987Z"
   },
   {
    "duration": 8,
    "start_time": "2025-05-08T22:34:15.995Z"
   },
   {
    "duration": 9,
    "start_time": "2025-05-08T22:34:16.043Z"
   },
   {
    "duration": 6,
    "start_time": "2025-05-08T22:34:16.054Z"
   },
   {
    "duration": 15,
    "start_time": "2025-05-08T22:34:16.062Z"
   },
   {
    "duration": 140,
    "start_time": "2025-05-08T22:34:16.079Z"
   },
   {
    "duration": 60,
    "start_time": "2025-05-08T22:34:16.221Z"
   },
   {
    "duration": 65,
    "start_time": "2025-05-08T22:34:16.283Z"
   },
   {
    "duration": 46,
    "start_time": "2025-05-08T22:34:16.350Z"
   },
   {
    "duration": 78,
    "start_time": "2025-05-08T22:34:16.398Z"
   },
   {
    "duration": 76,
    "start_time": "2025-05-08T22:34:16.478Z"
   },
   {
    "duration": 66,
    "start_time": "2025-05-08T22:34:16.556Z"
   },
   {
    "duration": 150,
    "start_time": "2025-05-08T22:34:16.624Z"
   },
   {
    "duration": 149,
    "start_time": "2025-05-08T22:34:16.776Z"
   },
   {
    "duration": 161,
    "start_time": "2025-05-08T22:34:16.928Z"
   },
   {
    "duration": 207,
    "start_time": "2025-05-08T22:34:17.090Z"
   },
   {
    "duration": 174,
    "start_time": "2025-05-08T22:34:17.300Z"
   },
   {
    "duration": 7,
    "start_time": "2025-05-08T22:34:17.476Z"
   },
   {
    "duration": 14,
    "start_time": "2025-05-08T22:34:17.484Z"
   },
   {
    "duration": 199,
    "start_time": "2025-05-08T22:34:17.499Z"
   },
   {
    "duration": 26,
    "start_time": "2025-05-08T22:34:17.700Z"
   },
   {
    "duration": 53,
    "start_time": "2025-05-08T22:34:17.728Z"
   },
   {
    "duration": 131,
    "start_time": "2025-05-08T22:34:17.785Z"
   },
   {
    "duration": 168,
    "start_time": "2025-05-08T22:34:17.918Z"
   },
   {
    "duration": 9,
    "start_time": "2025-05-08T22:34:18.088Z"
   },
   {
    "duration": 151,
    "start_time": "2025-05-08T22:34:18.100Z"
   },
   {
    "duration": 9,
    "start_time": "2025-05-08T22:34:18.253Z"
   },
   {
    "duration": 148,
    "start_time": "2025-05-08T22:34:18.264Z"
   },
   {
    "duration": 3,
    "start_time": "2025-05-08T22:34:18.414Z"
   },
   {
    "duration": 22,
    "start_time": "2025-05-08T22:34:18.421Z"
   },
   {
    "duration": 149,
    "start_time": "2025-05-08T22:34:18.445Z"
   },
   {
    "duration": 12,
    "start_time": "2025-05-08T22:34:18.596Z"
   },
   {
    "duration": 33,
    "start_time": "2025-05-08T22:34:18.610Z"
   },
   {
    "duration": 9,
    "start_time": "2025-05-08T22:34:18.645Z"
   },
   {
    "duration": 11,
    "start_time": "2025-05-08T22:34:23.137Z"
   },
   {
    "duration": 8,
    "start_time": "2025-05-08T22:34:24.383Z"
   },
   {
    "duration": 9,
    "start_time": "2025-05-08T22:34:25.286Z"
   },
   {
    "duration": 21,
    "start_time": "2025-05-08T22:34:26.434Z"
   },
   {
    "duration": 867,
    "start_time": "2025-05-08T22:34:27.388Z"
   },
   {
    "duration": 10,
    "start_time": "2025-05-08T22:37:16.536Z"
   },
   {
    "duration": 12,
    "start_time": "2025-05-08T22:37:29.635Z"
   },
   {
    "duration": 150,
    "start_time": "2025-05-08T22:37:58.936Z"
   },
   {
    "duration": 13,
    "start_time": "2025-05-08T22:39:04.577Z"
   },
   {
    "duration": 156,
    "start_time": "2025-05-08T22:39:05.688Z"
   },
   {
    "duration": 263,
    "start_time": "2025-05-08T22:39:58.482Z"
   },
   {
    "duration": 185,
    "start_time": "2025-05-08T22:40:30.837Z"
   },
   {
    "duration": 187,
    "start_time": "2025-05-08T22:40:40.336Z"
   }
  ],
  "kernelspec": {
   "display_name": "Python 3 (ipykernel)",
   "language": "python",
   "name": "python3"
  },
  "language_info": {
   "codemirror_mode": {
    "name": "ipython",
    "version": 3
   },
   "file_extension": ".py",
   "mimetype": "text/x-python",
   "name": "python",
   "nbconvert_exporter": "python",
   "pygments_lexer": "ipython3",
   "version": "3.9.19"
  },
  "toc": {
   "base_numbering": 1,
   "nav_menu": {},
   "number_sections": true,
   "sideBar": true,
   "skip_h1_title": true,
   "title_cell": "Table of Contents",
   "title_sidebar": "Contents",
   "toc_cell": false,
   "toc_position": {},
   "toc_section_display": true,
   "toc_window_display": false
  }
 },
 "nbformat": 4,
 "nbformat_minor": 2
}
